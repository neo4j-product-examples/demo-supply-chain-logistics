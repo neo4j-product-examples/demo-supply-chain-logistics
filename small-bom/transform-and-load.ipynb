{
 "cells": [
  {
   "cell_type": "code",
   "execution_count": 23,
   "metadata": {
    "collapsed": true
   },
   "outputs": [],
   "source": [
    "import pandas as pd\n",
    "import configparser\n",
    "import os\n",
    "import xlrd"
   ]
  },
  {
   "cell_type": "code",
   "execution_count": 24,
   "outputs": [],
   "source": [
    "config = configparser.RawConfigParser()\n",
    "config.read('/Users/zachblumenfeld/devtools/msom-demo.ini')\n",
    "HOST = config['NEO4J']['HOST']\n",
    "USERNAME = config['NEO4J']['USERNAME']\n",
    "PASSWORD = config['NEO4J']['PASSWORD']"
   ],
   "metadata": {
    "collapsed": false,
    "pycharm": {
     "name": "#%%\n"
    }
   }
  },
  {
   "cell_type": "code",
   "execution_count": 25,
   "outputs": [],
   "source": [
    "from graphdatascience import GraphDataScience\n",
    "\n",
    "# Use Neo4j URI and credentials according to your setup\n",
    "gds = GraphDataScience(HOST, auth=(USERNAME, PASSWORD), aura_ds=True)"
   ],
   "metadata": {
    "collapsed": false,
    "pycharm": {
     "name": "#%%\n"
    }
   }
  },
  {
   "cell_type": "code",
   "execution_count": 26,
   "outputs": [],
   "source": [
    "# get source data from:\n",
    "# https://pubsonline.informs.org/doi/suppl/10.1287/msom.1070.0176/suppl_file/msom.1070.0176-sm-datainexcel.zip\n",
    "xls = pd.ExcelFile('./data/MSOM-06-038-R2 Data Set in Excel.xls')"
   ],
   "metadata": {
    "collapsed": false,
    "pycharm": {
     "name": "#%%\n"
    }
   }
  },
  {
   "cell_type": "code",
   "execution_count": 27,
   "outputs": [],
   "source": [
    "arc_dfs = []\n",
    "stage_dfs = []\n",
    "for sheet_name in xls.sheet_names:\n",
    "    if sheet_name[-2:] == 'LL':\n",
    "        df = xls.parse(sheet_name)\n",
    "        df['chainId'] = int(sheet_name[:2])\n",
    "        df['sourceStageId'] = sheet_name[:2] + '_' + df['sourceStage']\n",
    "        df['destinationStageId'] = sheet_name[:2] + '_' + df['destinationStage']\n",
    "        arc_dfs.append(df)\n",
    "    elif sheet_name[-2:] == 'SD':\n",
    "        df = xls.parse(sheet_name)\n",
    "        df['chainId'] = int(sheet_name[:2])\n",
    "        df['stageId'] = sheet_name[:2] + '_' + df['Stage Name']\n",
    "        stage_dfs.append(df)\n"
   ],
   "metadata": {
    "collapsed": false,
    "pycharm": {
     "name": "#%%\n"
    }
   }
  },
  {
   "cell_type": "code",
   "execution_count": 28,
   "outputs": [
    {
     "data": {
      "text/plain": "      sourceStage destinationStage  chainId  sourceStageId destinationStageId\n0      Manuf_0001      Retail_0001        1  01_Manuf_0001     01_Retail_0001\n1      Manuf_0001      Retail_0002        1  01_Manuf_0001     01_Retail_0002\n2      Manuf_0002      Retail_0002        1  01_Manuf_0002     01_Retail_0002\n3      Manuf_0002      Retail_0003        1  01_Manuf_0002     01_Retail_0003\n4       Part_0001       Manuf_0001        1   01_Part_0001      01_Manuf_0001\n...           ...              ...      ...            ...                ...\n16220  Trans_0555      Retail_0555       38  38_Trans_0555     38_Retail_0555\n16221  Trans_0556      Retail_0556       38  38_Trans_0556     38_Retail_0556\n16222  Trans_0557      Retail_0557       38  38_Trans_0557     38_Retail_0557\n16223  Trans_0558      Retail_0558       38  38_Trans_0558     38_Retail_0558\n16224  Trans_0559      Retail_0559       38  38_Trans_0559     38_Retail_0559\n\n[43589 rows x 5 columns]",
      "text/html": "<div>\n<style scoped>\n    .dataframe tbody tr th:only-of-type {\n        vertical-align: middle;\n    }\n\n    .dataframe tbody tr th {\n        vertical-align: top;\n    }\n\n    .dataframe thead th {\n        text-align: right;\n    }\n</style>\n<table border=\"1\" class=\"dataframe\">\n  <thead>\n    <tr style=\"text-align: right;\">\n      <th></th>\n      <th>sourceStage</th>\n      <th>destinationStage</th>\n      <th>chainId</th>\n      <th>sourceStageId</th>\n      <th>destinationStageId</th>\n    </tr>\n  </thead>\n  <tbody>\n    <tr>\n      <th>0</th>\n      <td>Manuf_0001</td>\n      <td>Retail_0001</td>\n      <td>1</td>\n      <td>01_Manuf_0001</td>\n      <td>01_Retail_0001</td>\n    </tr>\n    <tr>\n      <th>1</th>\n      <td>Manuf_0001</td>\n      <td>Retail_0002</td>\n      <td>1</td>\n      <td>01_Manuf_0001</td>\n      <td>01_Retail_0002</td>\n    </tr>\n    <tr>\n      <th>2</th>\n      <td>Manuf_0002</td>\n      <td>Retail_0002</td>\n      <td>1</td>\n      <td>01_Manuf_0002</td>\n      <td>01_Retail_0002</td>\n    </tr>\n    <tr>\n      <th>3</th>\n      <td>Manuf_0002</td>\n      <td>Retail_0003</td>\n      <td>1</td>\n      <td>01_Manuf_0002</td>\n      <td>01_Retail_0003</td>\n    </tr>\n    <tr>\n      <th>4</th>\n      <td>Part_0001</td>\n      <td>Manuf_0001</td>\n      <td>1</td>\n      <td>01_Part_0001</td>\n      <td>01_Manuf_0001</td>\n    </tr>\n    <tr>\n      <th>...</th>\n      <td>...</td>\n      <td>...</td>\n      <td>...</td>\n      <td>...</td>\n      <td>...</td>\n    </tr>\n    <tr>\n      <th>16220</th>\n      <td>Trans_0555</td>\n      <td>Retail_0555</td>\n      <td>38</td>\n      <td>38_Trans_0555</td>\n      <td>38_Retail_0555</td>\n    </tr>\n    <tr>\n      <th>16221</th>\n      <td>Trans_0556</td>\n      <td>Retail_0556</td>\n      <td>38</td>\n      <td>38_Trans_0556</td>\n      <td>38_Retail_0556</td>\n    </tr>\n    <tr>\n      <th>16222</th>\n      <td>Trans_0557</td>\n      <td>Retail_0557</td>\n      <td>38</td>\n      <td>38_Trans_0557</td>\n      <td>38_Retail_0557</td>\n    </tr>\n    <tr>\n      <th>16223</th>\n      <td>Trans_0558</td>\n      <td>Retail_0558</td>\n      <td>38</td>\n      <td>38_Trans_0558</td>\n      <td>38_Retail_0558</td>\n    </tr>\n    <tr>\n      <th>16224</th>\n      <td>Trans_0559</td>\n      <td>Retail_0559</td>\n      <td>38</td>\n      <td>38_Trans_0559</td>\n      <td>38_Retail_0559</td>\n    </tr>\n  </tbody>\n</table>\n<p>43589 rows × 5 columns</p>\n</div>"
     },
     "execution_count": 28,
     "metadata": {},
     "output_type": "execute_result"
    }
   ],
   "source": [
    "arc_df = pd.concat(arc_dfs)\n",
    "arc_df"
   ],
   "metadata": {
    "collapsed": false,
    "pycharm": {
     "name": "#%%\n"
    }
   }
  },
  {
   "cell_type": "code",
   "execution_count": 29,
   "outputs": [
    {
     "data": {
      "text/plain": "       stageName  stageCost  relDepth stageClassification  avgDemand  \\\n0     Manuf_0001      39.00         1               Manuf        NaN   \n1     Manuf_0002      36.00         1               Manuf        NaN   \n2      Part_0001      12.00         2                Part        NaN   \n3      Part_0002       5.00         2                Part        NaN   \n4      Part_0003       9.00         2                Part        NaN   \n...          ...        ...       ...                 ...        ...   \n2020  Trans_0555       0.44         1               Trans        NaN   \n2021  Trans_0556       0.45         1               Trans        NaN   \n2022  Trans_0557       0.38         1               Trans        NaN   \n2023  Trans_0558       0.38         1               Trans        NaN   \n2024  Trans_0559       0.46         1               Trans        NaN   \n\n      stdDevDemand  maxServiceTime  serviceLevel  stageTime  stdDevStageTime  \\\n0              NaN             NaN           NaN       10.0              NaN   \n1              NaN             NaN           NaN       10.0              NaN   \n2              NaN             NaN           NaN       28.0        11.224972   \n3              NaN             NaN           NaN       15.0              NaN   \n4              NaN             NaN           NaN       10.0              NaN   \n...            ...             ...           ...        ...              ...   \n2020           NaN             NaN           NaN        6.0              NaN   \n2021           NaN             NaN           NaN        6.0              NaN   \n2022           NaN             NaN           NaN        6.0              NaN   \n2023           NaN             NaN           NaN        6.0              NaN   \n2024           NaN             NaN           NaN        6.0              NaN   \n\n      ...  stageTime4  stageTimePerc4  stageTime5  stageTimePerc5  stageTime6  \\\n0     ...         NaN             NaN         NaN             NaN         NaN   \n1     ...         NaN             NaN         NaN             NaN         NaN   \n2     ...         NaN             NaN         NaN             NaN         NaN   \n3     ...         NaN             NaN         NaN             NaN         NaN   \n4     ...         NaN             NaN         NaN             NaN         NaN   \n...   ...         ...             ...         ...             ...         ...   \n2020  ...         NaN             NaN         NaN             NaN         NaN   \n2021  ...         NaN             NaN         NaN             NaN         NaN   \n2022  ...         NaN             NaN         NaN             NaN         NaN   \n2023  ...         NaN             NaN         NaN             NaN         NaN   \n2024  ...         NaN             NaN         NaN             NaN         NaN   \n\n      stageTimePerc6  xPosition  yPosition  chainId        stageId  \n0                NaN        176         32        1  01_Manuf_0001  \n1                NaN        176         96        1  01_Manuf_0002  \n2                NaN         32         32        1   01_Part_0001  \n3                NaN         32         96        1   01_Part_0002  \n4                NaN         32        160        1   01_Part_0003  \n...              ...        ...        ...      ...            ...  \n2020             NaN        528      17760       38  38_Trans_0555  \n2021             NaN        528      17792       38  38_Trans_0556  \n2022             NaN        528      17824       38  38_Trans_0557  \n2023             NaN        528      17856       38  38_Trans_0558  \n2024             NaN        528      17888       38  38_Trans_0559  \n\n[15872 rows x 26 columns]",
      "text/html": "<div>\n<style scoped>\n    .dataframe tbody tr th:only-of-type {\n        vertical-align: middle;\n    }\n\n    .dataframe tbody tr th {\n        vertical-align: top;\n    }\n\n    .dataframe thead th {\n        text-align: right;\n    }\n</style>\n<table border=\"1\" class=\"dataframe\">\n  <thead>\n    <tr style=\"text-align: right;\">\n      <th></th>\n      <th>stageName</th>\n      <th>stageCost</th>\n      <th>relDepth</th>\n      <th>stageClassification</th>\n      <th>avgDemand</th>\n      <th>stdDevDemand</th>\n      <th>maxServiceTime</th>\n      <th>serviceLevel</th>\n      <th>stageTime</th>\n      <th>stdDevStageTime</th>\n      <th>...</th>\n      <th>stageTime4</th>\n      <th>stageTimePerc4</th>\n      <th>stageTime5</th>\n      <th>stageTimePerc5</th>\n      <th>stageTime6</th>\n      <th>stageTimePerc6</th>\n      <th>xPosition</th>\n      <th>yPosition</th>\n      <th>chainId</th>\n      <th>stageId</th>\n    </tr>\n  </thead>\n  <tbody>\n    <tr>\n      <th>0</th>\n      <td>Manuf_0001</td>\n      <td>39.00</td>\n      <td>1</td>\n      <td>Manuf</td>\n      <td>NaN</td>\n      <td>NaN</td>\n      <td>NaN</td>\n      <td>NaN</td>\n      <td>10.0</td>\n      <td>NaN</td>\n      <td>...</td>\n      <td>NaN</td>\n      <td>NaN</td>\n      <td>NaN</td>\n      <td>NaN</td>\n      <td>NaN</td>\n      <td>NaN</td>\n      <td>176</td>\n      <td>32</td>\n      <td>1</td>\n      <td>01_Manuf_0001</td>\n    </tr>\n    <tr>\n      <th>1</th>\n      <td>Manuf_0002</td>\n      <td>36.00</td>\n      <td>1</td>\n      <td>Manuf</td>\n      <td>NaN</td>\n      <td>NaN</td>\n      <td>NaN</td>\n      <td>NaN</td>\n      <td>10.0</td>\n      <td>NaN</td>\n      <td>...</td>\n      <td>NaN</td>\n      <td>NaN</td>\n      <td>NaN</td>\n      <td>NaN</td>\n      <td>NaN</td>\n      <td>NaN</td>\n      <td>176</td>\n      <td>96</td>\n      <td>1</td>\n      <td>01_Manuf_0002</td>\n    </tr>\n    <tr>\n      <th>2</th>\n      <td>Part_0001</td>\n      <td>12.00</td>\n      <td>2</td>\n      <td>Part</td>\n      <td>NaN</td>\n      <td>NaN</td>\n      <td>NaN</td>\n      <td>NaN</td>\n      <td>28.0</td>\n      <td>11.224972</td>\n      <td>...</td>\n      <td>NaN</td>\n      <td>NaN</td>\n      <td>NaN</td>\n      <td>NaN</td>\n      <td>NaN</td>\n      <td>NaN</td>\n      <td>32</td>\n      <td>32</td>\n      <td>1</td>\n      <td>01_Part_0001</td>\n    </tr>\n    <tr>\n      <th>3</th>\n      <td>Part_0002</td>\n      <td>5.00</td>\n      <td>2</td>\n      <td>Part</td>\n      <td>NaN</td>\n      <td>NaN</td>\n      <td>NaN</td>\n      <td>NaN</td>\n      <td>15.0</td>\n      <td>NaN</td>\n      <td>...</td>\n      <td>NaN</td>\n      <td>NaN</td>\n      <td>NaN</td>\n      <td>NaN</td>\n      <td>NaN</td>\n      <td>NaN</td>\n      <td>32</td>\n      <td>96</td>\n      <td>1</td>\n      <td>01_Part_0002</td>\n    </tr>\n    <tr>\n      <th>4</th>\n      <td>Part_0003</td>\n      <td>9.00</td>\n      <td>2</td>\n      <td>Part</td>\n      <td>NaN</td>\n      <td>NaN</td>\n      <td>NaN</td>\n      <td>NaN</td>\n      <td>10.0</td>\n      <td>NaN</td>\n      <td>...</td>\n      <td>NaN</td>\n      <td>NaN</td>\n      <td>NaN</td>\n      <td>NaN</td>\n      <td>NaN</td>\n      <td>NaN</td>\n      <td>32</td>\n      <td>160</td>\n      <td>1</td>\n      <td>01_Part_0003</td>\n    </tr>\n    <tr>\n      <th>...</th>\n      <td>...</td>\n      <td>...</td>\n      <td>...</td>\n      <td>...</td>\n      <td>...</td>\n      <td>...</td>\n      <td>...</td>\n      <td>...</td>\n      <td>...</td>\n      <td>...</td>\n      <td>...</td>\n      <td>...</td>\n      <td>...</td>\n      <td>...</td>\n      <td>...</td>\n      <td>...</td>\n      <td>...</td>\n      <td>...</td>\n      <td>...</td>\n      <td>...</td>\n      <td>...</td>\n    </tr>\n    <tr>\n      <th>2020</th>\n      <td>Trans_0555</td>\n      <td>0.44</td>\n      <td>1</td>\n      <td>Trans</td>\n      <td>NaN</td>\n      <td>NaN</td>\n      <td>NaN</td>\n      <td>NaN</td>\n      <td>6.0</td>\n      <td>NaN</td>\n      <td>...</td>\n      <td>NaN</td>\n      <td>NaN</td>\n      <td>NaN</td>\n      <td>NaN</td>\n      <td>NaN</td>\n      <td>NaN</td>\n      <td>528</td>\n      <td>17760</td>\n      <td>38</td>\n      <td>38_Trans_0555</td>\n    </tr>\n    <tr>\n      <th>2021</th>\n      <td>Trans_0556</td>\n      <td>0.45</td>\n      <td>1</td>\n      <td>Trans</td>\n      <td>NaN</td>\n      <td>NaN</td>\n      <td>NaN</td>\n      <td>NaN</td>\n      <td>6.0</td>\n      <td>NaN</td>\n      <td>...</td>\n      <td>NaN</td>\n      <td>NaN</td>\n      <td>NaN</td>\n      <td>NaN</td>\n      <td>NaN</td>\n      <td>NaN</td>\n      <td>528</td>\n      <td>17792</td>\n      <td>38</td>\n      <td>38_Trans_0556</td>\n    </tr>\n    <tr>\n      <th>2022</th>\n      <td>Trans_0557</td>\n      <td>0.38</td>\n      <td>1</td>\n      <td>Trans</td>\n      <td>NaN</td>\n      <td>NaN</td>\n      <td>NaN</td>\n      <td>NaN</td>\n      <td>6.0</td>\n      <td>NaN</td>\n      <td>...</td>\n      <td>NaN</td>\n      <td>NaN</td>\n      <td>NaN</td>\n      <td>NaN</td>\n      <td>NaN</td>\n      <td>NaN</td>\n      <td>528</td>\n      <td>17824</td>\n      <td>38</td>\n      <td>38_Trans_0557</td>\n    </tr>\n    <tr>\n      <th>2023</th>\n      <td>Trans_0558</td>\n      <td>0.38</td>\n      <td>1</td>\n      <td>Trans</td>\n      <td>NaN</td>\n      <td>NaN</td>\n      <td>NaN</td>\n      <td>NaN</td>\n      <td>6.0</td>\n      <td>NaN</td>\n      <td>...</td>\n      <td>NaN</td>\n      <td>NaN</td>\n      <td>NaN</td>\n      <td>NaN</td>\n      <td>NaN</td>\n      <td>NaN</td>\n      <td>528</td>\n      <td>17856</td>\n      <td>38</td>\n      <td>38_Trans_0558</td>\n    </tr>\n    <tr>\n      <th>2024</th>\n      <td>Trans_0559</td>\n      <td>0.46</td>\n      <td>1</td>\n      <td>Trans</td>\n      <td>NaN</td>\n      <td>NaN</td>\n      <td>NaN</td>\n      <td>NaN</td>\n      <td>6.0</td>\n      <td>NaN</td>\n      <td>...</td>\n      <td>NaN</td>\n      <td>NaN</td>\n      <td>NaN</td>\n      <td>NaN</td>\n      <td>NaN</td>\n      <td>NaN</td>\n      <td>528</td>\n      <td>17888</td>\n      <td>38</td>\n      <td>38_Trans_0559</td>\n    </tr>\n  </tbody>\n</table>\n<p>15872 rows × 26 columns</p>\n</div>"
     },
     "execution_count": 29,
     "metadata": {},
     "output_type": "execute_result"
    }
   ],
   "source": [
    "stage_df = pd.concat(stage_dfs)\n",
    "rename_st_list = [i for i in stage_df.columns if 'stageTime_' in i]\n",
    "unnamed_list = [i for i in stage_df.columns if 'Unnamed' in i]\n",
    "stage_df = stage_df.drop(columns=unnamed_list)\\\n",
    "    .rename(columns={'Stage Name':'stageName', 'stdDev stageTime':'stdDevStageTime'})\\\n",
    "    .rename(columns=dict(zip(rename_st_list,[i.replace('_','').replace('%','Perc') for i in rename_st_list])))\n",
    "\n",
    "stage_df"
   ],
   "metadata": {
    "collapsed": false,
    "pycharm": {
     "name": "#%%\n"
    }
   }
  },
  {
   "cell_type": "code",
   "execution_count": 31,
   "outputs": [],
   "source": [
    "## Correct Data Entry Inconsistency. 'Parts' in chain 19  is that same as 'Part' in other chains\n",
    "stage_df.loc[stage_df.stageClassification == 'Parts' ,'stageClassification'] = 'Part'"
   ],
   "metadata": {
    "collapsed": false,
    "pycharm": {
     "name": "#%%\n"
    }
   }
  },
  {
   "cell_type": "code",
   "execution_count": 32,
   "outputs": [
    {
     "data": {
      "text/plain": "Empty DataFrame\nColumns: []\nIndex: []",
      "text/html": "<div>\n<style scoped>\n    .dataframe tbody tr th:only-of-type {\n        vertical-align: middle;\n    }\n\n    .dataframe tbody tr th {\n        vertical-align: top;\n    }\n\n    .dataframe thead th {\n        text-align: right;\n    }\n</style>\n<table border=\"1\" class=\"dataframe\">\n  <thead>\n    <tr style=\"text-align: right;\">\n      <th></th>\n    </tr>\n  </thead>\n  <tbody>\n  </tbody>\n</table>\n</div>"
     },
     "execution_count": 32,
     "metadata": {},
     "output_type": "execute_result"
    }
   ],
   "source": [
    "gds.run_cypher('CREATE CONSTRAINT stage_unique IF NOT EXISTS ON (n:Stage) ASSERT n.stageId IS UNIQUE')"
   ],
   "metadata": {
    "collapsed": false,
    "pycharm": {
     "name": "#%%\n"
    }
   }
  },
  {
   "cell_type": "code",
   "execution_count": 34,
   "outputs": [
    {
     "name": "stdout",
     "output_type": "stream",
     "text": [
      "        labels(s)  count(s)\n",
      "0  [Stage, Manuf]      3214\n",
      "       labels(s)  count(s)\n",
      "0  [Stage, Part]      5768\n",
      "         labels(s)  count(s)\n",
      "0  [Stage, Retail]      3553\n",
      "        labels(s)  count(s)\n",
      "0  [Stage, Trans]      1913\n",
      "       labels(s)  count(s)\n",
      "0  [Stage, Dist]      1424\n"
     ]
    }
   ],
   "source": [
    "# load nodes\n",
    "classifications = stage_df.stageClassification.unique()\n",
    "for i in classifications:\n",
    "    records = stage_df.loc[stage_df.stageClassification == i,\n",
    "            ['stageName', 'stageCost', 'relDepth', 'stageTime', 'chainId', 'stageId']].to_dict('records')\n",
    "    res = gds.run_cypher(f'''\n",
    "        UNWIND $records AS rec\n",
    "        MERGE(s:Stage {{stageId:rec.stageId}})\n",
    "        ON CREATE SET s:{i},\n",
    "            s.stageName = rec.stageName,\n",
    "            s.stageCost = rec.stageCost,\n",
    "            s.relDepth = rec.relDepth,\n",
    "            s.stageTime = rec.stageTime,\n",
    "            s.chainId = rec.chainId\n",
    "        RETURN labels(s), count(s)\n",
    "    ''', params={'records':records})\n",
    "    print(res)"
   ],
   "metadata": {
    "collapsed": false,
    "pycharm": {
     "name": "#%%\n"
    }
   }
  },
  {
   "cell_type": "code",
   "execution_count": 35,
   "outputs": [
    {
     "data": {
      "text/plain": "   count(r)\n0     43589",
      "text/html": "<div>\n<style scoped>\n    .dataframe tbody tr th:only-of-type {\n        vertical-align: middle;\n    }\n\n    .dataframe tbody tr th {\n        vertical-align: top;\n    }\n\n    .dataframe thead th {\n        text-align: right;\n    }\n</style>\n<table border=\"1\" class=\"dataframe\">\n  <thead>\n    <tr style=\"text-align: right;\">\n      <th></th>\n      <th>count(r)</th>\n    </tr>\n  </thead>\n  <tbody>\n    <tr>\n      <th>0</th>\n      <td>43589</td>\n    </tr>\n  </tbody>\n</table>\n</div>"
     },
     "execution_count": 35,
     "metadata": {},
     "output_type": "execute_result"
    }
   ],
   "source": [
    "# load relationships\n",
    "records = arc_df[['sourceStageId','destinationStageId']].to_dict('records')\n",
    "gds.run_cypher('''\n",
    "        UNWIND $records AS rec\n",
    "        MATCH(src:Stage {stageId:rec.sourceStageId})\n",
    "        MATCH(dst:Stage {stageId:rec.destinationStageId})\n",
    "        MERGE(src)-[r:SUPPLIES]->(dst)\n",
    "        RETURN count(r)\n",
    "    ''', params={'records':records})"
   ],
   "metadata": {
    "collapsed": false,
    "pycharm": {
     "name": "#%%\n"
    }
   }
  },
  {
   "cell_type": "code",
   "execution_count": null,
   "outputs": [],
   "source": [],
   "metadata": {
    "collapsed": false,
    "pycharm": {
     "name": "#%%\n"
    }
   }
  }
 ],
 "metadata": {
  "kernelspec": {
   "display_name": "Python 3",
   "language": "python",
   "name": "python3"
  },
  "language_info": {
   "codemirror_mode": {
    "name": "ipython",
    "version": 2
   },
   "file_extension": ".py",
   "mimetype": "text/x-python",
   "name": "python",
   "nbconvert_exporter": "python",
   "pygments_lexer": "ipython2",
   "version": "2.7.6"
  }
 },
 "nbformat": 4,
 "nbformat_minor": 0
}