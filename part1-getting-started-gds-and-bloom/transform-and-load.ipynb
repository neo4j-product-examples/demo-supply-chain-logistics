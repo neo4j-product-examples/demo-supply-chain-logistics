{
 "cells": [
  {
   "cell_type": "markdown",
   "metadata": {
    "pycharm": {
     "name": "#%% md\n"
    }
   },
   "source": [
    "# Cargo 2000 Case Study Graph Import\n",
    "\n",
    "<img src=\"img/logistics-diagram.png\" alt=\"summary\" width=\"1000\"/>"
   ]
  },
  {
   "cell_type": "code",
   "execution_count": 1,
   "metadata": {
    "pycharm": {
     "name": "#%%\n"
    }
   },
   "outputs": [],
   "source": [
    "import pandas as pd\n",
    "from faker import Faker"
   ]
  },
  {
   "cell_type": "markdown",
   "metadata": {
    "pycharm": {
     "name": "#%% md\n"
    }
   },
   "source": [
    "## Connect ot Graph Data Science"
   ]
  },
  {
   "cell_type": "code",
   "execution_count": 2,
   "metadata": {
    "pycharm": {
     "name": "#%%\n"
    }
   },
   "outputs": [],
   "source": [
    "from graphdatascience import GraphDataScience\n",
    "\n",
    "# Use Neo4j URI and credentials according to your setup\n",
    "gds = GraphDataScience('neo4j://localhost', auth=('neo4j', 'neo'))"
   ]
  },
  {
   "cell_type": "markdown",
   "metadata": {
    "pycharm": {
     "name": "#%% md\n"
    }
   },
   "source": [
    "## Staging for ETL\n",
    "1. Clear the graph of any existing data and indexes\n",
    "2. read the source data\n",
    "3. create helper functions\n",
    "4. Set Neo4j Indexes\n"
   ]
  },
  {
   "cell_type": "code",
   "execution_count": 3,
   "metadata": {
    "pycharm": {
     "name": "#%%\n"
    }
   },
   "outputs": [
    {
     "data": {
      "text/html": [
       "<div>\n",
       "<style scoped>\n",
       "    .dataframe tbody tr th:only-of-type {\n",
       "        vertical-align: middle;\n",
       "    }\n",
       "\n",
       "    .dataframe tbody tr th {\n",
       "        vertical-align: top;\n",
       "    }\n",
       "\n",
       "    .dataframe thead th {\n",
       "        text-align: right;\n",
       "    }\n",
       "</style>\n",
       "<table border=\"1\" class=\"dataframe\">\n",
       "  <thead>\n",
       "    <tr style=\"text-align: right;\">\n",
       "      <th></th>\n",
       "      <th>label</th>\n",
       "      <th>key</th>\n",
       "      <th>keys</th>\n",
       "      <th>unique</th>\n",
       "      <th>action</th>\n",
       "    </tr>\n",
       "  </thead>\n",
       "  <tbody>\n",
       "    <tr>\n",
       "      <th>0</th>\n",
       "      <td>RECEPTION</td>\n",
       "      <td>shipmentId</td>\n",
       "      <td>[shipmentId]</td>\n",
       "      <td>False</td>\n",
       "      <td>DROPPED</td>\n",
       "    </tr>\n",
       "    <tr>\n",
       "      <th>1</th>\n",
       "      <td>RECEPTION</td>\n",
       "      <td>pathIndex</td>\n",
       "      <td>[pathIndex]</td>\n",
       "      <td>False</td>\n",
       "      <td>DROPPED</td>\n",
       "    </tr>\n",
       "    <tr>\n",
       "      <th>2</th>\n",
       "      <td>DEPARTURE</td>\n",
       "      <td>shipmentId</td>\n",
       "      <td>[shipmentId]</td>\n",
       "      <td>False</td>\n",
       "      <td>DROPPED</td>\n",
       "    </tr>\n",
       "    <tr>\n",
       "      <th>3</th>\n",
       "      <td>DEPARTURE</td>\n",
       "      <td>pathIndex</td>\n",
       "      <td>[pathIndex]</td>\n",
       "      <td>False</td>\n",
       "      <td>DROPPED</td>\n",
       "    </tr>\n",
       "    <tr>\n",
       "      <th>4</th>\n",
       "      <td>TRANSPORT</td>\n",
       "      <td>shipmentId</td>\n",
       "      <td>[shipmentId]</td>\n",
       "      <td>False</td>\n",
       "      <td>DROPPED</td>\n",
       "    </tr>\n",
       "    <tr>\n",
       "      <th>5</th>\n",
       "      <td>TRANSPORT</td>\n",
       "      <td>pathIndex</td>\n",
       "      <td>[pathIndex]</td>\n",
       "      <td>False</td>\n",
       "      <td>DROPPED</td>\n",
       "    </tr>\n",
       "    <tr>\n",
       "      <th>6</th>\n",
       "      <td>DELIVERY</td>\n",
       "      <td>shipmentId</td>\n",
       "      <td>[shipmentId]</td>\n",
       "      <td>False</td>\n",
       "      <td>DROPPED</td>\n",
       "    </tr>\n",
       "    <tr>\n",
       "      <th>7</th>\n",
       "      <td>DELIVERY</td>\n",
       "      <td>pathIndex</td>\n",
       "      <td>[pathIndex]</td>\n",
       "      <td>False</td>\n",
       "      <td>DROPPED</td>\n",
       "    </tr>\n",
       "    <tr>\n",
       "      <th>8</th>\n",
       "      <td>TRANSFER</td>\n",
       "      <td>shipmentId</td>\n",
       "      <td>[shipmentId]</td>\n",
       "      <td>False</td>\n",
       "      <td>DROPPED</td>\n",
       "    </tr>\n",
       "    <tr>\n",
       "      <th>9</th>\n",
       "      <td>TRANSFER</td>\n",
       "      <td>pathIndex</td>\n",
       "      <td>[pathIndex]</td>\n",
       "      <td>False</td>\n",
       "      <td>DROPPED</td>\n",
       "    </tr>\n",
       "    <tr>\n",
       "      <th>10</th>\n",
       "      <td>Airport</td>\n",
       "      <td>airportId</td>\n",
       "      <td>[airportId]</td>\n",
       "      <td>True</td>\n",
       "      <td>DROPPED</td>\n",
       "    </tr>\n",
       "    <tr>\n",
       "      <th>11</th>\n",
       "      <td>EntryPoint</td>\n",
       "      <td>airportId</td>\n",
       "      <td>[airportId]</td>\n",
       "      <td>True</td>\n",
       "      <td>DROPPED</td>\n",
       "    </tr>\n",
       "    <tr>\n",
       "      <th>12</th>\n",
       "      <td>DepartureWarehouse</td>\n",
       "      <td>airportId</td>\n",
       "      <td>[airportId]</td>\n",
       "      <td>True</td>\n",
       "      <td>DROPPED</td>\n",
       "    </tr>\n",
       "    <tr>\n",
       "      <th>13</th>\n",
       "      <td>_Bloom_Perspective_</td>\n",
       "      <td>id</td>\n",
       "      <td>[id]</td>\n",
       "      <td>True</td>\n",
       "      <td>DROPPED</td>\n",
       "    </tr>\n",
       "    <tr>\n",
       "      <th>14</th>\n",
       "      <td>DeparturePoint</td>\n",
       "      <td>airportId</td>\n",
       "      <td>[airportId]</td>\n",
       "      <td>True</td>\n",
       "      <td>DROPPED</td>\n",
       "    </tr>\n",
       "    <tr>\n",
       "      <th>15</th>\n",
       "      <td>ArrivalWarehouse</td>\n",
       "      <td>airportId</td>\n",
       "      <td>[airportId]</td>\n",
       "      <td>True</td>\n",
       "      <td>DROPPED</td>\n",
       "    </tr>\n",
       "    <tr>\n",
       "      <th>16</th>\n",
       "      <td>Destination</td>\n",
       "      <td>airportId</td>\n",
       "      <td>[airportId]</td>\n",
       "      <td>True</td>\n",
       "      <td>DROPPED</td>\n",
       "    </tr>\n",
       "  </tbody>\n",
       "</table>\n",
       "</div>"
      ],
      "text/plain": [
       "                  label         key          keys  unique   action\n",
       "0             RECEPTION  shipmentId  [shipmentId]   False  DROPPED\n",
       "1             RECEPTION   pathIndex   [pathIndex]   False  DROPPED\n",
       "2             DEPARTURE  shipmentId  [shipmentId]   False  DROPPED\n",
       "3             DEPARTURE   pathIndex   [pathIndex]   False  DROPPED\n",
       "4             TRANSPORT  shipmentId  [shipmentId]   False  DROPPED\n",
       "5             TRANSPORT   pathIndex   [pathIndex]   False  DROPPED\n",
       "6              DELIVERY  shipmentId  [shipmentId]   False  DROPPED\n",
       "7              DELIVERY   pathIndex   [pathIndex]   False  DROPPED\n",
       "8              TRANSFER  shipmentId  [shipmentId]   False  DROPPED\n",
       "9              TRANSFER   pathIndex   [pathIndex]   False  DROPPED\n",
       "10              Airport   airportId   [airportId]    True  DROPPED\n",
       "11           EntryPoint   airportId   [airportId]    True  DROPPED\n",
       "12   DepartureWarehouse   airportId   [airportId]    True  DROPPED\n",
       "13  _Bloom_Perspective_          id          [id]    True  DROPPED\n",
       "14       DeparturePoint   airportId   [airportId]    True  DROPPED\n",
       "15     ArrivalWarehouse   airportId   [airportId]    True  DROPPED\n",
       "16          Destination   airportId   [airportId]    True  DROPPED"
      ]
     },
     "execution_count": 3,
     "metadata": {},
     "output_type": "execute_result"
    }
   ],
   "source": [
    "# Clear last graph - All data and schema attributes\n",
    "gds.run_cypher('MATCH(n) DETACH DELETE n')\n",
    "gds.run_cypher('CALL apoc.schema.assert({},{})')"
   ]
  },
  {
   "cell_type": "code",
   "execution_count": 4,
   "metadata": {
    "pycharm": {
     "name": "#%%\n"
    }
   },
   "outputs": [],
   "source": [
    "df = pd.read_csv('https://s-cube-network.eu/c2k-files/c2k_data_comma.csv', dtype=str)"
   ]
  },
  {
   "cell_type": "code",
   "execution_count": 5,
   "metadata": {
    "pycharm": {
     "name": "#%%\n"
    }
   },
   "outputs": [],
   "source": [
    "LEGS = [1,2,3]\n",
    "SEGMENTS = [1,2,3]\n",
    "GOINGS = ['i','o']\n",
    "SERVICES = ['rcs', 'dlv']"
   ]
  },
  {
   "cell_type": "code",
   "execution_count": 6,
   "metadata": {
    "pycharm": {
     "name": "#%%\n"
    }
   },
   "outputs": [],
   "source": [
    "# Helper functions\n",
    "def get_last_i1_rcf_place(row):\n",
    "    for s in [3,2,1]:\n",
    "        if row[f'i1_rcf_{s}_place'] != '?':\n",
    "            return row[f'i1_rcf_{s}_place']\n",
    "    raise Exception(\"cannot find last rcf place\")\n",
    "\n",
    "def get_last_outbound_rcf_place(row):\n",
    "    for s in [3,2,1]:\n",
    "        if row[f'o_rcf_{s}_place'] != '?':\n",
    "            return row[f'o_rcf_{s}_place']\n",
    "    raise Exception(\"cannot find last rcf place\")\n",
    "\n",
    "def get_path_indexes(row):\n",
    "    res = {'o': []}\n",
    "    end = str(get_last_outbound_rcf_place(row))\n",
    "    for i in LEGS:\n",
    "        start = str(row[f'i{i}_dep_1_place'])\n",
    "        if start != '?':\n",
    "            ind = start + '-' + end\n",
    "            res[f'i{i}'] = ind\n",
    "            res['o'].append(ind)\n",
    "    return res"
   ]
  },
  {
   "cell_type": "code",
   "execution_count": 7,
   "metadata": {
    "pycharm": {
     "name": "#%%\n"
    }
   },
   "outputs": [
    {
     "data": {
      "text/html": [
       "<div>\n",
       "<style scoped>\n",
       "    .dataframe tbody tr th:only-of-type {\n",
       "        vertical-align: middle;\n",
       "    }\n",
       "\n",
       "    .dataframe tbody tr th {\n",
       "        vertical-align: top;\n",
       "    }\n",
       "\n",
       "    .dataframe thead th {\n",
       "        text-align: right;\n",
       "    }\n",
       "</style>\n",
       "<table border=\"1\" class=\"dataframe\">\n",
       "  <thead>\n",
       "    <tr style=\"text-align: right;\">\n",
       "      <th></th>\n",
       "      <th>nr</th>\n",
       "      <th>i1_legid</th>\n",
       "      <th>i1_rcs_p</th>\n",
       "      <th>i1_rcs_e</th>\n",
       "      <th>i1_dep_1_p</th>\n",
       "      <th>i1_dep_1_e</th>\n",
       "      <th>i1_dep_1_place</th>\n",
       "      <th>i1_rcf_1_p</th>\n",
       "      <th>i1_rcf_1_e</th>\n",
       "      <th>i1_rcf_1_place</th>\n",
       "      <th>...</th>\n",
       "      <th>o_rcf_3_p</th>\n",
       "      <th>o_rcf_3_e</th>\n",
       "      <th>o_rcf_3_place</th>\n",
       "      <th>o_dlv_p</th>\n",
       "      <th>o_dlv_e</th>\n",
       "      <th>o_hops</th>\n",
       "      <th>legs</th>\n",
       "      <th>last_o_rcf_place</th>\n",
       "      <th>last_i_rcf_place</th>\n",
       "      <th>path_indexes</th>\n",
       "    </tr>\n",
       "  </thead>\n",
       "  <tbody>\n",
       "    <tr>\n",
       "      <th>0</th>\n",
       "      <td>0</td>\n",
       "      <td>5182</td>\n",
       "      <td>199</td>\n",
       "      <td>218</td>\n",
       "      <td>210</td>\n",
       "      <td>215</td>\n",
       "      <td>609</td>\n",
       "      <td>935</td>\n",
       "      <td>736</td>\n",
       "      <td>256</td>\n",
       "      <td>...</td>\n",
       "      <td>?</td>\n",
       "      <td>?</td>\n",
       "      <td>?</td>\n",
       "      <td>780</td>\n",
       "      <td>434</td>\n",
       "      <td>1</td>\n",
       "      <td>2</td>\n",
       "      <td>411</td>\n",
       "      <td>256</td>\n",
       "      <td>{'o': ['609-411', '431-411'], 'i1': '609-411',...</td>\n",
       "    </tr>\n",
       "    <tr>\n",
       "      <th>1</th>\n",
       "      <td>1</td>\n",
       "      <td>6523</td>\n",
       "      <td>844</td>\n",
       "      <td>584</td>\n",
       "      <td>90</td>\n",
       "      <td>297</td>\n",
       "      <td>700</td>\n",
       "      <td>1935</td>\n",
       "      <td>1415</td>\n",
       "      <td>431</td>\n",
       "      <td>...</td>\n",
       "      <td>?</td>\n",
       "      <td>?</td>\n",
       "      <td>?</td>\n",
       "      <td>3870</td>\n",
       "      <td>445</td>\n",
       "      <td>1</td>\n",
       "      <td>2</td>\n",
       "      <td>256</td>\n",
       "      <td>431</td>\n",
       "      <td>{'o': ['700-256', '257-256'], 'i1': '700-256',...</td>\n",
       "    </tr>\n",
       "    <tr>\n",
       "      <th>2</th>\n",
       "      <td>2</td>\n",
       "      <td>5878</td>\n",
       "      <td>4380</td>\n",
       "      <td>4119</td>\n",
       "      <td>90</td>\n",
       "      <td>280</td>\n",
       "      <td>456</td>\n",
       "      <td>905</td>\n",
       "      <td>547</td>\n",
       "      <td>700</td>\n",
       "      <td>...</td>\n",
       "      <td>?</td>\n",
       "      <td>?</td>\n",
       "      <td>?</td>\n",
       "      <td>550</td>\n",
       "      <td>1520</td>\n",
       "      <td>1</td>\n",
       "      <td>1</td>\n",
       "      <td>349</td>\n",
       "      <td>700</td>\n",
       "      <td>{'o': ['456-349'], 'i1': '456-349'}</td>\n",
       "    </tr>\n",
       "    <tr>\n",
       "      <th>3</th>\n",
       "      <td>3</td>\n",
       "      <td>1275</td>\n",
       "      <td>759</td>\n",
       "      <td>169</td>\n",
       "      <td>240</td>\n",
       "      <td>777</td>\n",
       "      <td>173</td>\n",
       "      <td>340</td>\n",
       "      <td>577</td>\n",
       "      <td>349</td>\n",
       "      <td>...</td>\n",
       "      <td>?</td>\n",
       "      <td>?</td>\n",
       "      <td>?</td>\n",
       "      <td>3780</td>\n",
       "      <td>159</td>\n",
       "      <td>1</td>\n",
       "      <td>1</td>\n",
       "      <td>700</td>\n",
       "      <td>671</td>\n",
       "      <td>{'o': ['173-700'], 'i1': '173-700'}</td>\n",
       "    </tr>\n",
       "    <tr>\n",
       "      <th>4</th>\n",
       "      <td>4</td>\n",
       "      <td>8117</td>\n",
       "      <td>1597</td>\n",
       "      <td>1485</td>\n",
       "      <td>150</td>\n",
       "      <td>241</td>\n",
       "      <td>411</td>\n",
       "      <td>585</td>\n",
       "      <td>612</td>\n",
       "      <td>128</td>\n",
       "      <td>...</td>\n",
       "      <td>?</td>\n",
       "      <td>?</td>\n",
       "      <td>?</td>\n",
       "      <td>4140</td>\n",
       "      <td>4797</td>\n",
       "      <td>2</td>\n",
       "      <td>1</td>\n",
       "      <td>411</td>\n",
       "      <td>166</td>\n",
       "      <td>{'o': ['411-411'], 'i1': '411-411'}</td>\n",
       "    </tr>\n",
       "    <tr>\n",
       "      <th>...</th>\n",
       "      <td>...</td>\n",
       "      <td>...</td>\n",
       "      <td>...</td>\n",
       "      <td>...</td>\n",
       "      <td>...</td>\n",
       "      <td>...</td>\n",
       "      <td>...</td>\n",
       "      <td>...</td>\n",
       "      <td>...</td>\n",
       "      <td>...</td>\n",
       "      <td>...</td>\n",
       "      <td>...</td>\n",
       "      <td>...</td>\n",
       "      <td>...</td>\n",
       "      <td>...</td>\n",
       "      <td>...</td>\n",
       "      <td>...</td>\n",
       "      <td>...</td>\n",
       "      <td>...</td>\n",
       "      <td>...</td>\n",
       "      <td>...</td>\n",
       "    </tr>\n",
       "    <tr>\n",
       "      <th>3938</th>\n",
       "      <td>3939</td>\n",
       "      <td>4225</td>\n",
       "      <td>122</td>\n",
       "      <td>19</td>\n",
       "      <td>240</td>\n",
       "      <td>278</td>\n",
       "      <td>815</td>\n",
       "      <td>830</td>\n",
       "      <td>761</td>\n",
       "      <td>174</td>\n",
       "      <td>...</td>\n",
       "      <td>?</td>\n",
       "      <td>?</td>\n",
       "      <td>?</td>\n",
       "      <td>1665</td>\n",
       "      <td>1300</td>\n",
       "      <td>2</td>\n",
       "      <td>3</td>\n",
       "      <td>293</td>\n",
       "      <td>174</td>\n",
       "      <td>{'o': ['815-293', '671-293', '671-293'], 'i1':...</td>\n",
       "    </tr>\n",
       "    <tr>\n",
       "      <th>3939</th>\n",
       "      <td>3940</td>\n",
       "      <td>14017</td>\n",
       "      <td>2028</td>\n",
       "      <td>413</td>\n",
       "      <td>270</td>\n",
       "      <td>1825</td>\n",
       "      <td>605</td>\n",
       "      <td>2610</td>\n",
       "      <td>2535</td>\n",
       "      <td>349</td>\n",
       "      <td>...</td>\n",
       "      <td>?</td>\n",
       "      <td>?</td>\n",
       "      <td>?</td>\n",
       "      <td>3780</td>\n",
       "      <td>807</td>\n",
       "      <td>2</td>\n",
       "      <td>1</td>\n",
       "      <td>113</td>\n",
       "      <td>597</td>\n",
       "      <td>{'o': ['605-113'], 'i1': '605-113'}</td>\n",
       "    </tr>\n",
       "    <tr>\n",
       "      <th>3940</th>\n",
       "      <td>3941</td>\n",
       "      <td>4660</td>\n",
       "      <td>1356</td>\n",
       "      <td>178</td>\n",
       "      <td>240</td>\n",
       "      <td>1359</td>\n",
       "      <td>815</td>\n",
       "      <td>760</td>\n",
       "      <td>716</td>\n",
       "      <td>609</td>\n",
       "      <td>...</td>\n",
       "      <td>?</td>\n",
       "      <td>?</td>\n",
       "      <td>?</td>\n",
       "      <td>5100</td>\n",
       "      <td>4381</td>\n",
       "      <td>2</td>\n",
       "      <td>1</td>\n",
       "      <td>737</td>\n",
       "      <td>609</td>\n",
       "      <td>{'o': ['815-737'], 'i1': '815-737'}</td>\n",
       "    </tr>\n",
       "    <tr>\n",
       "      <th>3941</th>\n",
       "      <td>3942</td>\n",
       "      <td>6472</td>\n",
       "      <td>2692</td>\n",
       "      <td>1856</td>\n",
       "      <td>90</td>\n",
       "      <td>867</td>\n",
       "      <td>700</td>\n",
       "      <td>1060</td>\n",
       "      <td>1049</td>\n",
       "      <td>113</td>\n",
       "      <td>...</td>\n",
       "      <td>?</td>\n",
       "      <td>?</td>\n",
       "      <td>?</td>\n",
       "      <td>3780</td>\n",
       "      <td>945</td>\n",
       "      <td>2</td>\n",
       "      <td>2</td>\n",
       "      <td>635</td>\n",
       "      <td>113</td>\n",
       "      <td>{'o': ['700-635', '456-635'], 'i1': '700-635',...</td>\n",
       "    </tr>\n",
       "    <tr>\n",
       "      <th>3942</th>\n",
       "      <td>NaN</td>\n",
       "      <td>NaN</td>\n",
       "      <td>NaN</td>\n",
       "      <td>NaN</td>\n",
       "      <td>NaN</td>\n",
       "      <td>NaN</td>\n",
       "      <td>NaN</td>\n",
       "      <td>NaN</td>\n",
       "      <td>NaN</td>\n",
       "      <td>NaN</td>\n",
       "      <td>...</td>\n",
       "      <td>NaN</td>\n",
       "      <td>NaN</td>\n",
       "      <td>NaN</td>\n",
       "      <td>NaN</td>\n",
       "      <td>NaN</td>\n",
       "      <td>NaN</td>\n",
       "      <td>NaN</td>\n",
       "      <td>NaN</td>\n",
       "      <td>NaN</td>\n",
       "      <td>{'o': ['nan-nan', 'nan-nan', 'nan-nan'], 'i1':...</td>\n",
       "    </tr>\n",
       "  </tbody>\n",
       "</table>\n",
       "<p>3943 rows × 101 columns</p>\n",
       "</div>"
      ],
      "text/plain": [
       "        nr i1_legid i1_rcs_p i1_rcs_e i1_dep_1_p i1_dep_1_e i1_dep_1_place  \\\n",
       "0        0     5182      199      218        210        215            609   \n",
       "1        1     6523      844      584         90        297            700   \n",
       "2        2     5878     4380     4119         90        280            456   \n",
       "3        3     1275      759      169        240        777            173   \n",
       "4        4     8117     1597     1485        150        241            411   \n",
       "...    ...      ...      ...      ...        ...        ...            ...   \n",
       "3938  3939     4225      122       19        240        278            815   \n",
       "3939  3940    14017     2028      413        270       1825            605   \n",
       "3940  3941     4660     1356      178        240       1359            815   \n",
       "3941  3942     6472     2692     1856         90        867            700   \n",
       "3942   NaN      NaN      NaN      NaN        NaN        NaN            NaN   \n",
       "\n",
       "     i1_rcf_1_p i1_rcf_1_e i1_rcf_1_place  ... o_rcf_3_p o_rcf_3_e  \\\n",
       "0           935        736            256  ...         ?         ?   \n",
       "1          1935       1415            431  ...         ?         ?   \n",
       "2           905        547            700  ...         ?         ?   \n",
       "3           340        577            349  ...         ?         ?   \n",
       "4           585        612            128  ...         ?         ?   \n",
       "...         ...        ...            ...  ...       ...       ...   \n",
       "3938        830        761            174  ...         ?         ?   \n",
       "3939       2610       2535            349  ...         ?         ?   \n",
       "3940        760        716            609  ...         ?         ?   \n",
       "3941       1060       1049            113  ...         ?         ?   \n",
       "3942        NaN        NaN            NaN  ...       NaN       NaN   \n",
       "\n",
       "     o_rcf_3_place o_dlv_p o_dlv_e o_hops legs last_o_rcf_place  \\\n",
       "0                ?     780     434      1    2              411   \n",
       "1                ?    3870     445      1    2              256   \n",
       "2                ?     550    1520      1    1              349   \n",
       "3                ?    3780     159      1    1              700   \n",
       "4                ?    4140    4797      2    1              411   \n",
       "...            ...     ...     ...    ...  ...              ...   \n",
       "3938             ?    1665    1300      2    3              293   \n",
       "3939             ?    3780     807      2    1              113   \n",
       "3940             ?    5100    4381      2    1              737   \n",
       "3941             ?    3780     945      2    2              635   \n",
       "3942           NaN     NaN     NaN    NaN  NaN              NaN   \n",
       "\n",
       "     last_i_rcf_place                                       path_indexes  \n",
       "0                 256  {'o': ['609-411', '431-411'], 'i1': '609-411',...  \n",
       "1                 431  {'o': ['700-256', '257-256'], 'i1': '700-256',...  \n",
       "2                 700                {'o': ['456-349'], 'i1': '456-349'}  \n",
       "3                 671                {'o': ['173-700'], 'i1': '173-700'}  \n",
       "4                 166                {'o': ['411-411'], 'i1': '411-411'}  \n",
       "...               ...                                                ...  \n",
       "3938              174  {'o': ['815-293', '671-293', '671-293'], 'i1':...  \n",
       "3939              597                {'o': ['605-113'], 'i1': '605-113'}  \n",
       "3940              609                {'o': ['815-737'], 'i1': '815-737'}  \n",
       "3941              113  {'o': ['700-635', '456-635'], 'i1': '700-635',...  \n",
       "3942              NaN  {'o': ['nan-nan', 'nan-nan', 'nan-nan'], 'i1':...  \n",
       "\n",
       "[3943 rows x 101 columns]"
      ]
     },
     "execution_count": 7,
     "metadata": {},
     "output_type": "execute_result"
    }
   ],
   "source": [
    "# assign last inbound & outbound rcf place\n",
    "df['last_o_rcf_place'] = df.apply(get_last_outbound_rcf_place, axis =1)\n",
    "df['last_i_rcf_place'] = df.apply(get_last_i1_rcf_place, axis =1)\n",
    "# assign path index\n",
    "df['path_indexes'] = df.apply(get_path_indexes, axis=1)\n",
    "df"
   ]
  },
  {
   "cell_type": "code",
   "execution_count": 8,
   "metadata": {
    "pycharm": {
     "name": "#%%\n"
    }
   },
   "outputs": [
    {
     "data": {
      "text/html": [
       "<div>\n",
       "<style scoped>\n",
       "    .dataframe tbody tr th:only-of-type {\n",
       "        vertical-align: middle;\n",
       "    }\n",
       "\n",
       "    .dataframe tbody tr th {\n",
       "        vertical-align: top;\n",
       "    }\n",
       "\n",
       "    .dataframe thead th {\n",
       "        text-align: right;\n",
       "    }\n",
       "</style>\n",
       "<table border=\"1\" class=\"dataframe\">\n",
       "  <thead>\n",
       "    <tr style=\"text-align: right;\">\n",
       "      <th></th>\n",
       "    </tr>\n",
       "  </thead>\n",
       "  <tbody>\n",
       "  </tbody>\n",
       "</table>\n",
       "</div>"
      ],
      "text/plain": [
       "Empty DataFrame\n",
       "Columns: []\n",
       "Index: []"
      ]
     },
     "execution_count": 8,
     "metadata": {},
     "output_type": "execute_result"
    }
   ],
   "source": [
    "# Create Indexes\n",
    "gds.run_cypher('CREATE CONSTRAINT airport_unique IF NOT EXISTS ON (n:Airport) ASSERT n.airportId  IS UNIQUE')\n",
    "\n",
    "gds.run_cypher('CREATE CONSTRAINT airport_entry_unique IF NOT EXISTS ON (n:EntryPoint) ASSERT n.airportId  IS UNIQUE')\n",
    "\n",
    "gds.run_cypher('CREATE INDEX check_in_shipment_id IF NOT EXISTS FOR ()-[r:RECEPTION]-() ON (r.shipmentId)')\n",
    "gds.run_cypher('CREATE INDEX check_in_path IF NOT EXISTS FOR ()-[r:RECEPTION]-() ON (r.pathIndex)')\n",
    "gds.run_cypher('CREATE CONSTRAINT airport_departure_checkpoint_unique IF NOT EXISTS ON (n:DepartureWarehouse) ASSERT n.airportId  IS UNIQUE')\n",
    "\n",
    "gds.run_cypher('CREATE INDEX confirm_shipment_id IF NOT EXISTS FOR ()-[r:DEPARTURE]-() ON (r.shipmentId)')\n",
    "gds.run_cypher('CREATE INDEX confirm_path IF NOT EXISTS FOR ()-[r:DEPARTURE]-() ON (r.pathIndex)')\n",
    "gds.run_cypher('CREATE CONSTRAINT airport_departure_unique IF NOT EXISTS ON (n:DeparturePoint) ASSERT n.airportId  IS UNIQUE')\n",
    "\n",
    "gds.run_cypher('CREATE INDEX depart_shipment_id IF NOT EXISTS FOR ()-[r:TRANSPORT]-() ON (r.shipmentId)')\n",
    "gds.run_cypher('CREATE INDEX depart_path IF NOT EXISTS FOR ()-[r:TRANSPORT]-() ON (r.pathIndex)')\n",
    "gds.run_cypher('CREATE CONSTRAINT airport_arrival_unique IF NOT EXISTS ON (n:ArrivalWarehouse) ASSERT n.airportId  IS UNIQUE')\n",
    "\n",
    "gds.run_cypher('CREATE INDEX deliver_shipment_id IF NOT EXISTS FOR ()-[r:DELIVERY]-() ON (r.shipmentId)')\n",
    "gds.run_cypher('CREATE INDEX deliver_path IF NOT EXISTS FOR ()-[r:DELIVERY]-() ON (r.pathIndex)')\n",
    "gds.run_cypher('CREATE CONSTRAINT airport_destination_unique  IF NOT EXISTS ON (n:Destination) ASSERT n.airportId  IS UNIQUE')\n",
    "gds.run_cypher('CREATE CONSTRAINT airport_transfer_unique  IF NOT EXISTS ON (n:TransferPoint) ASSERT n.airportId  IS UNIQUE')\n",
    "\n",
    "gds.run_cypher('CREATE INDEX transfer_shipment_id IF NOT EXISTS FOR ()-[r:TRANSFER]-() ON (r.shipmentId)')\n",
    "gds.run_cypher('CREATE INDEX transfer_path IF NOT EXISTS FOR ()-[r:TRANSFER]-() ON (r.pathIndex)')"
   ]
  },
  {
   "cell_type": "markdown",
   "metadata": {
    "pycharm": {
     "name": "#%% md\n"
    }
   },
   "source": [
    "## Ingest Nodes\n",
    "Nodes will consist of Airports and freight forwarding checkpoints"
   ]
  },
  {
   "cell_type": "code",
   "execution_count": 9,
   "metadata": {
    "pycharm": {
     "name": "#%%\n"
    }
   },
   "outputs": [],
   "source": [
    "# Load nodes and draw location at relationships\n",
    "cols = df.columns.tolist()\n",
    "\n",
    "airport_ids = set()\n",
    "for col in cols:\n",
    "    if 'place' in col:\n",
    "        airport_ids.update([int(i) for i in df.loc[(df[col] != '?') & (df[col].notna()), col].unique().tolist()])\n",
    "\n",
    "# Creating Names for the airports will help with human readability\n",
    "Faker.seed(0)\n",
    "fake = Faker()\n",
    "def single_name_city():\n",
    "   n = fake.city()\n",
    "   while ' ' in n: # multi word names are a bit of a mouthful\n",
    "       n = fake.city()\n",
    "   return n\n",
    "\n",
    "airports = [{'id':airport_id , 'name':single_name_city()} for airport_id in airport_ids]"
   ]
  },
  {
   "cell_type": "code",
   "execution_count": 10,
   "metadata": {
    "pycharm": {
     "name": "#%%\n"
    }
   },
   "outputs": [
    {
     "data": {
      "text/html": [
       "<div>\n",
       "<style scoped>\n",
       "    .dataframe tbody tr th:only-of-type {\n",
       "        vertical-align: middle;\n",
       "    }\n",
       "\n",
       "    .dataframe tbody tr th {\n",
       "        vertical-align: top;\n",
       "    }\n",
       "\n",
       "    .dataframe thead th {\n",
       "        text-align: right;\n",
       "    }\n",
       "</style>\n",
       "<table border=\"1\" class=\"dataframe\">\n",
       "  <thead>\n",
       "    <tr style=\"text-align: right;\">\n",
       "      <th></th>\n",
       "      <th>count(n0)</th>\n",
       "      <th>count(n1)</th>\n",
       "      <th>count(n2)</th>\n",
       "      <th>count(n3)</th>\n",
       "      <th>count(n4)</th>\n",
       "      <th>count(n5)</th>\n",
       "      <th>count(n6)</th>\n",
       "    </tr>\n",
       "  </thead>\n",
       "  <tbody>\n",
       "    <tr>\n",
       "      <th>0</th>\n",
       "      <td>237</td>\n",
       "      <td>237</td>\n",
       "      <td>237</td>\n",
       "      <td>237</td>\n",
       "      <td>237</td>\n",
       "      <td>237</td>\n",
       "      <td>237</td>\n",
       "    </tr>\n",
       "  </tbody>\n",
       "</table>\n",
       "</div>"
      ],
      "text/plain": [
       "   count(n0)  count(n1)  count(n2)  count(n3)  count(n4)  count(n5)  count(n6)\n",
       "0        237        237        237        237        237        237        237"
      ]
     },
     "execution_count": 10,
     "metadata": {},
     "output_type": "execute_result"
    }
   ],
   "source": [
    "# Load nodes and draw location at relationships\n",
    "gds.run_cypher('''\n",
    "    UNWIND $airports AS a\n",
    "    WITH a.id AS airportId, a.name AS name\n",
    "    MERGE(n0:Airport {airportId: airportId}) SET n0.name=name\n",
    "    MERGE(n1:EntryPoint {airportId: airportId}) SET n1.name=name\n",
    "    MERGE(n2:DepartureWarehouse{airportId: airportId}) SET n2.name=name\n",
    "    MERGE(n3:DeparturePoint {airportId: airportId}) SET n3.name=name\n",
    "    MERGE(n4:ArrivalWarehouse {airportId: airportId}) SET n4.name=name\n",
    "    MERGE(n5:TransferPoint {airportId: airportId}) SET n5.name=name\n",
    "    MERGE(n6:Destination {airportId: airportId}) SET n6.name=name\n",
    "\n",
    "    MERGE(n0)<-[:LOCATED_AT]-(n1)\n",
    "    MERGE(n0)<-[:LOCATED_AT]-(n2)\n",
    "    MERGE(n0)<-[:LOCATED_AT]-(n3)\n",
    "    MERGE(n0)<-[:LOCATED_AT]-(n4)\n",
    "    MERGE(n0)<-[:LOCATED_AT]-(n5)\n",
    "    MERGE(n0)<-[:LOCATED_AT]-(n6)\n",
    "    RETURN count(n0), count(n1), count(n2), count(n3), count(n4), count(n5), count(n6)\n",
    "    ''', params={'airports':airports})"
   ]
  },
  {
   "cell_type": "markdown",
   "metadata": {
    "pycharm": {
     "name": "#%% md\n"
    }
   },
   "source": [
    "## Ingest Relationships\n",
    "Relationships will consist of the freight forwarding steps as well as links representing connection between transportation segments and transfer between the inbound and output stage of the shipment"
   ]
  },
  {
   "cell_type": "code",
   "execution_count": 11,
   "metadata": {
    "pycharm": {
     "name": "#%%\n"
    }
   },
   "outputs": [
    {
     "name": "stdout",
     "output_type": "stream",
     "text": [
      "   count(r)\n",
      "0      3942\n",
      "   count(r)\n",
      "0      2624\n",
      "   count(r)\n",
      "0      1366\n"
     ]
    }
   ],
   "source": [
    "# (n:EntryPoint)-[r:RECEPTION]-(m:DepartureWarehouse) RCS inbound\n",
    "for l in LEGS:\n",
    "    sub_dict = df.loc[(df[f'i{l}_legid'] != '?') & (df[f'i{l}_legid'].notna()),\n",
    "                      ['nr', f'i{l}_legid', f'i{l}_rcs_p', f'i{l}_rcs_e', f'i{l}_dep_1_place', 'path_indexes']].to_dict('records')\n",
    "    res = gds.run_cypher(f'''\n",
    "        UNWIND $relMaps AS relMap\n",
    "        WITH toInteger(relMap.nr) AS shipmentId,\n",
    "            toInteger(relMap.i{l}_dep_1_place) AS airportId,\n",
    "            toInteger(relMap.i{l}_legid) AS legId,\n",
    "            toInteger(relMap.i{l}_rcs_e) AS effectiveMinutes,\n",
    "            toInteger(relMap.i{l}_rcs_p) AS plannedMinutes,\n",
    "            relMap.path_indexes.i{l} AS pathIndex\n",
    "        MATCH(n1:EntryPoint {{airportId: airportId}})\n",
    "        MATCH(n2:DepartureWarehouse {{airportId: airportId}})\n",
    "        MERGE(n1)-[r:RECEPTION {{shipmentId: shipmentId, legId: legId, legNumber: $legNumber}}]->(n2)\n",
    "        ON CREATE SET r.plannedMinutes=plannedMinutes,\n",
    "        r.effectiveMinutes=effectiveMinutes,\n",
    "        r.pathIndex = pathIndex\n",
    "        RETURN count(r)\n",
    "    ''', params={'relMaps':sub_dict, 'legNumber':l})\n",
    "    print(res)"
   ]
  },
  {
   "cell_type": "code",
   "execution_count": 12,
   "metadata": {
    "pycharm": {
     "name": "#%%\n"
    }
   },
   "outputs": [
    {
     "data": {
      "text/html": [
       "<div>\n",
       "<style scoped>\n",
       "    .dataframe tbody tr th:only-of-type {\n",
       "        vertical-align: middle;\n",
       "    }\n",
       "\n",
       "    .dataframe tbody tr th {\n",
       "        vertical-align: top;\n",
       "    }\n",
       "\n",
       "    .dataframe thead th {\n",
       "        text-align: right;\n",
       "    }\n",
       "</style>\n",
       "<table border=\"1\" class=\"dataframe\">\n",
       "  <thead>\n",
       "    <tr style=\"text-align: right;\">\n",
       "      <th></th>\n",
       "      <th>count(r)</th>\n",
       "    </tr>\n",
       "  </thead>\n",
       "  <tbody>\n",
       "    <tr>\n",
       "      <th>0</th>\n",
       "      <td>3942</td>\n",
       "    </tr>\n",
       "  </tbody>\n",
       "</table>\n",
       "</div>"
      ],
      "text/plain": [
       "   count(r)\n",
       "0      3942"
      ]
     },
     "execution_count": 12,
     "metadata": {},
     "output_type": "execute_result"
    }
   ],
   "source": [
    "# (n:TransferPoint)-[r:RECEPTION]-(m:DepartureWarehouse) RCS outbound\n",
    "\n",
    "sub_dict = df.loc[(df[f'o_legid'] != '?') & (df[f'o_legid'].notna()),\n",
    "                  ['nr', 'o_legid', 'o_rcs_p', 'o_rcs_e', 'o_dep_1_place', 'path_indexes']].to_dict('records')\n",
    "gds.run_cypher('''\n",
    "    UNWIND $relMaps AS relMap\n",
    "    WITH toInteger(relMap.nr) AS shipmentId,\n",
    "        toInteger(relMap.o_dep_1_place) AS airportId,\n",
    "        toInteger(relMap.o_legid) AS legId,\n",
    "        toInteger(relMap.o_rcs_e) AS effectiveMinutes,\n",
    "        toInteger(relMap.o_rcs_p) AS plannedMinutes,\n",
    "        relMap.path_indexes.o AS pathIndex\n",
    "    MATCH(n1:TransferPoint {airportId: airportId})\n",
    "    MATCH(n2:DepartureWarehouse {airportId: airportId})\n",
    "    MERGE(n1)-[r:RECEPTION {shipmentId: shipmentId, legId: legId, legNumber: -1}]->(n2)\n",
    "    ON CREATE SET r.plannedMinutes=plannedMinutes,\n",
    "        r.effectiveMinutes=effectiveMinutes,\n",
    "        r.pathIndex = pathIndex\n",
    "    RETURN count(r)\n",
    "''', params={'relMaps':sub_dict})"
   ]
  },
  {
   "cell_type": "code",
   "execution_count": 13,
   "metadata": {
    "pycharm": {
     "name": "#%%\n"
    }
   },
   "outputs": [
    {
     "name": "stdout",
     "output_type": "stream",
     "text": [
      "== LEG 1 ======================\n",
      "-- SEGMENT 1 ----------------------\n",
      "   count(r)\n",
      "0      3942\n",
      "-- SEGMENT 2 ----------------------\n",
      "   count(r)\n",
      "0      1195\n",
      "-- SEGMENT 3 ----------------------\n",
      "   count(r)\n",
      "0        23\n",
      "== LEG 2 ======================\n",
      "-- SEGMENT 1 ----------------------\n",
      "   count(r)\n",
      "0      2624\n",
      "-- SEGMENT 2 ----------------------\n",
      "   count(r)\n",
      "0       791\n",
      "-- SEGMENT 3 ----------------------\n",
      "   count(r)\n",
      "0        14\n",
      "== LEG 3 ======================\n",
      "-- SEGMENT 1 ----------------------\n",
      "   count(r)\n",
      "0      1366\n",
      "-- SEGMENT 2 ----------------------\n",
      "   count(r)\n",
      "0       391\n",
      "-- SEGMENT 3 ----------------------\n",
      "   count(r)\n",
      "0         8\n"
     ]
    }
   ],
   "source": [
    "# (:DepartureWarehouse)-[r:DEPARTURE]-(:DeparturePoint) DEP1 inbound\n",
    "for l in LEGS:\n",
    "    print(f'== LEG {l} ======================')\n",
    "    for s in SEGMENTS:\n",
    "        print(f'-- SEGMENT {s} ----------------------')\n",
    "        source_label = 'DepartureWarehouse'\n",
    "        if s > 1:\n",
    "            source_label = 'ArrivalWarehouse'\n",
    "        sub_dict = df.loc[(df[f'i{l}_dep_{s}_place'] != '?') & (df[f'i{l}_legid'].notna()),\n",
    "            ['nr', f'i{l}_legid', f'i{l}_dep_{s}_p', f'i{l}_dep_{s}_e', f'i{l}_dep_{s}_place', 'path_indexes']]\\\n",
    "            .to_dict('records')\n",
    "        res = gds.run_cypher(f'''\n",
    "            UNWIND $relMaps AS relMap\n",
    "            WITH toInteger(relMap.nr) AS shipmentId,\n",
    "                toInteger(relMap.i{l}_dep_{s}_place) AS airportId,\n",
    "                toInteger(relMap.i{l}_legid) AS legId,\n",
    "                toInteger(relMap.i{l}_dep_{s}_e) AS effectiveMinutes,\n",
    "                toInteger(relMap.i{l}_dep_{s}_p) AS plannedMinutes,\n",
    "                relMap.path_indexes.i{l} AS pathIndex\n",
    "            MATCH(n1:{source_label} {{airportId: airportId}})\n",
    "            MATCH(n2:DeparturePoint {{airportId: airportId}})\n",
    "            MERGE(n1)-[r:DEPARTURE {{shipmentId: shipmentId, legId: legId, legNumber: $legNumber, segmentNumber: $segmentNumber}}]->(n2)\n",
    "            ON CREATE SET r.plannedMinutes=plannedMinutes,\n",
    "                r.effectiveMinutes=effectiveMinutes,\n",
    "                r.pathIndex = pathIndex\n",
    "            RETURN count(r)\n",
    "        ''', params={'relMaps':sub_dict, 'legNumber':l, 'segmentNumber':s})\n",
    "        print(res)"
   ]
  },
  {
   "cell_type": "code",
   "execution_count": 14,
   "metadata": {
    "pycharm": {
     "name": "#%%\n"
    }
   },
   "outputs": [
    {
     "name": "stdout",
     "output_type": "stream",
     "text": [
      "-- SEGMENT 1 ----------------------\n",
      "   count(r)\n",
      "0      3942\n",
      "-- SEGMENT 2 ----------------------\n",
      "   count(r)\n",
      "0      1845\n",
      "-- SEGMENT 3 ----------------------\n",
      "   count(r)\n",
      "0        26\n"
     ]
    }
   ],
   "source": [
    "# (:DepartureWarehouse)-[r:DEPARTURE]-(:DeparturePoint) DEP1 outbound\n",
    "for s in SEGMENTS:\n",
    "    source_label = 'DepartureWarehouse'\n",
    "    if s > 1:\n",
    "        source_label = 'ArrivalWarehouse'\n",
    "    print(f'-- SEGMENT {s} ----------------------')\n",
    "    sub_dict = df.loc[(df[f'o_dep_{s}_place'] != '?') & (df[f'o_legid'].notna()),\n",
    "                      ['nr', f'o_legid', f'o_dep_{s}_p', f'o_dep_{s}_e', f'o_dep_{s}_place', 'path_indexes']]\\\n",
    "        .to_dict('records')\n",
    "    res = gds.run_cypher(f'''\n",
    "        UNWIND $relMaps AS relMap\n",
    "        WITH toInteger(relMap.nr) AS shipmentId,\n",
    "            toInteger(relMap.o_dep_{s}_place) AS airportId,\n",
    "            toInteger(relMap.o_legid) AS legId,\n",
    "            toInteger(relMap.o_dep_{s}_e) AS effectiveMinutes,\n",
    "            toInteger(relMap.o_dep_{s}_p) AS plannedMinutes,\n",
    "            relMap.path_indexes.o AS pathIndex\n",
    "        MATCH(n1:{source_label} {{airportId: airportId}})\n",
    "        MATCH(n2:DeparturePoint {{airportId: airportId}})\n",
    "        MERGE(n1)-[r:DEPARTURE {{shipmentId: shipmentId, legId: legId, legNumber: $legNumber, segmentNumber: $segmentNumber}}]->(n2)\n",
    "        ON CREATE SET r.plannedMinutes=plannedMinutes,\n",
    "            r.effectiveMinutes=effectiveMinutes,\n",
    "            r.pathIndex = pathIndex\n",
    "        RETURN count(r)\n",
    "    ''', params={'relMaps':sub_dict, 'legNumber':-1, 'segmentNumber':s})\n",
    "    print(res)"
   ]
  },
  {
   "cell_type": "code",
   "execution_count": 15,
   "metadata": {
    "pycharm": {
     "name": "#%%\n"
    }
   },
   "outputs": [
    {
     "name": "stdout",
     "output_type": "stream",
     "text": [
      "== LEG 1 ======================\n",
      "-- SEGMENT 1 ----------------------\n",
      "   count(r)\n",
      "0      3942\n",
      "-- SEGMENT 2 ----------------------\n",
      "   count(r)\n",
      "0      1195\n",
      "-- SEGMENT 3 ----------------------\n",
      "   count(r)\n",
      "0        23\n",
      "== LEG 2 ======================\n",
      "-- SEGMENT 1 ----------------------\n",
      "   count(r)\n",
      "0      2624\n",
      "-- SEGMENT 2 ----------------------\n",
      "   count(r)\n",
      "0       791\n",
      "-- SEGMENT 3 ----------------------\n",
      "   count(r)\n",
      "0        14\n",
      "== LEG 3 ======================\n",
      "-- SEGMENT 1 ----------------------\n",
      "   count(r)\n",
      "0      1366\n",
      "-- SEGMENT 2 ----------------------\n",
      "   count(r)\n",
      "0       391\n",
      "-- SEGMENT 3 ----------------------\n",
      "   count(r)\n",
      "0         8\n"
     ]
    }
   ],
   "source": [
    "# (:DeparturePoint)-[r:TRANSPORT]-(:ArrivalWarehouse) inbound\n",
    "for l in LEGS:\n",
    "    print(f'== LEG {l} ======================')\n",
    "    for s in SEGMENTS:\n",
    "        print(f'-- SEGMENT {s} ----------------------')\n",
    "        sub_dict = df.loc[(df[f'i{l}_rcf_{s}_place'] != '?') & (df[f'i{l}_legid'].notna()),\n",
    "                          ['nr', f'i{l}_legid', f'i{l}_rcf_{s}_p', f'i{l}_rcf_{s}_e', f'i{l}_dep_{s}_place', f'i{l}_rcf_{s}_place', 'path_indexes']]\\\n",
    "            .to_dict('records')\n",
    "        res = gds.run_cypher(f'''\n",
    "            UNWIND $relMaps AS relMap\n",
    "            WITH toInteger(relMap.nr) AS shipmentId,\n",
    "                toInteger(relMap.i{l}_dep_{s}_place) AS fromAirportId,\n",
    "                toInteger(relMap.i{l}_rcf_{s}_place) AS toAirportId,\n",
    "                toInteger(relMap.i{l}_legid) AS legId,\n",
    "                toInteger(relMap.i{l}_rcf_{s}_e) AS effectiveMinutes,\n",
    "                toInteger(relMap.i{l}_rcf_{s}_p) AS plannedMinutes,\n",
    "                relMap.path_indexes.i{l} AS pathIndex\n",
    "            MATCH(n1:DeparturePoint {{airportId: fromAirportId}})\n",
    "            MATCH(n2:ArrivalWarehouse {{airportId: toAirportId}})\n",
    "            MERGE(n1)-[r:TRANSPORT {{shipmentId: shipmentId, legId: legId, legNumber: $legNumber, segmentNumber: $segmentNumber}}]->(n2)\n",
    "            ON CREATE SET r.plannedMinutes=plannedMinutes,\n",
    "                r.effectiveMinutes=effectiveMinutes,\n",
    "                r.pathIndex = pathIndex\n",
    "            RETURN count(r)\n",
    "        ''', params={'relMaps':sub_dict, 'legNumber':l, 'segmentNumber':s})\n",
    "        print(res)"
   ]
  },
  {
   "cell_type": "code",
   "execution_count": 16,
   "metadata": {
    "pycharm": {
     "name": "#%%\n"
    }
   },
   "outputs": [
    {
     "name": "stdout",
     "output_type": "stream",
     "text": [
      "-- SEGMENT 1 ----------------------\n",
      "   count(r)\n",
      "0      3942\n",
      "-- SEGMENT 2 ----------------------\n",
      "   count(r)\n",
      "0      1845\n",
      "-- SEGMENT 3 ----------------------\n",
      "   count(r)\n",
      "0        26\n"
     ]
    }
   ],
   "source": [
    "# (:DeparturePoint)-[r:TRANSPORT]-(:ArrivalWarehouse) RCF outbound\n",
    "for s in SEGMENTS:\n",
    "    print(f'-- SEGMENT {s} ----------------------')\n",
    "    sub_dict = df.loc[(df[f'o_rcf_{s}_place'] != '?') & (df[f'o_legid'].notna()),\n",
    "                      ['nr', f'o_legid', f'o_rcf_{s}_p', f'o_rcf_{s}_e',  f'o_dep_{s}_place', f'o_rcf_{s}_place', 'path_indexes']]\\\n",
    "        .to_dict('records')\n",
    "    res = gds.run_cypher(f'''\n",
    "        UNWIND $relMaps AS relMap\n",
    "        WITH toInteger(relMap.nr) AS shipmentId,\n",
    "            toInteger(relMap.o_dep_{s}_place) AS fromAirportId,\n",
    "            toInteger(relMap.o_rcf_{s}_place) AS toAirportId,\n",
    "            toInteger(relMap.o_legid) AS legId,\n",
    "            toInteger(relMap.o_rcf_{s}_e) AS effectiveMinutes,\n",
    "            toInteger(relMap.o_rcf_{s}_p) AS plannedMinutes,\n",
    "            relMap.path_indexes.o AS pathIndex\n",
    "        MATCH(n1:DeparturePoint {{airportId: fromAirportId}})\n",
    "        MATCH(n2:ArrivalWarehouse {{airportId: toAirportId}})\n",
    "        MERGE(n1)-[r:TRANSPORT {{shipmentId: shipmentId, legId: legId, legNumber: $legNumber, segmentNumber: $segmentNumber}}]->(n2)\n",
    "        ON CREATE SET r.plannedMinutes=plannedMinutes,\n",
    "            r.effectiveMinutes=effectiveMinutes,\n",
    "            r.pathIndex = pathIndex\n",
    "        RETURN count(r)\n",
    "    ''', params={'relMaps':sub_dict, 'legNumber':-1, 'segmentNumber':s})\n",
    "    print(res)"
   ]
  },
  {
   "cell_type": "code",
   "execution_count": 17,
   "metadata": {
    "pycharm": {
     "name": "#%%\n"
    }
   },
   "outputs": [
    {
     "name": "stdout",
     "output_type": "stream",
     "text": [
      "   count(r)\n",
      "0      3942\n",
      "   count(r)\n",
      "0      2624\n",
      "   count(r)\n",
      "0      1366\n"
     ]
    }
   ],
   "source": [
    "# (:ArrivalWarehouse)-[r:DELIVERY]-(:TransferPoint) DLV inbound\n",
    "for l in LEGS:\n",
    "    sub_dict = df.loc[(df[f'i{l}_legid'] != '?') & (df[f'i{l}_legid'].notna()),\n",
    "                      ['nr', f'i{l}_legid', f'i{l}_dlv_p', f'i{l}_dlv_e', 'last_i_rcf_place', 'path_indexes']].to_dict('records')\n",
    "    res = gds.run_cypher(f'''\n",
    "        UNWIND $relMaps AS relMap\n",
    "        WITH toInteger(relMap.nr) AS shipmentId,\n",
    "            toInteger(relMap.last_i_rcf_place) AS airportId,\n",
    "            toInteger(relMap.i{l}_legid) AS legId,\n",
    "            toInteger(relMap.i{l}_dlv_e) AS effectiveMinutes,\n",
    "            toInteger(relMap.i{l}_dlv_p) AS plannedMinutes,\n",
    "            relMap.path_indexes.i{l} AS pathIndex\n",
    "        MATCH(n1:ArrivalWarehouse {{airportId: airportId}})\n",
    "        MATCH(n2:TransferPoint {{airportId: airportId}})\n",
    "        MERGE(n1)-[r:DELIVERY {{shipmentId: shipmentId, legId: legId, legNumber: $legNumber}}]->(n2)\n",
    "        ON CREATE SET r.plannedMinutes=plannedMinutes,\n",
    "            r.effectiveMinutes=effectiveMinutes,\n",
    "            r.pathIndex = pathIndex\n",
    "        RETURN count(r)\n",
    "    ''', params={'relMaps':sub_dict, 'legNumber':l})\n",
    "    print(res)"
   ]
  },
  {
   "cell_type": "code",
   "execution_count": 18,
   "metadata": {
    "pycharm": {
     "name": "#%%\n"
    }
   },
   "outputs": [
    {
     "name": "stdout",
     "output_type": "stream",
     "text": [
      "   count(r)\n",
      "0      3942\n"
     ]
    }
   ],
   "source": [
    "# (:ArrivalWarehouse)-[r:DELIVERY]-(:Destination) DLV outbound\n",
    "sub_dict = df.loc[(df[f'o_legid'] != '?') & (df[f'o_legid'].notna()),\n",
    "                  ['nr', 'o_legid', f'o_dlv_p', f'o_dlv_e', 'last_o_rcf_place', 'path_indexes']].to_dict('records')\n",
    "res = gds.run_cypher('''\n",
    "    UNWIND $relMaps AS relMap\n",
    "    WITH toInteger(relMap.nr) AS shipmentId,\n",
    "        toInteger(relMap.last_o_rcf_place) AS airportId,\n",
    "        toInteger(relMap.o_legid) AS legId,\n",
    "        toInteger(relMap.o_dlv_e) AS effectiveMinutes,\n",
    "        toInteger(relMap.o_dlv_p) AS plannedMinutes,\n",
    "        relMap.path_indexes.o AS pathIndex\n",
    "    MATCH(n1:ArrivalWarehouse {airportId: airportId})\n",
    "    MATCH(n2:Destination {airportId: airportId})\n",
    "    MERGE(n1)-[r:DELIVERY {shipmentId: shipmentId, legId: legId, legNumber: $legNumber}]->(n2)\n",
    "    ON CREATE SET r.plannedMinutes=plannedMinutes,\n",
    "        r.effectiveMinutes=effectiveMinutes,\n",
    "        r.pathIndex = pathIndex\n",
    "    RETURN count(r)\n",
    "''', params={'relMaps':sub_dict, 'legNumber':-1})\n",
    "print(res)"
   ]
  }
 ],
 "metadata": {
  "kernelspec": {
   "display_name": "Python 3 (ipykernel)",
   "language": "python",
   "name": "python3"
  },
  "language_info": {
   "codemirror_mode": {
    "name": "ipython",
    "version": 3
   },
   "file_extension": ".py",
   "mimetype": "text/x-python",
   "name": "python",
   "nbconvert_exporter": "python",
   "pygments_lexer": "ipython3",
   "version": "3.8.2"
  }
 },
 "nbformat": 4,
 "nbformat_minor": 1
}