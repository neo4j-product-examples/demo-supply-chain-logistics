{
 "cells": [
  {
   "cell_type": "markdown",
   "metadata": {
    "pycharm": {
     "name": "#%% md\n"
    }
   },
   "source": []
  },
  {
   "cell_type": "markdown",
   "metadata": {
    "pycharm": {
     "name": "#%% md\n"
    }
   },
   "source": [
    "# Graph Data Science for Supply Chain: Part II\n",
    "\n",
    "In this Notebook we explore the application of graph data science to supply chain logistics. Specifically we will\n",
    "\n",
    "1. Show how to calculate Centrality metrics and Louvain communities using Neo4j Graph Data Science.\n",
    "2. Provide meaningful interpretations for Centrality metrics and Louvain communities within the context of supply chain and discuss their relationship to performance and risks.\n",
    "3. Demonstrate how the above metrics can be used in statistical and predictive modeling to understand their association to delays and risks in supply chain networks.\n",
    "\n",
    "\n",
    "For a sample dataset we will use the “Cargo 2000” transport and logistics case study [[1]](#1). Cargo 2000 (re-branded as Cargo iQ in 2016) is an initiative of the International Air Transport Association (IATA) that aims to deliver a new quality management system for the air cargo industry.logistics-diagram.png\n",
    "\n",
    "The below figure shows a model of the business processes covered in the IATA case study. It represents the business processes of a freight forwarding company, in which up to three smaller shipments from suppliers are consolidated and then shipped together to customers. The business process is structured into incoming and outgoing transport legs, with the overall objective that freight is delivered to customers in a timely manner.  You can find out more about the business model in the [first blog of this series](https://neo4j.com/developer-blog/supply-chain-neo4j-gds-bloom/) where we explored the dataset in Neo4j Bloom or from the [original data source]( https://s-cube-network.eu/c2k/).\n",
    "\n",
    "<img src=\"img/logistics-diagram.png\" alt=\"summary\" width=\"1000\"/>\n",
    "\n",
    "\n",
    "## Prerequisits\n",
    "- Neo4j >= 4.3\n",
    "- GDS >= 2.0\n",
    "- The Cargo 2000 case study dataset loaded into a Neo4j database. There is a notebook to generate the Neo4j database [here](https://github.com/neo4j-product-examples/demo-supply-chain-logistics/blob/main/airplane-cargo/part1/transform-and-load.ipynb).\n",
    "\n",
    "## References\n",
    "<a id=\"1\">[1]</a> A. Metzger, P. Leitner, D. Ivanovic, E. Schmieders, R. Franklin, M. Carro, S. Dustdar, and K. Pohl, “ Comparing and combining predictive business process monitoring techniques,” IEEE Trans. on Systems Man Cybernetics: Systems, 2015.\n"
   ]
  },
  {
   "cell_type": "code",
   "execution_count": 6,
   "metadata": {
    "pycharm": {
     "name": "#%%\n"
    }
   },
   "outputs": [],
   "source": [
    "import pandas as pd\n",
    "import numpy as np"
   ]
  },
  {
   "cell_type": "markdown",
   "source": [
    "## Connect ot Neo4j Graph Data Science"
   ],
   "metadata": {
    "collapsed": false,
    "pycharm": {
     "name": "#%% md\n"
    }
   }
  },
  {
   "cell_type": "code",
   "execution_count": 7,
   "metadata": {
    "pycharm": {
     "name": "#%%\n"
    }
   },
   "outputs": [],
   "source": [
    "from graphdatascience import GraphDataScience\n",
    "\n",
    "# Use Neo4j URI and credentials according to your setup\n",
    "gds = GraphDataScience('neo4j://localhost', auth=('neo4j', 'neo'))"
   ]
  },
  {
   "cell_type": "markdown",
   "source": [
    "## Collapse Graph Data Model with `SENDS_TO` Relationships\n",
    "Relationships going directly to/from airport nodes will allow for more direct calculation of centrality and community metrics according to transport routes."
   ],
   "metadata": {
    "collapsed": false,
    "pycharm": {
     "name": "#%% md\n"
    }
   }
  },
  {
   "cell_type": "code",
   "execution_count": 8,
   "outputs": [
    {
     "data": {
      "text/plain": "   count(s)\n0      1205",
      "text/html": "<div>\n<style scoped>\n    .dataframe tbody tr th:only-of-type {\n        vertical-align: middle;\n    }\n\n    .dataframe tbody tr th {\n        vertical-align: top;\n    }\n\n    .dataframe thead th {\n        text-align: right;\n    }\n</style>\n<table border=\"1\" class=\"dataframe\">\n  <thead>\n    <tr style=\"text-align: right;\">\n      <th></th>\n      <th>count(s)</th>\n    </tr>\n  </thead>\n  <tbody>\n    <tr>\n      <th>0</th>\n      <td>1205</td>\n    </tr>\n  </tbody>\n</table>\n</div>"
     },
     "execution_count": 8,
     "metadata": {},
     "output_type": "execute_result"
    }
   ],
   "source": [
    "gds.run_cypher('''\n",
    "    MATCH(a1:Airport)<-[:LOCATED_AT]-(d1:DeparturePoint)-[r:TRANSPORT]->(d2:ArrivalWarehouse)-[:LOCATED_AT]->(a2:Airport)\n",
    "    WITH a1, a2, count(r) AS flightCount\n",
    "    MERGE (a1)-[s:SENDS_TO]->(a2)\n",
    "    SET s.flightCount = flightCount\n",
    "    RETURN count(s)\n",
    "''')"
   ],
   "metadata": {
    "collapsed": false,
    "pycharm": {
     "name": "#%%\n"
    }
   }
  },
  {
   "cell_type": "markdown",
   "source": [
    "## Calculating Centrality Metrics Using Neo4j Graph Data Science"
   ],
   "metadata": {
    "collapsed": false,
    "pycharm": {
     "name": "#%% md\n"
    }
   }
  },
  {
   "cell_type": "code",
   "execution_count": 9,
   "outputs": [],
   "source": [
    "# Create the in-memory graph projection\n",
    "g, _ = gds.graph.project('proj', 'Airport', {'SENDS_TO':{'properties':['flightCount']}})"
   ],
   "metadata": {
    "collapsed": false,
    "pycharm": {
     "name": "#%%\n"
    }
   }
  },
  {
   "cell_type": "code",
   "execution_count": 10,
   "outputs": [],
   "source": [
    "# calculate and write out-degree centrality\n",
    "gds.degree.write(g,relationshipWeightProperty='flightCount', writeProperty='outDegreeCentrality')\n",
    "# calculate and write betweenness centrality\n",
    "gds.betweenness.write(g, writeProperty='betweennessCentrality')\n",
    "#calculate and write eigenvector centrality\n",
    "gds.eigenvector.write(g,relationshipWeightProperty='flightCount', writeProperty='eigenvectorCentrality')\n",
    "# drop the projected in-memory graph\n",
    "g.drop()"
   ],
   "metadata": {
    "collapsed": false,
    "pycharm": {
     "name": "#%%\n"
    }
   }
  },
  {
   "cell_type": "markdown",
   "source": [
    "## Calculating Louvain Communities on UNDIRECTED Orientation"
   ],
   "metadata": {
    "collapsed": false,
    "pycharm": {
     "name": "#%% md\n"
    }
   }
  },
  {
   "cell_type": "code",
   "execution_count": 11,
   "outputs": [],
   "source": [
    "g, _ = gds.graph.project('proj', 'Airport', {'SENDS_TO':{'orientation':'UNDIRECTED', 'properties':['flightCount']}})\n",
    "gds.louvain.write(g, relationshipWeightProperty='flightCount', writeProperty='louvainId')\n",
    "\n",
    "g.drop()"
   ],
   "metadata": {
    "collapsed": false,
    "pycharm": {
     "name": "#%%\n"
    }
   }
  },
  {
   "cell_type": "markdown",
   "source": [
    "## Calculate In-Degree Centrality on REVERSED Orientation"
   ],
   "metadata": {
    "collapsed": false,
    "pycharm": {
     "name": "#%% md\n"
    }
   }
  },
  {
   "cell_type": "code",
   "execution_count": 12,
   "outputs": [],
   "source": [
    "g, _ = gds.graph.project('proj', 'Airport', {'SENDS_TO':{'orientation':'REVERSE', 'properties':['flightCount']}})\n",
    "gds.degree.write(g,relationshipWeightProperty='flightCount', writeProperty='inDegreeCentrality')\n",
    "g.drop()"
   ],
   "metadata": {
    "collapsed": false,
    "pycharm": {
     "name": "#%%\n"
    }
   }
  },
  {
   "cell_type": "markdown",
   "source": [
    "## Top 5 Airports for Each Centrality Metric"
   ],
   "metadata": {
    "collapsed": false,
    "pycharm": {
     "name": "#%% md\n"
    }
   }
  },
  {
   "cell_type": "code",
   "execution_count": 16,
   "outputs": [
    {
     "name": "stdout",
     "output_type": "stream",
     "text": [
      "\n",
      "=======================================\n",
      "Top 5 Airports for outDegreeCentrality\n",
      "   airportId         name  outDegreeCentrality\n",
      "0        815    Moodytown               2240.0\n",
      "1        128    Shanefort               2195.0\n",
      "2        700    Davisfort               2003.0\n",
      "3        349  Richardberg               1104.0\n",
      "4        485  Michaelstad                711.0\n",
      "\n",
      "=======================================\n",
      "Top 5 Airports for inDegreeCentrality\n",
      "   airportId         name  inDegreeCentrality\n",
      "0        700    Davisfort              2205.0\n",
      "1        128    Shanefort              1839.0\n",
      "2        349  Richardberg              1312.0\n",
      "3        815    Moodytown              1091.0\n",
      "4        485  Michaelstad               758.0\n",
      "\n",
      "=======================================\n",
      "Top 5 Airports for betweennessCentrality\n",
      "   airportId         name  betweennessCentrality\n",
      "0        349  Richardberg           11579.601583\n",
      "1        128    Shanefort           10715.139355\n",
      "2        700    Davisfort            5178.707487\n",
      "3        815    Moodytown            4471.174851\n",
      "4        555  Masseyhaven            3722.941825\n",
      "\n",
      "=======================================\n",
      "Top 5 Airports for eigenvectorCentrality\n",
      "   airportId         name  eigenvectorCentrality\n",
      "0        700    Davisfort               0.643818\n",
      "1        349  Richardberg               0.455872\n",
      "2        128    Shanefort               0.439031\n",
      "3        815    Moodytown               0.255747\n",
      "4        671    Scotttown               0.132667\n"
     ]
    }
   ],
   "source": [
    "metrics = ['outDegreeCentrality', 'inDegreeCentrality', 'betweennessCentrality', 'eigenvectorCentrality']\n",
    "top_n = 5\n",
    "for metric in metrics:\n",
    "    print('\\n=======================================')\n",
    "    print(f'Top {top_n} Airports for {metric}')\n",
    "    print(gds.run_cypher(f'''\n",
    "        MATCH(a:Airport)\n",
    "        RETURN a.airportId AS airportId, a.name AS name, a.{metric} AS {metric}\n",
    "        ORDER BY {metric} DESC LIMIT {top_n}\n",
    "    '''))"
   ],
   "metadata": {
    "collapsed": false,
    "pycharm": {
     "name": "#%%\n"
    }
   }
  }
 ],
 "metadata": {
  "kernelspec": {
   "display_name": "Python 3 (ipykernel)",
   "language": "python",
   "name": "python3"
  },
  "language_info": {
   "codemirror_mode": {
    "name": "ipython",
    "version": 3
   },
   "file_extension": ".py",
   "mimetype": "text/x-python",
   "name": "python",
   "nbconvert_exporter": "python",
   "pygments_lexer": "ipython3",
   "version": "3.8.2"
  }
 },
 "nbformat": 4,
 "nbformat_minor": 1
}