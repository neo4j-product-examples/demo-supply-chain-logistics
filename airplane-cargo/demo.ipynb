{
 "cells": [
  {
   "cell_type": "markdown",
   "source": [],
   "metadata": {
    "collapsed": false,
    "pycharm": {
     "name": "#%% md\n"
    }
   }
  },
  {
   "cell_type": "markdown",
   "source": [
    "# Graph Data Science for Logistics: Experimentation with Air Cargo Shipment Data"
   ],
   "metadata": {
    "collapsed": false,
    "pycharm": {
     "name": "#%% md\n"
    }
   }
  },
  {
   "cell_type": "code",
   "execution_count": 69,
   "outputs": [],
   "source": [
    "import pandas as pd\n",
    "import configparser"
   ],
   "metadata": {
    "collapsed": false,
    "pycharm": {
     "name": "#%%\n"
    }
   }
  },
  {
   "cell_type": "code",
   "execution_count": 70,
   "outputs": [],
   "source": [
    "config = configparser.RawConfigParser()\n",
    "config.read('/Users/zachblumenfeld/devtools/aura-freight-demo.ini')\n",
    "HOST = config['NEO4J']['HOST']\n",
    "USERNAME = config['NEO4J']['USERNAME']\n",
    "PASSWORD = config['NEO4J']['PASSWORD']"
   ],
   "metadata": {
    "collapsed": false,
    "pycharm": {
     "name": "#%%\n"
    }
   }
  },
  {
   "cell_type": "code",
   "execution_count": 71,
   "outputs": [],
   "source": [
    "from graphdatascience import GraphDataScience\n",
    "\n",
    "# Use Neo4j URI and credentials according to your setup\n",
    "gds = GraphDataScience(HOST, auth=(USERNAME, PASSWORD), aura_ds=True)"
   ],
   "metadata": {
    "collapsed": false,
    "pycharm": {
     "name": "#%%\n"
    }
   }
  },
  {
   "cell_type": "markdown",
   "source": [
    "## Airport Importance and Risks"
   ],
   "metadata": {
    "collapsed": false,
    "pycharm": {
     "name": "#%% md\n"
    }
   }
  },
  {
   "cell_type": "code",
   "execution_count": 72,
   "outputs": [
    {
     "data": {
      "text/plain": "   count(s)\n0     16167",
      "text/html": "<div>\n<style scoped>\n    .dataframe tbody tr th:only-of-type {\n        vertical-align: middle;\n    }\n\n    .dataframe tbody tr th {\n        vertical-align: top;\n    }\n\n    .dataframe thead th {\n        text-align: right;\n    }\n</style>\n<table border=\"1\" class=\"dataframe\">\n  <thead>\n    <tr style=\"text-align: right;\">\n      <th></th>\n      <th>count(s)</th>\n    </tr>\n  </thead>\n  <tbody>\n    <tr>\n      <th>0</th>\n      <td>16167</td>\n    </tr>\n  </tbody>\n</table>\n</div>"
     },
     "execution_count": 72,
     "metadata": {},
     "output_type": "execute_result"
    }
   ],
   "source": [
    "# Directly connect airports to understand location importances and risks\n",
    "# DOing this on the DB, outside Cypher projection for now\n",
    "gds.run_cypher('''\n",
    "    MATCH(a1:Airport)<-[:LOCATED_AT]-(d1:Departure)-[r:DEPART]->(d2:Arrival)-[:LOCATED_AT]->(a2:Airport)\n",
    "    MERGE(a1)-[s:SENDS_TO {shipmentId:r.shipmentId, legId: r.legId}]->(a2)\n",
    "    RETURN count(s)\n",
    "''')"
   ],
   "metadata": {
    "collapsed": false,
    "pycharm": {
     "name": "#%%\n"
    }
   }
  },
  {
   "cell_type": "code",
   "execution_count": 73,
   "outputs": [],
   "source": [
    "# What are the most import\n",
    "g, _ = gds.graph.project('proj', ['Airport'], ['SENDS_TO'])"
   ],
   "metadata": {
    "collapsed": false,
    "pycharm": {
     "name": "#%%\n"
    }
   }
  },
  {
   "cell_type": "code",
   "execution_count": 74,
   "outputs": [
    {
     "data": {
      "text/plain": "nodePropertiesWritten                                                   237\nwriteMillis                                                               7\ncentralityDistribution    {'p99': 6337.062499999069, 'min': 0.0, 'max': ...\npostProcessingMillis                                                    181\npreProcessingMillis                                                       0\ncomputeMillis                                                            17\nconfiguration             {'writeConcurrency': 4, 'writeProperty': 'glob...\nName: 0, dtype: object"
     },
     "execution_count": 74,
     "metadata": {},
     "output_type": "execute_result"
    }
   ],
   "source": [
    "# betweenness centrality\n",
    "gds.betweenness.write(g, writeProperty='globalImportance')"
   ],
   "metadata": {
    "collapsed": false,
    "pycharm": {
     "name": "#%%\n"
    }
   }
  },
  {
   "cell_type": "code",
   "execution_count": 75,
   "outputs": [
    {
     "data": {
      "text/plain": "    a.airportId  a.globalImportance\n0           128        12382.027312\n1           349        10998.689127\n2           700         6337.058278\n3           815         6290.492129\n4           555         3631.742909\n5           256         2362.820536\n6           308         1822.031209\n7           485         1495.812769\n8           149         1391.657845\n9           431         1103.351073\n10          609          890.117217\n11          144          671.041841\n12          403          519.071199\n13          610          466.370269\n14          571          456.315815\n15          783          428.746587\n16          281          372.907992\n17          809          332.841810\n18          371          256.773368\n19          134          238.734838",
      "text/html": "<div>\n<style scoped>\n    .dataframe tbody tr th:only-of-type {\n        vertical-align: middle;\n    }\n\n    .dataframe tbody tr th {\n        vertical-align: top;\n    }\n\n    .dataframe thead th {\n        text-align: right;\n    }\n</style>\n<table border=\"1\" class=\"dataframe\">\n  <thead>\n    <tr style=\"text-align: right;\">\n      <th></th>\n      <th>a.airportId</th>\n      <th>a.globalImportance</th>\n    </tr>\n  </thead>\n  <tbody>\n    <tr>\n      <th>0</th>\n      <td>128</td>\n      <td>12382.027312</td>\n    </tr>\n    <tr>\n      <th>1</th>\n      <td>349</td>\n      <td>10998.689127</td>\n    </tr>\n    <tr>\n      <th>2</th>\n      <td>700</td>\n      <td>6337.058278</td>\n    </tr>\n    <tr>\n      <th>3</th>\n      <td>815</td>\n      <td>6290.492129</td>\n    </tr>\n    <tr>\n      <th>4</th>\n      <td>555</td>\n      <td>3631.742909</td>\n    </tr>\n    <tr>\n      <th>5</th>\n      <td>256</td>\n      <td>2362.820536</td>\n    </tr>\n    <tr>\n      <th>6</th>\n      <td>308</td>\n      <td>1822.031209</td>\n    </tr>\n    <tr>\n      <th>7</th>\n      <td>485</td>\n      <td>1495.812769</td>\n    </tr>\n    <tr>\n      <th>8</th>\n      <td>149</td>\n      <td>1391.657845</td>\n    </tr>\n    <tr>\n      <th>9</th>\n      <td>431</td>\n      <td>1103.351073</td>\n    </tr>\n    <tr>\n      <th>10</th>\n      <td>609</td>\n      <td>890.117217</td>\n    </tr>\n    <tr>\n      <th>11</th>\n      <td>144</td>\n      <td>671.041841</td>\n    </tr>\n    <tr>\n      <th>12</th>\n      <td>403</td>\n      <td>519.071199</td>\n    </tr>\n    <tr>\n      <th>13</th>\n      <td>610</td>\n      <td>466.370269</td>\n    </tr>\n    <tr>\n      <th>14</th>\n      <td>571</td>\n      <td>456.315815</td>\n    </tr>\n    <tr>\n      <th>15</th>\n      <td>783</td>\n      <td>428.746587</td>\n    </tr>\n    <tr>\n      <th>16</th>\n      <td>281</td>\n      <td>372.907992</td>\n    </tr>\n    <tr>\n      <th>17</th>\n      <td>809</td>\n      <td>332.841810</td>\n    </tr>\n    <tr>\n      <th>18</th>\n      <td>371</td>\n      <td>256.773368</td>\n    </tr>\n    <tr>\n      <th>19</th>\n      <td>134</td>\n      <td>238.734838</td>\n    </tr>\n  </tbody>\n</table>\n</div>"
     },
     "execution_count": 75,
     "metadata": {},
     "output_type": "execute_result"
    }
   ],
   "source": [
    "\n",
    "gds.run_cypher('''\n",
    "    MATCH(a:Airport)\n",
    "    RETURN a.airportId, a.globalImportance\n",
    "    ORDER BY a.globalImportance DESC LIMIT 20\n",
    "''')"
   ],
   "metadata": {
    "collapsed": false,
    "pycharm": {
     "name": "#%%\n"
    }
   }
  },
  {
   "cell_type": "code",
   "execution_count": 76,
   "outputs": [],
   "source": [
    "g.drop()"
   ],
   "metadata": {
    "collapsed": false,
    "pycharm": {
     "name": "#%%\n"
    }
   }
  },
  {
   "cell_type": "markdown",
   "source": [
    "## Route Finding"
   ],
   "metadata": {
    "collapsed": false
   }
  },
  {
   "cell_type": "code",
   "execution_count": 77,
   "outputs": [
    {
     "data": {
      "text/plain": "   count(s)\n0      2138",
      "text/html": "<div>\n<style scoped>\n    .dataframe tbody tr th:only-of-type {\n        vertical-align: middle;\n    }\n\n    .dataframe tbody tr th {\n        vertical-align: top;\n    }\n\n    .dataframe thead th {\n        text-align: right;\n    }\n</style>\n<table border=\"1\" class=\"dataframe\">\n  <thead>\n    <tr style=\"text-align: right;\">\n      <th></th>\n      <th>count(s)</th>\n    </tr>\n  </thead>\n  <tbody>\n    <tr>\n      <th>0</th>\n      <td>2138</td>\n    </tr>\n  </tbody>\n</table>\n</div>"
     },
     "execution_count": 77,
     "metadata": {},
     "output_type": "execute_result"
    }
   ],
   "source": [
    "# Aggregate Paths to get summary cost metrics for routes\n",
    "# possible agg cost metrics: min, p25, median, mean, p75, p95, p99, max\n",
    "gds.run_cypher('''\n",
    "    MATCH(n0) WHERE NOT n0:Airport\n",
    "    MATCH(n1) WHERE NOT n1:Airport\n",
    "    MATCH(n0)-[r]->(n1)\n",
    "    WITH n0, n1,\n",
    "        r.effectiveMinutes AS effectiveMinutes,\n",
    "        r.plannedMinutes AS plannedMinutes,\n",
    "        r.effectiveMinutes - r.plannedMinutes AS diffMinutes\n",
    "    WITH n0, n1,\n",
    "    avg(effectiveMinutes) AS eMinutesMean, percentileCont(effectiveMinutes, 0.99) AS eMinutesP99,\n",
    "    avg(plannedMinutes) AS pMinutesMean, percentileCont(plannedMinutes, 0.99) AS pMinutesP99,\n",
    "    avg(diffMinutes) AS dMinutesMean, percentileCont(diffMinutes, 0.99) AS dMinutesP99\n",
    "    MERGE(n0)-[s:SUPPLIES]-(n1)\n",
    "    ON CREATE SET s.eMinutesMean = eMinutesMean,  s.eMinutesP99 = eMinutesP99,\n",
    "        s.pMinutesMean = pMinutesMean,  s.pMinutesP99 = pMinutesP99,\n",
    "        s.dMinutesMean = dMinutesMean,  s.dMinutesP99 = dMinutesP99\n",
    "    RETURN count(s)\n",
    "''')"
   ],
   "metadata": {
    "collapsed": false,
    "pycharm": {
     "name": "#%%\n"
    }
   }
  },
  {
   "cell_type": "code",
   "execution_count": 78,
   "outputs": [],
   "source": [
    "g, _ = gds.graph.project('proj', ['Entry', 'DepartureCheckpoint', 'Departure', 'Arrival', 'ArrivalCheckpoint', 'Destination'],\n",
    "    {'SUPPLIES':{'properties':['eMinutesMean', 'eMinutesP99', 'pMinutesMean', 'pMinutesP99', 'dMinutesMean', 'dMinutesP99']}})"
   ],
   "metadata": {
    "collapsed": false,
    "pycharm": {
     "name": "#%%\n"
    }
   }
  },
  {
   "cell_type": "markdown",
   "source": [],
   "metadata": {
    "collapsed": false
   }
  },
  {
   "cell_type": "code",
   "execution_count": 79,
   "outputs": [],
   "source": [
    "def get_airport_ids(row):\n",
    "    return list( dict.fromkeys([n.get('airportId') for n in row.path.nodes]))\n",
    "\n",
    "def calculate_shortest_paths(entry_id, destination_id, cost_metric, number_of_paths=5):\n",
    "    source_id = gds.find_node_id(['Entry'], {'airportId': entry_id})\n",
    "    target_id = gds.find_node_id(['Destination'], {'airportId': destination_id})\n",
    "    paths_df = gds.shortestPath.yens.stream(g, sourceNode=source_id, targetNode=target_id, k=number_of_paths,\n",
    "                                                   relationshipWeightProperty=cost_metric)\n",
    "    paths_df['airportPath'] = paths_df.apply(get_airport_ids, axis=1)\n",
    "    return paths_df[['totalCost', 'airportPath']]"
   ],
   "metadata": {
    "collapsed": false,
    "pycharm": {
     "name": "#%%\n"
    }
   }
  },
  {
   "cell_type": "code",
   "execution_count": 80,
   "outputs": [
    {
     "data": {
      "text/plain": "     totalCost           airportPath\n0  2849.608752       [614, 815, 485]\n1  3635.915528  [614, 783, 815, 485]\n2  3725.751888       [614, 128, 485]\n3  4075.976400  [614, 815, 281, 485]\n4  4115.476511  [614, 815, 809, 485]\n5  4133.521208  [614, 815, 128, 485]\n6  4356.054115  [614, 349, 815, 485]",
      "text/html": "<div>\n<style scoped>\n    .dataframe tbody tr th:only-of-type {\n        vertical-align: middle;\n    }\n\n    .dataframe tbody tr th {\n        vertical-align: top;\n    }\n\n    .dataframe thead th {\n        text-align: right;\n    }\n</style>\n<table border=\"1\" class=\"dataframe\">\n  <thead>\n    <tr style=\"text-align: right;\">\n      <th></th>\n      <th>totalCost</th>\n      <th>airportPath</th>\n    </tr>\n  </thead>\n  <tbody>\n    <tr>\n      <th>0</th>\n      <td>2849.608752</td>\n      <td>[614, 815, 485]</td>\n    </tr>\n    <tr>\n      <th>1</th>\n      <td>3635.915528</td>\n      <td>[614, 783, 815, 485]</td>\n    </tr>\n    <tr>\n      <th>2</th>\n      <td>3725.751888</td>\n      <td>[614, 128, 485]</td>\n    </tr>\n    <tr>\n      <th>3</th>\n      <td>4075.976400</td>\n      <td>[614, 815, 281, 485]</td>\n    </tr>\n    <tr>\n      <th>4</th>\n      <td>4115.476511</td>\n      <td>[614, 815, 809, 485]</td>\n    </tr>\n    <tr>\n      <th>5</th>\n      <td>4133.521208</td>\n      <td>[614, 815, 128, 485]</td>\n    </tr>\n    <tr>\n      <th>6</th>\n      <td>4356.054115</td>\n      <td>[614, 349, 815, 485]</td>\n    </tr>\n  </tbody>\n</table>\n</div>"
     },
     "execution_count": 80,
     "metadata": {},
     "output_type": "execute_result"
    }
   ],
   "source": [
    "# Shortest Path - find the shortest path between two airports based on average effective times\n",
    "airport_id_1 = 614\n",
    "airport_id_2 = 485\n",
    "calculate_shortest_paths(airport_id_1, airport_id_2, 'eMinutesMean', 7)"
   ],
   "metadata": {
    "collapsed": false,
    "pycharm": {
     "name": "#%%\n"
    }
   }
  },
  {
   "cell_type": "code",
   "execution_count": 81,
   "outputs": [
    {
     "data": {
      "text/plain": "   totalCost           airportPath\n0   15785.91       [614, 815, 485]\n1   16289.62       [614, 128, 485]\n2   16737.48       [614, 349, 485]\n3   16830.10  [614, 815, 809, 485]\n4   17356.06  [614, 815, 216, 485]\n5   17878.39  [614, 815, 431, 485]\n6   17990.02  [614, 128, 694, 485]",
      "text/html": "<div>\n<style scoped>\n    .dataframe tbody tr th:only-of-type {\n        vertical-align: middle;\n    }\n\n    .dataframe tbody tr th {\n        vertical-align: top;\n    }\n\n    .dataframe thead th {\n        text-align: right;\n    }\n</style>\n<table border=\"1\" class=\"dataframe\">\n  <thead>\n    <tr style=\"text-align: right;\">\n      <th></th>\n      <th>totalCost</th>\n      <th>airportPath</th>\n    </tr>\n  </thead>\n  <tbody>\n    <tr>\n      <th>0</th>\n      <td>15785.91</td>\n      <td>[614, 815, 485]</td>\n    </tr>\n    <tr>\n      <th>1</th>\n      <td>16289.62</td>\n      <td>[614, 128, 485]</td>\n    </tr>\n    <tr>\n      <th>2</th>\n      <td>16737.48</td>\n      <td>[614, 349, 485]</td>\n    </tr>\n    <tr>\n      <th>3</th>\n      <td>16830.10</td>\n      <td>[614, 815, 809, 485]</td>\n    </tr>\n    <tr>\n      <th>4</th>\n      <td>17356.06</td>\n      <td>[614, 815, 216, 485]</td>\n    </tr>\n    <tr>\n      <th>5</th>\n      <td>17878.39</td>\n      <td>[614, 815, 431, 485]</td>\n    </tr>\n    <tr>\n      <th>6</th>\n      <td>17990.02</td>\n      <td>[614, 128, 694, 485]</td>\n    </tr>\n  </tbody>\n</table>\n</div>"
     },
     "execution_count": 81,
     "metadata": {},
     "output_type": "execute_result"
    }
   ],
   "source": [
    "# Shortest Path - find the shortest path between two airports based on 99 percentile times...i.e. near worst case scenarios\n",
    "calculate_shortest_paths(airport_id_1, airport_id_2, 'eMinutesP99', 7)"
   ],
   "metadata": {
    "collapsed": false,
    "pycharm": {
     "name": "#%%\n"
    }
   }
  },
  {
   "cell_type": "code",
   "execution_count": 82,
   "outputs": [],
   "source": [
    "g.drop()"
   ],
   "metadata": {
    "collapsed": false,
    "pycharm": {
     "name": "#%%\n"
    }
   }
  },
  {
   "cell_type": "markdown",
   "source": [
    "Note for future. Consider:\n",
    "\n",
    "1. Using other aggregate metrics for comparison in the SUPPLIES relationships for path finding costs.  This includes other percentiles but alo using predicted time or the differences between effective and predicted times\n",
    "2. Finding paths with the SUPPLIES relationships but evaluating risk of paths via the distribution of historical performance along those paths. i.e. avoiding flaw pof average issues.\n",
    "\n",
    "Also for path finding we need to be thoughtful about whether we are restricting to paths over single shipments and inbound vs outbound traffic as this effects the interpretation and formality of results....all stuff to look into if we want to pursue this dataset further."
   ],
   "metadata": {
    "collapsed": false,
    "pycharm": {
     "name": "#%% md\n"
    }
   }
  },
  {
   "cell_type": "code",
   "execution_count": 82,
   "outputs": [],
   "source": [],
   "metadata": {
    "collapsed": false,
    "pycharm": {
     "name": "#%%\n"
    }
   }
  }
 ],
 "metadata": {
  "kernelspec": {
   "display_name": "Python 3",
   "language": "python",
   "name": "python3"
  },
  "language_info": {
   "codemirror_mode": {
    "name": "ipython",
    "version": 2
   },
   "file_extension": ".py",
   "mimetype": "text/x-python",
   "name": "python",
   "nbconvert_exporter": "python",
   "pygments_lexer": "ipython2",
   "version": "2.7.6"
  }
 },
 "nbformat": 4,
 "nbformat_minor": 0
}