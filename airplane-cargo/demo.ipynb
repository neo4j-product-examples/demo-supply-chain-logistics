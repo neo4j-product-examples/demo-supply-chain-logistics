{
 "cells": [
  {
   "cell_type": "markdown",
   "source": [],
   "metadata": {
    "collapsed": false,
    "pycharm": {
     "name": "#%% md\n"
    }
   }
  },
  {
   "cell_type": "markdown",
   "source": [
    "# Graph Data Science for Logistics: Experimentation with Air Cargo Shipment Data"
   ],
   "metadata": {
    "collapsed": false,
    "pycharm": {
     "name": "#%% md\n"
    }
   }
  },
  {
   "cell_type": "code",
   "execution_count": 1,
   "outputs": [],
   "source": [
    "import pandas as pd\n",
    "import configparser\n",
    "import numpy as np\n",
    "import matplotlib.pyplot as plt"
   ],
   "metadata": {
    "collapsed": false,
    "pycharm": {
     "name": "#%%\n"
    }
   }
  },
  {
   "cell_type": "code",
   "execution_count": 2,
   "outputs": [],
   "source": [
    "config = configparser.RawConfigParser()\n",
    "config.read('/Users/zachblumenfeld/devtools/aura-freight-demo.ini')\n",
    "HOST = config['NEO4J']['HOST']\n",
    "USERNAME = config['NEO4J']['USERNAME']\n",
    "PASSWORD = config['NEO4J']['PASSWORD']"
   ],
   "metadata": {
    "collapsed": false,
    "pycharm": {
     "name": "#%%\n"
    }
   }
  },
  {
   "cell_type": "code",
   "execution_count": 3,
   "outputs": [],
   "source": [
    "from graphdatascience import GraphDataScience\n",
    "\n",
    "# Use Neo4j URI and credentials according to your setup\n",
    "gds = GraphDataScience(HOST, auth=(USERNAME, PASSWORD), aura_ds=True)"
   ],
   "metadata": {
    "collapsed": false,
    "pycharm": {
     "name": "#%%\n"
    }
   }
  },
  {
   "cell_type": "markdown",
   "source": [
    "## Logistic Network Statistics"
   ],
   "metadata": {
    "collapsed": false,
    "pycharm": {
     "name": "#%% md\n"
    }
   }
  },
  {
   "cell_type": "code",
   "execution_count": 4,
   "outputs": [],
   "source": [
    "#gds.run_cypher('MATCH(a) WHERE NOT a:Airport SET a:Checkpoint RETURN count(a)')"
   ],
   "metadata": {
    "collapsed": false,
    "pycharm": {
     "name": "#%%\n"
    }
   }
  },
  {
   "cell_type": "markdown",
   "source": [
    "### Shipment Statistics"
   ],
   "metadata": {
    "collapsed": false,
    "pycharm": {
     "name": "#%% md\n"
    }
   }
  },
  {
   "cell_type": "code",
   "execution_count": 6,
   "outputs": [
    {
     "data": {
      "text/plain": "   numberOfShipments\n0               3942",
      "text/html": "<div>\n<style scoped>\n    .dataframe tbody tr th:only-of-type {\n        vertical-align: middle;\n    }\n\n    .dataframe tbody tr th {\n        vertical-align: top;\n    }\n\n    .dataframe thead th {\n        text-align: right;\n    }\n</style>\n<table border=\"1\" class=\"dataframe\">\n  <thead>\n    <tr style=\"text-align: right;\">\n      <th></th>\n      <th>numberOfShipments</th>\n    </tr>\n  </thead>\n  <tbody>\n    <tr>\n      <th>0</th>\n      <td>3942</td>\n    </tr>\n  </tbody>\n</table>\n</div>"
     },
     "execution_count": 6,
     "metadata": {},
     "output_type": "execute_result"
    }
   ],
   "source": [
    "# Number of shipments\n",
    "gds.run_cypher('''\n",
    "    MATCH()-[r:FREIGHT_TRANSPORT]->() RETURN count(DISTINCT r.shipmentId) AS numberOfShipments\n",
    "''')"
   ],
   "metadata": {
    "collapsed": false,
    "pycharm": {
     "name": "#%%\n"
    }
   }
  },
  {
   "cell_type": "code",
   "execution_count": 7,
   "outputs": [
    {
     "data": {
      "text/plain": "   numberOfInboundLegs  shipmentCount\n0                    3           1366\n1                    2           1258\n2                    1           1318",
      "text/html": "<div>\n<style scoped>\n    .dataframe tbody tr th:only-of-type {\n        vertical-align: middle;\n    }\n\n    .dataframe tbody tr th {\n        vertical-align: top;\n    }\n\n    .dataframe thead th {\n        text-align: right;\n    }\n</style>\n<table border=\"1\" class=\"dataframe\">\n  <thead>\n    <tr style=\"text-align: right;\">\n      <th></th>\n      <th>numberOfInboundLegs</th>\n      <th>shipmentCount</th>\n    </tr>\n  </thead>\n  <tbody>\n    <tr>\n      <th>0</th>\n      <td>3</td>\n      <td>1366</td>\n    </tr>\n    <tr>\n      <th>1</th>\n      <td>2</td>\n      <td>1258</td>\n    </tr>\n    <tr>\n      <th>2</th>\n      <td>1</td>\n      <td>1318</td>\n    </tr>\n  </tbody>\n</table>\n</div>"
     },
     "execution_count": 7,
     "metadata": {},
     "output_type": "execute_result"
    }
   ],
   "source": [
    "# shipments pivot by inbound leg count\n",
    "gds.run_cypher('''\n",
    "    MATCH()-[r:FREIGHT_TRANSPORT]->()\n",
    "    WITH r.shipmentId AS shipmentId, max(r.legNumber) AS numberOfInboundLegs\n",
    "    RETURN numberOfInboundLegs, count(shipmentId) AS shipmentCount\n",
    "''')"
   ],
   "metadata": {
    "collapsed": false,
    "pycharm": {
     "name": "#%%\n"
    }
   }
  },
  {
   "cell_type": "markdown",
   "source": [
    "### Shipment Leg Statistics"
   ],
   "metadata": {
    "collapsed": false,
    "pycharm": {
     "name": "#%% md\n"
    }
   }
  },
  {
   "cell_type": "code",
   "execution_count": 8,
   "outputs": [
    {
     "data": {
      "text/plain": "  logisticType  numberOfLegs\n0     OUTBOUND          3942\n1      INBOUND          7932",
      "text/html": "<div>\n<style scoped>\n    .dataframe tbody tr th:only-of-type {\n        vertical-align: middle;\n    }\n\n    .dataframe tbody tr th {\n        vertical-align: top;\n    }\n\n    .dataframe thead th {\n        text-align: right;\n    }\n</style>\n<table border=\"1\" class=\"dataframe\">\n  <thead>\n    <tr style=\"text-align: right;\">\n      <th></th>\n      <th>logisticType</th>\n      <th>numberOfLegs</th>\n    </tr>\n  </thead>\n  <tbody>\n    <tr>\n      <th>0</th>\n      <td>OUTBOUND</td>\n      <td>3942</td>\n    </tr>\n    <tr>\n      <th>1</th>\n      <td>INBOUND</td>\n      <td>7932</td>\n    </tr>\n  </tbody>\n</table>\n</div>"
     },
     "execution_count": 8,
     "metadata": {},
     "output_type": "execute_result"
    }
   ],
   "source": [
    "# Number of legs\n",
    "gds.run_cypher('''\n",
    "    MATCH()-[r:FREIGHT_TRANSPORT]->()\n",
    "    WITH DISTINCT r.legId AS legId,\n",
    "        CASE r.legNumber\n",
    "            WHEN -1 THEN \"OUTBOUND\"\n",
    "            ELSE \"INBOUND\"\n",
    "        END AS logisticType\n",
    "    RETURN logisticType, count(legId) AS numberOfLegs\n",
    "''')"
   ],
   "metadata": {
    "collapsed": false,
    "pycharm": {
     "name": "#%%\n"
    }
   }
  },
  {
   "cell_type": "code",
   "execution_count": 9,
   "outputs": [
    {
     "data": {
      "text/plain": "  logisticType  numberOfSegments  legCount\n0      INBOUND                 1      5555\n1      INBOUND                 2      2332\n2      INBOUND                 3        45\n3     OUTBOUND                 1      2097\n4     OUTBOUND                 2      1819\n5     OUTBOUND                 3        26",
      "text/html": "<div>\n<style scoped>\n    .dataframe tbody tr th:only-of-type {\n        vertical-align: middle;\n    }\n\n    .dataframe tbody tr th {\n        vertical-align: top;\n    }\n\n    .dataframe thead th {\n        text-align: right;\n    }\n</style>\n<table border=\"1\" class=\"dataframe\">\n  <thead>\n    <tr style=\"text-align: right;\">\n      <th></th>\n      <th>logisticType</th>\n      <th>numberOfSegments</th>\n      <th>legCount</th>\n    </tr>\n  </thead>\n  <tbody>\n    <tr>\n      <th>0</th>\n      <td>INBOUND</td>\n      <td>1</td>\n      <td>5555</td>\n    </tr>\n    <tr>\n      <th>1</th>\n      <td>INBOUND</td>\n      <td>2</td>\n      <td>2332</td>\n    </tr>\n    <tr>\n      <th>2</th>\n      <td>INBOUND</td>\n      <td>3</td>\n      <td>45</td>\n    </tr>\n    <tr>\n      <th>3</th>\n      <td>OUTBOUND</td>\n      <td>1</td>\n      <td>2097</td>\n    </tr>\n    <tr>\n      <th>4</th>\n      <td>OUTBOUND</td>\n      <td>2</td>\n      <td>1819</td>\n    </tr>\n    <tr>\n      <th>5</th>\n      <td>OUTBOUND</td>\n      <td>3</td>\n      <td>26</td>\n    </tr>\n  </tbody>\n</table>\n</div>"
     },
     "execution_count": 9,
     "metadata": {},
     "output_type": "execute_result"
    }
   ],
   "source": [
    "# leg pivot by logistic type and segment count\n",
    "gds.run_cypher('''\n",
    "    MATCH()-[r:FREIGHT_TRANSPORT]->()\n",
    "    WITH r.legId AS legId,\n",
    "    max(r.segmentNumber) AS numberOfSegments,\n",
    "    CASE r.legNumber\n",
    "        WHEN -1 THEN \"OUTBOUND\"\n",
    "        ELSE \"INBOUND\"\n",
    "    END AS logisticType\n",
    "    RETURN logisticType, numberOfSegments, count(legId) AS legCount ORDER BY logisticType, numberOfSegments\n",
    "''')"
   ],
   "metadata": {
    "collapsed": false,
    "pycharm": {
     "name": "#%%\n"
    }
   }
  },
  {
   "cell_type": "code",
   "execution_count": 10,
   "outputs": [
    {
     "data": {
      "text/plain": "       departureAirportId  arrivalAirportId  avg(plannedMinutes)  \\\ncount         1205.000000       1205.000000          1205.000000   \nmean           435.342739        442.607469           859.084858   \nstd            221.112270        217.081769           540.159357   \nmin            101.000000        100.000000            35.000000   \n25%            256.000000        256.000000           520.833333   \n50%            403.000000        413.000000           795.714286   \n75%            609.000000        610.000000          1050.000000   \nmax            815.000000        815.000000          5140.000000   \n\n       stDev(plannedMinutes)  min(plannedMinutes)  max(plannedMinutes)  \\\ncount            1205.000000          1205.000000          1205.000000   \nmean               90.808247           762.662241           992.941909   \nstd               212.537377           536.245575           660.710273   \nmin                 0.000000            35.000000            35.000000   \n25%                 0.000000           400.000000           615.000000   \n50%                 5.773503           715.000000           850.000000   \n75%               101.398430           960.000000          1180.000000   \nmax              2450.124997          5140.000000          5140.000000   \n\n               cnt  \ncount  1205.000000  \nmean     13.416598  \nstd      28.274034  \nmin       1.000000  \n25%       1.000000  \n50%       4.000000  \n75%      13.000000  \nmax     444.000000  ",
      "text/html": "<div>\n<style scoped>\n    .dataframe tbody tr th:only-of-type {\n        vertical-align: middle;\n    }\n\n    .dataframe tbody tr th {\n        vertical-align: top;\n    }\n\n    .dataframe thead th {\n        text-align: right;\n    }\n</style>\n<table border=\"1\" class=\"dataframe\">\n  <thead>\n    <tr style=\"text-align: right;\">\n      <th></th>\n      <th>departureAirportId</th>\n      <th>arrivalAirportId</th>\n      <th>avg(plannedMinutes)</th>\n      <th>stDev(plannedMinutes)</th>\n      <th>min(plannedMinutes)</th>\n      <th>max(plannedMinutes)</th>\n      <th>cnt</th>\n    </tr>\n  </thead>\n  <tbody>\n    <tr>\n      <th>count</th>\n      <td>1205.000000</td>\n      <td>1205.000000</td>\n      <td>1205.000000</td>\n      <td>1205.000000</td>\n      <td>1205.000000</td>\n      <td>1205.000000</td>\n      <td>1205.000000</td>\n    </tr>\n    <tr>\n      <th>mean</th>\n      <td>435.342739</td>\n      <td>442.607469</td>\n      <td>859.084858</td>\n      <td>90.808247</td>\n      <td>762.662241</td>\n      <td>992.941909</td>\n      <td>13.416598</td>\n    </tr>\n    <tr>\n      <th>std</th>\n      <td>221.112270</td>\n      <td>217.081769</td>\n      <td>540.159357</td>\n      <td>212.537377</td>\n      <td>536.245575</td>\n      <td>660.710273</td>\n      <td>28.274034</td>\n    </tr>\n    <tr>\n      <th>min</th>\n      <td>101.000000</td>\n      <td>100.000000</td>\n      <td>35.000000</td>\n      <td>0.000000</td>\n      <td>35.000000</td>\n      <td>35.000000</td>\n      <td>1.000000</td>\n    </tr>\n    <tr>\n      <th>25%</th>\n      <td>256.000000</td>\n      <td>256.000000</td>\n      <td>520.833333</td>\n      <td>0.000000</td>\n      <td>400.000000</td>\n      <td>615.000000</td>\n      <td>1.000000</td>\n    </tr>\n    <tr>\n      <th>50%</th>\n      <td>403.000000</td>\n      <td>413.000000</td>\n      <td>795.714286</td>\n      <td>5.773503</td>\n      <td>715.000000</td>\n      <td>850.000000</td>\n      <td>4.000000</td>\n    </tr>\n    <tr>\n      <th>75%</th>\n      <td>609.000000</td>\n      <td>610.000000</td>\n      <td>1050.000000</td>\n      <td>101.398430</td>\n      <td>960.000000</td>\n      <td>1180.000000</td>\n      <td>13.000000</td>\n    </tr>\n    <tr>\n      <th>max</th>\n      <td>815.000000</td>\n      <td>815.000000</td>\n      <td>5140.000000</td>\n      <td>2450.124997</td>\n      <td>5140.000000</td>\n      <td>5140.000000</td>\n      <td>444.000000</td>\n    </tr>\n  </tbody>\n</table>\n</div>"
     },
     "execution_count": 10,
     "metadata": {},
     "output_type": "execute_result"
    }
   ],
   "source": [
    "# statistics for transportation\n",
    "df = gds.run_cypher('''\n",
    "    MATCH(n0)-[r:FREIGHT_TRANSPORT]->(n1)\n",
    "    WITH r, n0.airportId as departureAirportId, r.effectiveMinutes AS effectiveMinutes, r.plannedMinutes AS plannedMinutes, n1.airportId AS arrivalAirportId\n",
    "    RETURN departureAirportId, arrivalAirportId, avg(plannedMinutes), stDev(plannedMinutes), min(plannedMinutes), max(plannedMinutes), count(*) AS cnt\n",
    "    ORDER BY cnt DESC\n",
    "''')\n",
    "df.describe()"
   ],
   "metadata": {
    "collapsed": false,
    "pycharm": {
     "name": "#%%\n"
    }
   }
  },
  {
   "cell_type": "markdown",
   "source": [
    "### Airport Statistics"
   ],
   "metadata": {
    "collapsed": false,
    "pycharm": {
     "name": "#%% md\n"
    }
   }
  },
  {
   "cell_type": "code",
   "execution_count": 14,
   "outputs": [
    {
     "data": {
      "text/plain": "     airportId  numberOfArrivals  numberOfDepartures  percOfArrivals  \\\n0          815              1091                2240        0.067483   \n1          128              1839                2195        0.113750   \n2          700              2205                2003        0.136389   \n3          349              1312                1104        0.081153   \n4          485               758                 711        0.046886   \n..         ...               ...                 ...             ...   \n232        477                 2                   0        0.000124   \n233        488                 1                   0        0.000062   \n234        502                 4                   0        0.000247   \n235        504                 4                   0        0.000247   \n236        508                 1                   0        0.000062   \n\n     percOfDepartures  \n0            0.138554  \n1            0.135770  \n2            0.123894  \n3            0.068287  \n4            0.043978  \n..                ...  \n232          0.000000  \n233          0.000000  \n234          0.000000  \n235          0.000000  \n236          0.000000  \n\n[237 rows x 5 columns]",
      "text/html": "<div>\n<style scoped>\n    .dataframe tbody tr th:only-of-type {\n        vertical-align: middle;\n    }\n\n    .dataframe tbody tr th {\n        vertical-align: top;\n    }\n\n    .dataframe thead th {\n        text-align: right;\n    }\n</style>\n<table border=\"1\" class=\"dataframe\">\n  <thead>\n    <tr style=\"text-align: right;\">\n      <th></th>\n      <th>airportId</th>\n      <th>numberOfArrivals</th>\n      <th>numberOfDepartures</th>\n      <th>percOfArrivals</th>\n      <th>percOfDepartures</th>\n    </tr>\n  </thead>\n  <tbody>\n    <tr>\n      <th>0</th>\n      <td>815</td>\n      <td>1091</td>\n      <td>2240</td>\n      <td>0.067483</td>\n      <td>0.138554</td>\n    </tr>\n    <tr>\n      <th>1</th>\n      <td>128</td>\n      <td>1839</td>\n      <td>2195</td>\n      <td>0.113750</td>\n      <td>0.135770</td>\n    </tr>\n    <tr>\n      <th>2</th>\n      <td>700</td>\n      <td>2205</td>\n      <td>2003</td>\n      <td>0.136389</td>\n      <td>0.123894</td>\n    </tr>\n    <tr>\n      <th>3</th>\n      <td>349</td>\n      <td>1312</td>\n      <td>1104</td>\n      <td>0.081153</td>\n      <td>0.068287</td>\n    </tr>\n    <tr>\n      <th>4</th>\n      <td>485</td>\n      <td>758</td>\n      <td>711</td>\n      <td>0.046886</td>\n      <td>0.043978</td>\n    </tr>\n    <tr>\n      <th>...</th>\n      <td>...</td>\n      <td>...</td>\n      <td>...</td>\n      <td>...</td>\n      <td>...</td>\n    </tr>\n    <tr>\n      <th>232</th>\n      <td>477</td>\n      <td>2</td>\n      <td>0</td>\n      <td>0.000124</td>\n      <td>0.000000</td>\n    </tr>\n    <tr>\n      <th>233</th>\n      <td>488</td>\n      <td>1</td>\n      <td>0</td>\n      <td>0.000062</td>\n      <td>0.000000</td>\n    </tr>\n    <tr>\n      <th>234</th>\n      <td>502</td>\n      <td>4</td>\n      <td>0</td>\n      <td>0.000247</td>\n      <td>0.000000</td>\n    </tr>\n    <tr>\n      <th>235</th>\n      <td>504</td>\n      <td>4</td>\n      <td>0</td>\n      <td>0.000247</td>\n      <td>0.000000</td>\n    </tr>\n    <tr>\n      <th>236</th>\n      <td>508</td>\n      <td>1</td>\n      <td>0</td>\n      <td>0.000062</td>\n      <td>0.000000</td>\n    </tr>\n  </tbody>\n</table>\n<p>237 rows × 5 columns</p>\n</div>"
     },
     "execution_count": 14,
     "metadata": {},
     "output_type": "execute_result"
    }
   ],
   "source": [
    "# Airports pivot by departures and arrivals\n",
    "airport_df = gds.run_cypher('''\n",
    "    MATCH (a:Airport)<-[:LOCATED_AT]-(v:ArrivalWarehouse)\n",
    "    OPTIONAL MATCH (v)<-[r:FREIGHT_TRANSPORT]-()\n",
    "    WITH  a, count(r) as numberOfArrivals\n",
    "    MATCH (a:Airport)<-[:LOCATED_AT]-(d:DeparturePoint)\n",
    "    OPTIONAL MATCH (d)-[r:FREIGHT_TRANSPORT]->()\n",
    "    RETURN a.airportId AS airportId, numberOfArrivals, count(r) AS numberOfDepartures ORDER BY numberOfDepartures DESC\n",
    "''')\n",
    "airport_df['percOfArrivals'] = airport_df['numberOfArrivals']/airport_df['numberOfArrivals'].sum()\n",
    "airport_df['percOfDepartures'] = airport_df['numberOfDepartures']/airport_df['numberOfDepartures'].sum()\n",
    "airport_df"
   ],
   "metadata": {
    "collapsed": false,
    "pycharm": {
     "name": "#%%\n"
    }
   }
  },
  {
   "cell_type": "markdown",
   "source": [
    "## Airport Importance and Risks"
   ],
   "metadata": {
    "collapsed": false,
    "pycharm": {
     "name": "#%% md\n"
    }
   }
  },
  {
   "cell_type": "code",
   "execution_count": 15,
   "outputs": [
    {
     "data": {
      "text/plain": "   count(s)\n0      1205",
      "text/html": "<div>\n<style scoped>\n    .dataframe tbody tr th:only-of-type {\n        vertical-align: middle;\n    }\n\n    .dataframe tbody tr th {\n        vertical-align: top;\n    }\n\n    .dataframe thead th {\n        text-align: right;\n    }\n</style>\n<table border=\"1\" class=\"dataframe\">\n  <thead>\n    <tr style=\"text-align: right;\">\n      <th></th>\n      <th>count(s)</th>\n    </tr>\n  </thead>\n  <tbody>\n    <tr>\n      <th>0</th>\n      <td>1205</td>\n    </tr>\n  </tbody>\n</table>\n</div>"
     },
     "execution_count": 15,
     "metadata": {},
     "output_type": "execute_result"
    }
   ],
   "source": [
    "gds.run_cypher('''\n",
    "    MATCH(a1:Airport)<-[:LOCATED_AT]-(d1:DeparturePoint)-[r:FREIGHT_TRANSPORT]->(d2:ArrivalWarehouse)-[:LOCATED_AT]->(a2:Airport)\n",
    "    WITH a1, a2, count(r) AS flightCount\n",
    "    MERGE (a1)-[s:SENDS_TO]->(a2)\n",
    "    SET s.flightCount = flightCount\n",
    "    RETURN count(s)\n",
    "''')"
   ],
   "metadata": {
    "collapsed": false,
    "pycharm": {
     "name": "#%%\n"
    }
   }
  },
  {
   "cell_type": "code",
   "execution_count": 17,
   "outputs": [],
   "source": [
    "# What are the most import\n",
    "g, _ = gds.graph.project('proj', ['Airport'], {'SENDS_TO':{'properties':['flightCount']}})\n",
    "# betweenness centrality\n",
    "gds.betweenness.write(g, writeProperty='globalImportance')\n",
    "# betweenness centrality\n",
    "gds.pageRank.write(g, writeProperty='globalUsage', relationshipWeightProperty='flightCount')\n",
    "g.drop()"
   ],
   "metadata": {
    "collapsed": false,
    "pycharm": {
     "name": "#%%\n"
    }
   }
  },
  {
   "cell_type": "code",
   "execution_count": 18,
   "outputs": [],
   "source": [
    "centrality_df = gds.run_cypher('''\n",
    "    MATCH(a:Airport)\n",
    "    RETURN a.airportId, a.globalImportance AS globalImportance, a.globalUsage AS globalUsage\n",
    "''')"
   ],
   "metadata": {
    "collapsed": false,
    "pycharm": {
     "name": "#%%\n"
    }
   }
  },
  {
   "cell_type": "code",
   "execution_count": 19,
   "outputs": [
    {
     "data": {
      "text/plain": "     a.airportId  globalImportance  globalUsage  logImportance  logUsage\n0            514          0.000000     0.155433       0.000000  0.144475\n1            515          0.000000     0.165318       0.000000  0.152994\n2            520          0.000000     0.356832       0.000000  0.305153\n3            524        160.202434     0.530661       5.082661  0.425699\n4            527        133.839258     0.942855       4.904083  0.664159\n..           ...               ...          ...            ...       ...\n232          500         13.812129     0.233618       2.695446  0.209951\n233          502          0.000000     0.201964       0.000000  0.183957\n234          504          0.000000     0.178433       0.000000  0.164186\n235          508          0.000000     0.155658       0.000000  0.144670\n236          511        191.608557     0.311759       5.260660  0.271369\n\n[237 rows x 5 columns]",
      "text/html": "<div>\n<style scoped>\n    .dataframe tbody tr th:only-of-type {\n        vertical-align: middle;\n    }\n\n    .dataframe tbody tr th {\n        vertical-align: top;\n    }\n\n    .dataframe thead th {\n        text-align: right;\n    }\n</style>\n<table border=\"1\" class=\"dataframe\">\n  <thead>\n    <tr style=\"text-align: right;\">\n      <th></th>\n      <th>a.airportId</th>\n      <th>globalImportance</th>\n      <th>globalUsage</th>\n      <th>logImportance</th>\n      <th>logUsage</th>\n    </tr>\n  </thead>\n  <tbody>\n    <tr>\n      <th>0</th>\n      <td>514</td>\n      <td>0.000000</td>\n      <td>0.155433</td>\n      <td>0.000000</td>\n      <td>0.144475</td>\n    </tr>\n    <tr>\n      <th>1</th>\n      <td>515</td>\n      <td>0.000000</td>\n      <td>0.165318</td>\n      <td>0.000000</td>\n      <td>0.152994</td>\n    </tr>\n    <tr>\n      <th>2</th>\n      <td>520</td>\n      <td>0.000000</td>\n      <td>0.356832</td>\n      <td>0.000000</td>\n      <td>0.305153</td>\n    </tr>\n    <tr>\n      <th>3</th>\n      <td>524</td>\n      <td>160.202434</td>\n      <td>0.530661</td>\n      <td>5.082661</td>\n      <td>0.425699</td>\n    </tr>\n    <tr>\n      <th>4</th>\n      <td>527</td>\n      <td>133.839258</td>\n      <td>0.942855</td>\n      <td>4.904083</td>\n      <td>0.664159</td>\n    </tr>\n    <tr>\n      <th>...</th>\n      <td>...</td>\n      <td>...</td>\n      <td>...</td>\n      <td>...</td>\n      <td>...</td>\n    </tr>\n    <tr>\n      <th>232</th>\n      <td>500</td>\n      <td>13.812129</td>\n      <td>0.233618</td>\n      <td>2.695446</td>\n      <td>0.209951</td>\n    </tr>\n    <tr>\n      <th>233</th>\n      <td>502</td>\n      <td>0.000000</td>\n      <td>0.201964</td>\n      <td>0.000000</td>\n      <td>0.183957</td>\n    </tr>\n    <tr>\n      <th>234</th>\n      <td>504</td>\n      <td>0.000000</td>\n      <td>0.178433</td>\n      <td>0.000000</td>\n      <td>0.164186</td>\n    </tr>\n    <tr>\n      <th>235</th>\n      <td>508</td>\n      <td>0.000000</td>\n      <td>0.155658</td>\n      <td>0.000000</td>\n      <td>0.144670</td>\n    </tr>\n    <tr>\n      <th>236</th>\n      <td>511</td>\n      <td>191.608557</td>\n      <td>0.311759</td>\n      <td>5.260660</td>\n      <td>0.271369</td>\n    </tr>\n  </tbody>\n</table>\n<p>237 rows × 5 columns</p>\n</div>"
     },
     "execution_count": 19,
     "metadata": {},
     "output_type": "execute_result"
    }
   ],
   "source": [
    "centrality_df['logImportance'] = np.log(centrality_df.globalImportance + 1.0)\n",
    "centrality_df['logUsage'] = np.log(centrality_df.globalUsage + 1.0)\n",
    "centrality_df"
   ],
   "metadata": {
    "collapsed": false,
    "pycharm": {
     "name": "#%%\n"
    }
   }
  },
  {
   "cell_type": "code",
   "execution_count": 20,
   "outputs": [
    {
     "data": {
      "text/plain": "<matplotlib.collections.PathCollection at 0x7f97e0f6b7f0>"
     },
     "execution_count": 20,
     "metadata": {},
     "output_type": "execute_result"
    },
    {
     "data": {
      "text/plain": "<Figure size 432x288 with 1 Axes>",
      "image/png": "[encoded data removed]"
     },
     "metadata": {
      "needs_background": "light"
     },
     "output_type": "display_data"
    }
   ],
   "source": [
    "plt.scatter(centrality_df.logUsage, centrality_df.logImportance)"
   ],
   "metadata": {
    "collapsed": false,
    "pycharm": {
     "name": "#%%\n"
    }
   }
  },
  {
   "cell_type": "code",
   "execution_count": 21,
   "outputs": [
    {
     "data": {
      "text/plain": "0.7056706141157869"
     },
     "execution_count": 21,
     "metadata": {},
     "output_type": "execute_result"
    }
   ],
   "source": [
    "def pearson_corr(z1, z2):\n",
    "    x1 = np.array(z1)\n",
    "    x2=np.array(z2)\n",
    "    x1_mean = np.mean(x1)\n",
    "    x2_mean = np.mean(x1)\n",
    "\n",
    "    x1_centered = x1 - x1_mean\n",
    "    x2_centered = x2 - x2_mean\n",
    "    return np.dot(x1_centered,x2_centered)/(np.linalg.norm(x1_centered)*np.linalg.norm(x2_centered))\n",
    "\n",
    "pearson_corr(centrality_df.logUsage, centrality_df.logImportance)"
   ],
   "metadata": {
    "collapsed": false,
    "pycharm": {
     "name": "#%%\n"
    }
   }
  },
  {
   "cell_type": "markdown",
   "source": [
    "## Path Finding and Route Analysis"
   ],
   "metadata": {
    "collapsed": false
   }
  },
  {
   "cell_type": "code",
   "execution_count": 23,
   "outputs": [
    {
     "data": {
      "text/plain": "   count(s)\n0      1921",
      "text/html": "<div>\n<style scoped>\n    .dataframe tbody tr th:only-of-type {\n        vertical-align: middle;\n    }\n\n    .dataframe tbody tr th {\n        vertical-align: top;\n    }\n\n    .dataframe thead th {\n        text-align: right;\n    }\n</style>\n<table border=\"1\" class=\"dataframe\">\n  <thead>\n    <tr style=\"text-align: right;\">\n      <th></th>\n      <th>count(s)</th>\n    </tr>\n  </thead>\n  <tbody>\n    <tr>\n      <th>0</th>\n      <td>1921</td>\n    </tr>\n  </tbody>\n</table>\n</div>"
     },
     "execution_count": 23,
     "metadata": {},
     "output_type": "execute_result"
    }
   ],
   "source": [
    "gds.run_cypher('''\n",
    "    MATCH(n0) WHERE NOT n0:Airport\n",
    "    MATCH(n1) WHERE NOT n1:Airport\n",
    "    MATCH(n0)-[r]->(n1)\n",
    "    WITH n0, n1,\n",
    "        avg(r.effectiveMinutes) AS averageEffectiveMinutes,\n",
    "        avg(r.plannedMinutes) AS averagePlannedMinutes\n",
    "    MERGE(n0)-[s:SUPPLIES]->(n1)\n",
    "    ON CREATE SET s.averageEffectiveMinutes = averageEffectiveMinutes,\n",
    "        s.averagePlannedMinutes = averagePlannedMinutes\n",
    "    RETURN count(s)\n",
    "''')"
   ],
   "metadata": {
    "collapsed": false,
    "pycharm": {
     "name": "#%%\n"
    }
   }
  },
  {
   "cell_type": "code",
   "execution_count": 24,
   "outputs": [],
   "source": [
    "CHECKPOINT_NODE_LABELS = ['EntryPoint', 'DepartureWarehouse', 'DeparturePoint', 'ArrivalWarehouse', 'Destination']\n",
    "g, _ = gds.graph.project('proj', CHECKPOINT_NODE_LABELS,\n",
    "                         {'SUPPLIES':{'properties':['averageEffectiveMinutes','averagePlannedMinutes']}})"
   ],
   "metadata": {
    "collapsed": false,
    "pycharm": {
     "name": "#%%\n"
    }
   }
  },
  {
   "cell_type": "code",
   "execution_count": 27,
   "outputs": [],
   "source": [
    "RELS_WITH_COST = ['CHECK_IN', 'DEPART', 'ACCEPT', 'DELIVER']\n",
    "MATCH_RELS_WITH_COST_PATTERN = ':' + '|'.join(RELS_WITH_COST)\n",
    "def get_airport_ids(row):\n",
    "    return list( dict.fromkeys([n.get('airportId') for n in row.path.nodes]))\n",
    "\n",
    "\n",
    "def calculate_shortest_paths(entry_id, destination_id, cost_metric, number_of_paths=5):\n",
    "    source_id = gds.find_node_id(['EntryPoint'], {'airportId': entry_id})\n",
    "    target_id = gds.find_node_id(['Destination'], {'airportId': destination_id})\n",
    "    return gds.shortestPath.yens.stream(g, sourceNode=source_id, targetNode=target_id, k=number_of_paths,\n",
    "                                        relationshipWeightProperty=cost_metric)\n",
    "\n",
    "def get_shortest_routes(entry_id, destination_id, cost_metric, number_of_paths=5):\n",
    "    paths_df = calculate_shortest_paths(entry_id, destination_id, cost_metric, number_of_paths)\n",
    "    paths_df['airportPath'] = paths_df.apply(get_airport_ids, axis=1)\n",
    "    return paths_df[['totalCost', 'airportPath']]\n"
   ],
   "metadata": {
    "collapsed": false,
    "pycharm": {
     "name": "#%%\n"
    }
   }
  },
  {
   "cell_type": "code",
   "execution_count": 28,
   "outputs": [
    {
     "data": {
      "text/plain": "     totalCost           airportPath\n0  2975.345532       [614, 815, 485]\n1  3500.969698       [614, 128, 485]\n2  3833.019250  [614, 783, 815, 485]\n3  3857.002226  [614, 815, 610, 485]\n4  3896.912144  [614, 815, 134, 485]\n5  3898.427955  [614, 128, 134, 485]\n6  3969.096071  [614, 815, 281, 485]",
      "text/html": "<div>\n<style scoped>\n    .dataframe tbody tr th:only-of-type {\n        vertical-align: middle;\n    }\n\n    .dataframe tbody tr th {\n        vertical-align: top;\n    }\n\n    .dataframe thead th {\n        text-align: right;\n    }\n</style>\n<table border=\"1\" class=\"dataframe\">\n  <thead>\n    <tr style=\"text-align: right;\">\n      <th></th>\n      <th>totalCost</th>\n      <th>airportPath</th>\n    </tr>\n  </thead>\n  <tbody>\n    <tr>\n      <th>0</th>\n      <td>2975.345532</td>\n      <td>[614, 815, 485]</td>\n    </tr>\n    <tr>\n      <th>1</th>\n      <td>3500.969698</td>\n      <td>[614, 128, 485]</td>\n    </tr>\n    <tr>\n      <th>2</th>\n      <td>3833.019250</td>\n      <td>[614, 783, 815, 485]</td>\n    </tr>\n    <tr>\n      <th>3</th>\n      <td>3857.002226</td>\n      <td>[614, 815, 610, 485]</td>\n    </tr>\n    <tr>\n      <th>4</th>\n      <td>3896.912144</td>\n      <td>[614, 815, 134, 485]</td>\n    </tr>\n    <tr>\n      <th>5</th>\n      <td>3898.427955</td>\n      <td>[614, 128, 134, 485]</td>\n    </tr>\n    <tr>\n      <th>6</th>\n      <td>3969.096071</td>\n      <td>[614, 815, 281, 485]</td>\n    </tr>\n  </tbody>\n</table>\n</div>"
     },
     "execution_count": 28,
     "metadata": {},
     "output_type": "execute_result"
    }
   ],
   "source": [
    "# Shortest Path - find the shortest path between two airports based on average effective times\n",
    "airport_id_1 = 614\n",
    "airport_id_2 = 485\n",
    "get_shortest_routes(airport_id_1, airport_id_2, 'averageEffectiveMinutes', 7)"
   ],
   "metadata": {
    "collapsed": false,
    "pycharm": {
     "name": "#%%\n"
    }
   }
  },
  {
   "cell_type": "code",
   "execution_count": 82,
   "outputs": [],
   "source": [],
   "metadata": {
    "collapsed": false,
    "pycharm": {
     "name": "#%%\n"
    }
   }
  }
 ],
 "metadata": {
  "kernelspec": {
   "display_name": "Python 3",
   "language": "python",
   "name": "python3"
  },
  "language_info": {
   "codemirror_mode": {
    "name": "ipython",
    "version": 2
   },
   "file_extension": ".py",
   "mimetype": "text/x-python",
   "name": "python",
   "nbconvert_exporter": "python",
   "pygments_lexer": "ipython2",
   "version": "2.7.6"
  }
 },
 "nbformat": 4,
 "nbformat_minor": 0
}