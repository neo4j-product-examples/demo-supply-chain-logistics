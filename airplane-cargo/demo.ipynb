{
 "cells": [
  {
   "cell_type": "markdown",
   "source": [],
   "metadata": {
    "collapsed": false,
    "pycharm": {
     "name": "#%% md\n"
    }
   }
  },
  {
   "cell_type": "markdown",
   "source": [
    "# Graph Data Science for Logistics: Experimentation with Air Cargo Shipment Data"
   ],
   "metadata": {
    "collapsed": false,
    "pycharm": {
     "name": "#%% md\n"
    }
   }
  },
  {
   "cell_type": "code",
   "execution_count": 1,
   "outputs": [],
   "source": [
    "import pandas as pd\n",
    "import configparser"
   ],
   "metadata": {
    "collapsed": false,
    "pycharm": {
     "name": "#%%\n"
    }
   }
  },
  {
   "cell_type": "code",
   "execution_count": 2,
   "outputs": [],
   "source": [
    "config = configparser.RawConfigParser()\n",
    "config.read('/Users/zachblumenfeld/devtools/aura-freight-demo.ini')\n",
    "HOST = config['NEO4J']['HOST']\n",
    "USERNAME = config['NEO4J']['USERNAME']\n",
    "PASSWORD = config['NEO4J']['PASSWORD']"
   ],
   "metadata": {
    "collapsed": false,
    "pycharm": {
     "name": "#%%\n"
    }
   }
  },
  {
   "cell_type": "code",
   "execution_count": 3,
   "outputs": [],
   "source": [
    "from graphdatascience import GraphDataScience\n",
    "\n",
    "# Use Neo4j URI and credentials according to your setup\n",
    "gds = GraphDataScience(HOST, auth=(USERNAME, PASSWORD), aura_ds=True)"
   ],
   "metadata": {
    "collapsed": false,
    "pycharm": {
     "name": "#%%\n"
    }
   }
  },
  {
   "cell_type": "markdown",
   "source": [
    "## Logistic Network Statistics"
   ],
   "metadata": {
    "collapsed": false,
    "pycharm": {
     "name": "#%% md\n"
    }
   }
  },
  {
   "cell_type": "markdown",
   "source": [
    "### Shipment Statistics"
   ],
   "metadata": {
    "collapsed": false,
    "pycharm": {
     "name": "#%% md\n"
    }
   }
  },
  {
   "cell_type": "code",
   "execution_count": 4,
   "outputs": [
    {
     "data": {
      "text/plain": "   numberOfShipments\n0               3942",
      "text/html": "<div>\n<style scoped>\n    .dataframe tbody tr th:only-of-type {\n        vertical-align: middle;\n    }\n\n    .dataframe tbody tr th {\n        vertical-align: top;\n    }\n\n    .dataframe thead th {\n        text-align: right;\n    }\n</style>\n<table border=\"1\" class=\"dataframe\">\n  <thead>\n    <tr style=\"text-align: right;\">\n      <th></th>\n      <th>numberOfShipments</th>\n    </tr>\n  </thead>\n  <tbody>\n    <tr>\n      <th>0</th>\n      <td>3942</td>\n    </tr>\n  </tbody>\n</table>\n</div>"
     },
     "execution_count": 4,
     "metadata": {},
     "output_type": "execute_result"
    }
   ],
   "source": [
    "# Number of shipments\n",
    "gds.run_cypher('''\n",
    "    MATCH()-[r:DEPART]->() RETURN count(DISTINCT r.shipmentId) AS numberOfShipments\n",
    "''')"
   ],
   "metadata": {
    "collapsed": false,
    "pycharm": {
     "name": "#%%\n"
    }
   }
  },
  {
   "cell_type": "code",
   "execution_count": 5,
   "outputs": [
    {
     "data": {
      "text/plain": "   numberOfInboundLegs  shipmentCount\n0                    3           1366\n1                    2           1258\n2                    1           1318",
      "text/html": "<div>\n<style scoped>\n    .dataframe tbody tr th:only-of-type {\n        vertical-align: middle;\n    }\n\n    .dataframe tbody tr th {\n        vertical-align: top;\n    }\n\n    .dataframe thead th {\n        text-align: right;\n    }\n</style>\n<table border=\"1\" class=\"dataframe\">\n  <thead>\n    <tr style=\"text-align: right;\">\n      <th></th>\n      <th>numberOfInboundLegs</th>\n      <th>shipmentCount</th>\n    </tr>\n  </thead>\n  <tbody>\n    <tr>\n      <th>0</th>\n      <td>3</td>\n      <td>1366</td>\n    </tr>\n    <tr>\n      <th>1</th>\n      <td>2</td>\n      <td>1258</td>\n    </tr>\n    <tr>\n      <th>2</th>\n      <td>1</td>\n      <td>1318</td>\n    </tr>\n  </tbody>\n</table>\n</div>"
     },
     "execution_count": 5,
     "metadata": {},
     "output_type": "execute_result"
    }
   ],
   "source": [
    "# shipments pivot by inbound leg count\n",
    "gds.run_cypher('''\n",
    "    MATCH()-[r:DEPART]->()\n",
    "    WITH r.shipmentId AS shipmentId, max(r.legNumber) AS numberOfInboundLegs\n",
    "    RETURN numberOfInboundLegs, count(shipmentId) AS shipmentCount\n",
    "''')"
   ],
   "metadata": {
    "collapsed": false,
    "pycharm": {
     "name": "#%%\n"
    }
   }
  },
  {
   "cell_type": "code",
   "execution_count": 5,
   "outputs": [],
   "source": [],
   "metadata": {
    "collapsed": false,
    "pycharm": {
     "name": "#%%\n"
    }
   }
  },
  {
   "cell_type": "markdown",
   "source": [
    "### Shipment Leg Statistics"
   ],
   "metadata": {
    "collapsed": false,
    "pycharm": {
     "name": "#%% md\n"
    }
   }
  },
  {
   "cell_type": "code",
   "execution_count": 6,
   "outputs": [
    {
     "data": {
      "text/plain": "  logisticType  numberOfLegs\n0     OUTBOUND          3942\n1      INBOUND          7932",
      "text/html": "<div>\n<style scoped>\n    .dataframe tbody tr th:only-of-type {\n        vertical-align: middle;\n    }\n\n    .dataframe tbody tr th {\n        vertical-align: top;\n    }\n\n    .dataframe thead th {\n        text-align: right;\n    }\n</style>\n<table border=\"1\" class=\"dataframe\">\n  <thead>\n    <tr style=\"text-align: right;\">\n      <th></th>\n      <th>logisticType</th>\n      <th>numberOfLegs</th>\n    </tr>\n  </thead>\n  <tbody>\n    <tr>\n      <th>0</th>\n      <td>OUTBOUND</td>\n      <td>3942</td>\n    </tr>\n    <tr>\n      <th>1</th>\n      <td>INBOUND</td>\n      <td>7932</td>\n    </tr>\n  </tbody>\n</table>\n</div>"
     },
     "execution_count": 6,
     "metadata": {},
     "output_type": "execute_result"
    }
   ],
   "source": [
    "# Number of legs\n",
    "gds.run_cypher('''\n",
    "    MATCH()-[r:DEPART]->()\n",
    "    WITH DISTINCT r.legId AS legId,\n",
    "        CASE r.legNumber\n",
    "            WHEN -1 THEN \"OUTBOUND\"\n",
    "            ELSE \"INBOUND\"\n",
    "        END AS logisticType\n",
    "    RETURN logisticType, count(legId) AS numberOfLegs\n",
    "''')"
   ],
   "metadata": {
    "collapsed": false,
    "pycharm": {
     "name": "#%%\n"
    }
   }
  },
  {
   "cell_type": "code",
   "execution_count": 7,
   "outputs": [
    {
     "data": {
      "text/plain": "  logisticType  numberOfSegments  legCount\n0      INBOUND                 1      5555\n1      INBOUND                 2      2332\n2      INBOUND                 3        45\n3     OUTBOUND                 1      2097\n4     OUTBOUND                 2      1819\n5     OUTBOUND                 3        26",
      "text/html": "<div>\n<style scoped>\n    .dataframe tbody tr th:only-of-type {\n        vertical-align: middle;\n    }\n\n    .dataframe tbody tr th {\n        vertical-align: top;\n    }\n\n    .dataframe thead th {\n        text-align: right;\n    }\n</style>\n<table border=\"1\" class=\"dataframe\">\n  <thead>\n    <tr style=\"text-align: right;\">\n      <th></th>\n      <th>logisticType</th>\n      <th>numberOfSegments</th>\n      <th>legCount</th>\n    </tr>\n  </thead>\n  <tbody>\n    <tr>\n      <th>0</th>\n      <td>INBOUND</td>\n      <td>1</td>\n      <td>5555</td>\n    </tr>\n    <tr>\n      <th>1</th>\n      <td>INBOUND</td>\n      <td>2</td>\n      <td>2332</td>\n    </tr>\n    <tr>\n      <th>2</th>\n      <td>INBOUND</td>\n      <td>3</td>\n      <td>45</td>\n    </tr>\n    <tr>\n      <th>3</th>\n      <td>OUTBOUND</td>\n      <td>1</td>\n      <td>2097</td>\n    </tr>\n    <tr>\n      <th>4</th>\n      <td>OUTBOUND</td>\n      <td>2</td>\n      <td>1819</td>\n    </tr>\n    <tr>\n      <th>5</th>\n      <td>OUTBOUND</td>\n      <td>3</td>\n      <td>26</td>\n    </tr>\n  </tbody>\n</table>\n</div>"
     },
     "execution_count": 7,
     "metadata": {},
     "output_type": "execute_result"
    }
   ],
   "source": [
    "# leg pivot by logistic type and segment count\n",
    "gds.run_cypher('''\n",
    "    MATCH()-[r:DEPART]->()\n",
    "    WITH r.legId AS legId,\n",
    "    max(r.segmentNumber) AS numberOfSegments,\n",
    "    CASE r.legNumber\n",
    "        WHEN -1 THEN \"OUTBOUND\"\n",
    "        ELSE \"INBOUND\"\n",
    "    END AS logisticType\n",
    "    RETURN logisticType, numberOfSegments, count(legId) AS legCount ORDER BY logisticType, numberOfSegments\n",
    "''')"
   ],
   "metadata": {
    "collapsed": false,
    "pycharm": {
     "name": "#%%\n"
    }
   }
  },
  {
   "cell_type": "code",
   "execution_count": 8,
   "outputs": [
    {
     "data": {
      "text/plain": "       departureAirportId  arrivalAirportId  avg(plannedMinutes)  \\\ncount          217.000000        217.000000           217.000000   \nmean           461.009217        461.009217           876.380950   \nstd            210.950802        210.950802           483.321692   \nmin            100.000000        100.000000           115.000000   \n25%            281.000000        281.000000           594.250000   \n50%            472.000000        472.000000           799.509615   \n75%            643.000000        643.000000          1050.000000   \nmax            815.000000        815.000000          2618.333333   \n\n       stDev(plannedMinutes)  min(plannedMinutes)  max(plannedMinutes)  \\\ncount             217.000000           217.000000           217.000000   \nmean              247.568144           594.133641          1471.470046   \nstd               302.890387           450.628528           972.751762   \nmin                 0.000000            35.000000           115.000000   \n25%                 0.000000           235.000000           785.000000   \n50%               151.325341           505.000000          1220.000000   \n75%               350.506867           780.000000          1940.000000   \nmax              1444.030817          2346.000000          5140.000000   \n\n               cnt  \ncount   217.000000  \nmean     74.502304  \nstd     235.576757  \nmin       1.000000  \n25%       3.000000  \n50%      13.000000  \n75%      59.000000  \nmax    2205.000000  ",
      "text/html": "<div>\n<style scoped>\n    .dataframe tbody tr th:only-of-type {\n        vertical-align: middle;\n    }\n\n    .dataframe tbody tr th {\n        vertical-align: top;\n    }\n\n    .dataframe thead th {\n        text-align: right;\n    }\n</style>\n<table border=\"1\" class=\"dataframe\">\n  <thead>\n    <tr style=\"text-align: right;\">\n      <th></th>\n      <th>departureAirportId</th>\n      <th>arrivalAirportId</th>\n      <th>avg(plannedMinutes)</th>\n      <th>stDev(plannedMinutes)</th>\n      <th>min(plannedMinutes)</th>\n      <th>max(plannedMinutes)</th>\n      <th>cnt</th>\n    </tr>\n  </thead>\n  <tbody>\n    <tr>\n      <th>count</th>\n      <td>217.000000</td>\n      <td>217.000000</td>\n      <td>217.000000</td>\n      <td>217.000000</td>\n      <td>217.000000</td>\n      <td>217.000000</td>\n      <td>217.000000</td>\n    </tr>\n    <tr>\n      <th>mean</th>\n      <td>461.009217</td>\n      <td>461.009217</td>\n      <td>876.380950</td>\n      <td>247.568144</td>\n      <td>594.133641</td>\n      <td>1471.470046</td>\n      <td>74.502304</td>\n    </tr>\n    <tr>\n      <th>std</th>\n      <td>210.950802</td>\n      <td>210.950802</td>\n      <td>483.321692</td>\n      <td>302.890387</td>\n      <td>450.628528</td>\n      <td>972.751762</td>\n      <td>235.576757</td>\n    </tr>\n    <tr>\n      <th>min</th>\n      <td>100.000000</td>\n      <td>100.000000</td>\n      <td>115.000000</td>\n      <td>0.000000</td>\n      <td>35.000000</td>\n      <td>115.000000</td>\n      <td>1.000000</td>\n    </tr>\n    <tr>\n      <th>25%</th>\n      <td>281.000000</td>\n      <td>281.000000</td>\n      <td>594.250000</td>\n      <td>0.000000</td>\n      <td>235.000000</td>\n      <td>785.000000</td>\n      <td>3.000000</td>\n    </tr>\n    <tr>\n      <th>50%</th>\n      <td>472.000000</td>\n      <td>472.000000</td>\n      <td>799.509615</td>\n      <td>151.325341</td>\n      <td>505.000000</td>\n      <td>1220.000000</td>\n      <td>13.000000</td>\n    </tr>\n    <tr>\n      <th>75%</th>\n      <td>643.000000</td>\n      <td>643.000000</td>\n      <td>1050.000000</td>\n      <td>350.506867</td>\n      <td>780.000000</td>\n      <td>1940.000000</td>\n      <td>59.000000</td>\n    </tr>\n    <tr>\n      <th>max</th>\n      <td>815.000000</td>\n      <td>815.000000</td>\n      <td>2618.333333</td>\n      <td>1444.030817</td>\n      <td>2346.000000</td>\n      <td>5140.000000</td>\n      <td>2205.000000</td>\n    </tr>\n  </tbody>\n</table>\n</div>"
     },
     "execution_count": 8,
     "metadata": {},
     "output_type": "execute_result"
    }
   ],
   "source": [
    "# statistics for the accept step\n",
    "df = gds.run_cypher('''\n",
    "    MATCH(n0)-[r:ACCEPT]->(n1) //WHERE n0.airportId = n1.airportId\n",
    "    WITH n0.airportId as departureAirportId, r, r.effectiveMinutes AS effectiveMinutes, r.plannedMinutes AS plannedMinutes, n1.airportId AS arrivalAirportId\n",
    "    //RETURN departureAirportId, arrivalAirportId, avg(effectiveMinutes) AS mean, stDev(effectiveMinutes) AS stDev, min(effectiveMinutes) AS min, max(effectiveMinutes) AS max, count(*) AS cnt\n",
    "    RETURN departureAirportId, arrivalAirportId, avg(plannedMinutes), stDev(plannedMinutes), min(plannedMinutes), max(plannedMinutes), count(*) AS cnt\n",
    "    ORDER BY cnt DESC //departureAirportId, arrivalAirportId\n",
    "''')\n",
    "df.describe()"
   ],
   "metadata": {
    "collapsed": false,
    "pycharm": {
     "name": "#%%\n"
    }
   }
  },
  {
   "cell_type": "code",
   "execution_count": 9,
   "outputs": [
    {
     "data": {
      "text/plain": "       departureAirportId  arrivalAirportId  avg(plannedMinutes)  \\\ncount         1205.000000       1205.000000          1205.000000   \nmean           435.342739        442.607469           496.851241   \nstd            221.112270        217.081769           531.135968   \nmin            101.000000        100.000000             5.000000   \n25%            256.000000        256.000000           180.000000   \n50%            403.000000        413.000000           300.000000   \n75%            609.000000        610.000000           621.600000   \nmax            815.000000        815.000000          4985.000000   \n\n       stDev(plannedMinutes)  min(plannedMinutes)  max(plannedMinutes)  \\\ncount            1205.000000          1205.000000          1205.000000   \nmean              211.242489           318.623237           944.083817   \nstd               411.752266           426.301257          1263.960696   \nmin                 0.000000             5.000000             5.000000   \n25%                 0.000000           150.000000           200.000000   \n50%                 2.886751           180.000000           330.000000   \n75%               289.020348           300.000000          1335.000000   \nmax              6201.326471          4780.000000         12675.000000   \n\n               cnt  \ncount  1205.000000  \nmean     13.416598  \nstd      28.274034  \nmin       1.000000  \n25%       1.000000  \n50%       4.000000  \n75%      13.000000  \nmax     444.000000  ",
      "text/html": "<div>\n<style scoped>\n    .dataframe tbody tr th:only-of-type {\n        vertical-align: middle;\n    }\n\n    .dataframe tbody tr th {\n        vertical-align: top;\n    }\n\n    .dataframe thead th {\n        text-align: right;\n    }\n</style>\n<table border=\"1\" class=\"dataframe\">\n  <thead>\n    <tr style=\"text-align: right;\">\n      <th></th>\n      <th>departureAirportId</th>\n      <th>arrivalAirportId</th>\n      <th>avg(plannedMinutes)</th>\n      <th>stDev(plannedMinutes)</th>\n      <th>min(plannedMinutes)</th>\n      <th>max(plannedMinutes)</th>\n      <th>cnt</th>\n    </tr>\n  </thead>\n  <tbody>\n    <tr>\n      <th>count</th>\n      <td>1205.000000</td>\n      <td>1205.000000</td>\n      <td>1205.000000</td>\n      <td>1205.000000</td>\n      <td>1205.000000</td>\n      <td>1205.000000</td>\n      <td>1205.000000</td>\n    </tr>\n    <tr>\n      <th>mean</th>\n      <td>435.342739</td>\n      <td>442.607469</td>\n      <td>496.851241</td>\n      <td>211.242489</td>\n      <td>318.623237</td>\n      <td>944.083817</td>\n      <td>13.416598</td>\n    </tr>\n    <tr>\n      <th>std</th>\n      <td>221.112270</td>\n      <td>217.081769</td>\n      <td>531.135968</td>\n      <td>411.752266</td>\n      <td>426.301257</td>\n      <td>1263.960696</td>\n      <td>28.274034</td>\n    </tr>\n    <tr>\n      <th>min</th>\n      <td>101.000000</td>\n      <td>100.000000</td>\n      <td>5.000000</td>\n      <td>0.000000</td>\n      <td>5.000000</td>\n      <td>5.000000</td>\n      <td>1.000000</td>\n    </tr>\n    <tr>\n      <th>25%</th>\n      <td>256.000000</td>\n      <td>256.000000</td>\n      <td>180.000000</td>\n      <td>0.000000</td>\n      <td>150.000000</td>\n      <td>200.000000</td>\n      <td>1.000000</td>\n    </tr>\n    <tr>\n      <th>50%</th>\n      <td>403.000000</td>\n      <td>413.000000</td>\n      <td>300.000000</td>\n      <td>2.886751</td>\n      <td>180.000000</td>\n      <td>330.000000</td>\n      <td>4.000000</td>\n    </tr>\n    <tr>\n      <th>75%</th>\n      <td>609.000000</td>\n      <td>610.000000</td>\n      <td>621.600000</td>\n      <td>289.020348</td>\n      <td>300.000000</td>\n      <td>1335.000000</td>\n      <td>13.000000</td>\n    </tr>\n    <tr>\n      <th>max</th>\n      <td>815.000000</td>\n      <td>815.000000</td>\n      <td>4985.000000</td>\n      <td>6201.326471</td>\n      <td>4780.000000</td>\n      <td>12675.000000</td>\n      <td>444.000000</td>\n    </tr>\n  </tbody>\n</table>\n</div>"
     },
     "execution_count": 9,
     "metadata": {},
     "output_type": "execute_result"
    }
   ],
   "source": [
    "# statistics for the accept step\n",
    "df = gds.run_cypher('''\n",
    "    MATCH(n0)-[r:DEPART]->(n1)\n",
    "    WITH n0.airportId as departureAirportId, r, r.effectiveMinutes AS effectiveMinutes, r.plannedMinutes AS plannedMinutes, n1.airportId AS arrivalAirportId\n",
    "    //RETURN departureAirportId, arrivalAirportId, avg(effectiveMinutes) AS mean, stDev(effectiveMinutes) AS stDev, min(effectiveMinutes) AS min, max(effectiveMinutes) AS max, count(*) AS cnt\n",
    "    RETURN departureAirportId, arrivalAirportId, avg(plannedMinutes), stDev(plannedMinutes), min(plannedMinutes), max(plannedMinutes), count(*) AS cnt\n",
    "    ORDER BY cnt DESC //departureAirportId, arrivalAirportId\n",
    "''')\n",
    "df.describe()\n",
    "#df[df['min(plannedMinutes)'] < 20]"
   ],
   "metadata": {
    "collapsed": false,
    "pycharm": {
     "name": "#%%\n"
    }
   }
  },
  {
   "cell_type": "markdown",
   "source": [
    "__TODO: Data Validation and Refinement__\n",
    "\n",
    "Above stats are a bit peculiar.  This may require some data quality steps/and refinement.  Specifically\n",
    "1. minimum planned depart times can be really low...like 1 minute.  Effective times can be down to a minute as well. This is not characteristic of flight times.  ACCEPT planned stats have more reasonable minimums which may suggest that they are actually the true representation of flight times meaning I misinterpreted the source data model during ETL. However, effective accept times still get super low.\n",
    "2. Variance for both depart and accept times appear relativbely high, again not characteristic for flights, along the same flight path, one would expect these to be relatively similar."
   ],
   "metadata": {
    "collapsed": false,
    "pycharm": {
     "name": "#%% md\n"
    }
   }
  },
  {
   "cell_type": "markdown",
   "source": [
    "### Airport Statistics"
   ],
   "metadata": {
    "collapsed": false,
    "pycharm": {
     "name": "#%% md\n"
    }
   }
  },
  {
   "cell_type": "code",
   "execution_count": 27,
   "outputs": [
    {
     "data": {
      "text/plain": "     airportId  numberOfArrivals  numberOfDepartures  percOfArrivals  \\\n0          815              1091                2240        0.067483   \n1          128              1839                2195        0.113750   \n2          700              2205                2003        0.136389   \n3          349              1312                1104        0.081153   \n4          485               758                 711        0.046886   \n..         ...               ...                 ...             ...   \n232        477                 2                   0        0.000124   \n233        488                 1                   0        0.000062   \n234        502                 4                   0        0.000247   \n235        504                 4                   0        0.000247   \n236        508                 1                   0        0.000062   \n\n     percOfDepartures  \n0            0.138554  \n1            0.135770  \n2            0.123894  \n3            0.068287  \n4            0.043978  \n..                ...  \n232          0.000000  \n233          0.000000  \n234          0.000000  \n235          0.000000  \n236          0.000000  \n\n[237 rows x 5 columns]",
      "text/html": "<div>\n<style scoped>\n    .dataframe tbody tr th:only-of-type {\n        vertical-align: middle;\n    }\n\n    .dataframe tbody tr th {\n        vertical-align: top;\n    }\n\n    .dataframe thead th {\n        text-align: right;\n    }\n</style>\n<table border=\"1\" class=\"dataframe\">\n  <thead>\n    <tr style=\"text-align: right;\">\n      <th></th>\n      <th>airportId</th>\n      <th>numberOfArrivals</th>\n      <th>numberOfDepartures</th>\n      <th>percOfArrivals</th>\n      <th>percOfDepartures</th>\n    </tr>\n  </thead>\n  <tbody>\n    <tr>\n      <th>0</th>\n      <td>815</td>\n      <td>1091</td>\n      <td>2240</td>\n      <td>0.067483</td>\n      <td>0.138554</td>\n    </tr>\n    <tr>\n      <th>1</th>\n      <td>128</td>\n      <td>1839</td>\n      <td>2195</td>\n      <td>0.113750</td>\n      <td>0.135770</td>\n    </tr>\n    <tr>\n      <th>2</th>\n      <td>700</td>\n      <td>2205</td>\n      <td>2003</td>\n      <td>0.136389</td>\n      <td>0.123894</td>\n    </tr>\n    <tr>\n      <th>3</th>\n      <td>349</td>\n      <td>1312</td>\n      <td>1104</td>\n      <td>0.081153</td>\n      <td>0.068287</td>\n    </tr>\n    <tr>\n      <th>4</th>\n      <td>485</td>\n      <td>758</td>\n      <td>711</td>\n      <td>0.046886</td>\n      <td>0.043978</td>\n    </tr>\n    <tr>\n      <th>...</th>\n      <td>...</td>\n      <td>...</td>\n      <td>...</td>\n      <td>...</td>\n      <td>...</td>\n    </tr>\n    <tr>\n      <th>232</th>\n      <td>477</td>\n      <td>2</td>\n      <td>0</td>\n      <td>0.000124</td>\n      <td>0.000000</td>\n    </tr>\n    <tr>\n      <th>233</th>\n      <td>488</td>\n      <td>1</td>\n      <td>0</td>\n      <td>0.000062</td>\n      <td>0.000000</td>\n    </tr>\n    <tr>\n      <th>234</th>\n      <td>502</td>\n      <td>4</td>\n      <td>0</td>\n      <td>0.000247</td>\n      <td>0.000000</td>\n    </tr>\n    <tr>\n      <th>235</th>\n      <td>504</td>\n      <td>4</td>\n      <td>0</td>\n      <td>0.000247</td>\n      <td>0.000000</td>\n    </tr>\n    <tr>\n      <th>236</th>\n      <td>508</td>\n      <td>1</td>\n      <td>0</td>\n      <td>0.000062</td>\n      <td>0.000000</td>\n    </tr>\n  </tbody>\n</table>\n<p>237 rows × 5 columns</p>\n</div>"
     },
     "execution_count": 27,
     "metadata": {},
     "output_type": "execute_result"
    }
   ],
   "source": [
    "# Airports pivot by departures and arrivals\n",
    "airport_df = gds.run_cypher('''\n",
    "    MATCH (a:Airport)<-[:LOCATED_AT]-(v:Arrival)\n",
    "    OPTIONAL MATCH (v)<-[r:DEPART]-()\n",
    "    WITH  a, count(r) as numberOfArrivals\n",
    "    MATCH (a:Airport)<-[:LOCATED_AT]-(d:Departure)\n",
    "    OPTIONAL MATCH (d)-[r:DEPART]->()\n",
    "    RETURN a.airportId AS airportId, numberOfArrivals, count(r) AS numberOfDepartures ORDER BY numberOfDepartures DESC\n",
    "''')\n",
    "airport_df['percOfArrivals'] = airport_df['numberOfArrivals']/airport_df['numberOfArrivals'].sum()\n",
    "airport_df['percOfDepartures'] = airport_df['numberOfDepartures']/airport_df['numberOfDepartures'].sum()\n",
    "airport_df"
   ],
   "metadata": {
    "collapsed": false,
    "pycharm": {
     "name": "#%%\n"
    }
   }
  },
  {
   "cell_type": "code",
   "execution_count": 22,
   "outputs": [
    {
     "data": {
      "text/plain": "        airportId  numberOfArrivals  numberOfDepartures\ncount  237.000000        237.000000          237.000000\nmean   460.759494         68.215190           68.215190\nstd    209.516729        226.327234          260.498919\nmin    100.000000          0.000000            0.000000\n25%    281.000000          2.000000            0.000000\n50%    470.000000         10.000000            5.000000\n75%    641.000000         51.000000           32.000000\nmax    815.000000       2205.000000         2240.000000",
      "text/html": "<div>\n<style scoped>\n    .dataframe tbody tr th:only-of-type {\n        vertical-align: middle;\n    }\n\n    .dataframe tbody tr th {\n        vertical-align: top;\n    }\n\n    .dataframe thead th {\n        text-align: right;\n    }\n</style>\n<table border=\"1\" class=\"dataframe\">\n  <thead>\n    <tr style=\"text-align: right;\">\n      <th></th>\n      <th>airportId</th>\n      <th>numberOfArrivals</th>\n      <th>numberOfDepartures</th>\n    </tr>\n  </thead>\n  <tbody>\n    <tr>\n      <th>count</th>\n      <td>237.000000</td>\n      <td>237.000000</td>\n      <td>237.000000</td>\n    </tr>\n    <tr>\n      <th>mean</th>\n      <td>460.759494</td>\n      <td>68.215190</td>\n      <td>68.215190</td>\n    </tr>\n    <tr>\n      <th>std</th>\n      <td>209.516729</td>\n      <td>226.327234</td>\n      <td>260.498919</td>\n    </tr>\n    <tr>\n      <th>min</th>\n      <td>100.000000</td>\n      <td>0.000000</td>\n      <td>0.000000</td>\n    </tr>\n    <tr>\n      <th>25%</th>\n      <td>281.000000</td>\n      <td>2.000000</td>\n      <td>0.000000</td>\n    </tr>\n    <tr>\n      <th>50%</th>\n      <td>470.000000</td>\n      <td>10.000000</td>\n      <td>5.000000</td>\n    </tr>\n    <tr>\n      <th>75%</th>\n      <td>641.000000</td>\n      <td>51.000000</td>\n      <td>32.000000</td>\n    </tr>\n    <tr>\n      <th>max</th>\n      <td>815.000000</td>\n      <td>2205.000000</td>\n      <td>2240.000000</td>\n    </tr>\n  </tbody>\n</table>\n</div>"
     },
     "execution_count": 22,
     "metadata": {},
     "output_type": "execute_result"
    }
   ],
   "source": [
    "airport_df.describe()"
   ],
   "metadata": {
    "collapsed": false,
    "pycharm": {
     "name": "#%%\n"
    }
   }
  },
  {
   "cell_type": "markdown",
   "source": [
    "## Airport Importance and Risks"
   ],
   "metadata": {
    "collapsed": false,
    "pycharm": {
     "name": "#%% md\n"
    }
   }
  },
  {
   "cell_type": "code",
   "execution_count": 72,
   "outputs": [
    {
     "data": {
      "text/plain": "   count(s)\n0     16167",
      "text/html": "<div>\n<style scoped>\n    .dataframe tbody tr th:only-of-type {\n        vertical-align: middle;\n    }\n\n    .dataframe tbody tr th {\n        vertical-align: top;\n    }\n\n    .dataframe thead th {\n        text-align: right;\n    }\n</style>\n<table border=\"1\" class=\"dataframe\">\n  <thead>\n    <tr style=\"text-align: right;\">\n      <th></th>\n      <th>count(s)</th>\n    </tr>\n  </thead>\n  <tbody>\n    <tr>\n      <th>0</th>\n      <td>16167</td>\n    </tr>\n  </tbody>\n</table>\n</div>"
     },
     "execution_count": 72,
     "metadata": {},
     "output_type": "execute_result"
    }
   ],
   "source": [
    "# Directly connect airports to understand location importances and risks\n",
    "# Doing this on the DB, outside Cypher projection for now\n",
    "gds.run_cypher('''\n",
    "    MATCH(a1:Airport)<-[:LOCATED_AT]-(d1:Departure)-[r:DEPART]->(d2:Arrival)-[:LOCATED_AT]->(a2:Airport)\n",
    "    MERGE(a1)-[s:SENDS_TO {shipmentId:r.shipmentId, legId: r.legId}]->(a2)\n",
    "    RETURN count(s)\n",
    "''')"
   ],
   "metadata": {
    "collapsed": false,
    "pycharm": {
     "name": "#%%\n"
    }
   }
  },
  {
   "cell_type": "code",
   "execution_count": 73,
   "outputs": [],
   "source": [
    "# What are the most import\n",
    "g, _ = gds.graph.project('proj', ['Airport'], ['SENDS_TO'])"
   ],
   "metadata": {
    "collapsed": false,
    "pycharm": {
     "name": "#%%\n"
    }
   }
  },
  {
   "cell_type": "code",
   "execution_count": 74,
   "outputs": [
    {
     "data": {
      "text/plain": "nodePropertiesWritten                                                   237\nwriteMillis                                                               7\ncentralityDistribution    {'p99': 6337.062499999069, 'min': 0.0, 'max': ...\npostProcessingMillis                                                    181\npreProcessingMillis                                                       0\ncomputeMillis                                                            17\nconfiguration             {'writeConcurrency': 4, 'writeProperty': 'glob...\nName: 0, dtype: object"
     },
     "execution_count": 74,
     "metadata": {},
     "output_type": "execute_result"
    }
   ],
   "source": [
    "# betweenness centrality\n",
    "gds.betweenness.write(g, writeProperty='globalImportance')"
   ],
   "metadata": {
    "collapsed": false,
    "pycharm": {
     "name": "#%%\n"
    }
   }
  },
  {
   "cell_type": "code",
   "execution_count": 75,
   "outputs": [
    {
     "data": {
      "text/plain": "    a.airportId  a.globalImportance\n0           128        12382.027312\n1           349        10998.689127\n2           700         6337.058278\n3           815         6290.492129\n4           555         3631.742909\n5           256         2362.820536\n6           308         1822.031209\n7           485         1495.812769\n8           149         1391.657845\n9           431         1103.351073\n10          609          890.117217\n11          144          671.041841\n12          403          519.071199\n13          610          466.370269\n14          571          456.315815\n15          783          428.746587\n16          281          372.907992\n17          809          332.841810\n18          371          256.773368\n19          134          238.734838",
      "text/html": "<div>\n<style scoped>\n    .dataframe tbody tr th:only-of-type {\n        vertical-align: middle;\n    }\n\n    .dataframe tbody tr th {\n        vertical-align: top;\n    }\n\n    .dataframe thead th {\n        text-align: right;\n    }\n</style>\n<table border=\"1\" class=\"dataframe\">\n  <thead>\n    <tr style=\"text-align: right;\">\n      <th></th>\n      <th>a.airportId</th>\n      <th>a.globalImportance</th>\n    </tr>\n  </thead>\n  <tbody>\n    <tr>\n      <th>0</th>\n      <td>128</td>\n      <td>12382.027312</td>\n    </tr>\n    <tr>\n      <th>1</th>\n      <td>349</td>\n      <td>10998.689127</td>\n    </tr>\n    <tr>\n      <th>2</th>\n      <td>700</td>\n      <td>6337.058278</td>\n    </tr>\n    <tr>\n      <th>3</th>\n      <td>815</td>\n      <td>6290.492129</td>\n    </tr>\n    <tr>\n      <th>4</th>\n      <td>555</td>\n      <td>3631.742909</td>\n    </tr>\n    <tr>\n      <th>5</th>\n      <td>256</td>\n      <td>2362.820536</td>\n    </tr>\n    <tr>\n      <th>6</th>\n      <td>308</td>\n      <td>1822.031209</td>\n    </tr>\n    <tr>\n      <th>7</th>\n      <td>485</td>\n      <td>1495.812769</td>\n    </tr>\n    <tr>\n      <th>8</th>\n      <td>149</td>\n      <td>1391.657845</td>\n    </tr>\n    <tr>\n      <th>9</th>\n      <td>431</td>\n      <td>1103.351073</td>\n    </tr>\n    <tr>\n      <th>10</th>\n      <td>609</td>\n      <td>890.117217</td>\n    </tr>\n    <tr>\n      <th>11</th>\n      <td>144</td>\n      <td>671.041841</td>\n    </tr>\n    <tr>\n      <th>12</th>\n      <td>403</td>\n      <td>519.071199</td>\n    </tr>\n    <tr>\n      <th>13</th>\n      <td>610</td>\n      <td>466.370269</td>\n    </tr>\n    <tr>\n      <th>14</th>\n      <td>571</td>\n      <td>456.315815</td>\n    </tr>\n    <tr>\n      <th>15</th>\n      <td>783</td>\n      <td>428.746587</td>\n    </tr>\n    <tr>\n      <th>16</th>\n      <td>281</td>\n      <td>372.907992</td>\n    </tr>\n    <tr>\n      <th>17</th>\n      <td>809</td>\n      <td>332.841810</td>\n    </tr>\n    <tr>\n      <th>18</th>\n      <td>371</td>\n      <td>256.773368</td>\n    </tr>\n    <tr>\n      <th>19</th>\n      <td>134</td>\n      <td>238.734838</td>\n    </tr>\n  </tbody>\n</table>\n</div>"
     },
     "execution_count": 75,
     "metadata": {},
     "output_type": "execute_result"
    }
   ],
   "source": [
    "\n",
    "gds.run_cypher('''\n",
    "    MATCH(a:Airport)\n",
    "    RETURN a.airportId, a.globalImportance\n",
    "    ORDER BY a.globalImportance DESC LIMIT 20\n",
    "''')"
   ],
   "metadata": {
    "collapsed": false,
    "pycharm": {
     "name": "#%%\n"
    }
   }
  },
  {
   "cell_type": "code",
   "execution_count": 76,
   "outputs": [],
   "source": [
    "g.drop()"
   ],
   "metadata": {
    "collapsed": false,
    "pycharm": {
     "name": "#%%\n"
    }
   }
  },
  {
   "cell_type": "markdown",
   "source": [
    "## Route Finding"
   ],
   "metadata": {
    "collapsed": false
   }
  },
  {
   "cell_type": "code",
   "execution_count": 77,
   "outputs": [
    {
     "data": {
      "text/plain": "   count(s)\n0      2138",
      "text/html": "<div>\n<style scoped>\n    .dataframe tbody tr th:only-of-type {\n        vertical-align: middle;\n    }\n\n    .dataframe tbody tr th {\n        vertical-align: top;\n    }\n\n    .dataframe thead th {\n        text-align: right;\n    }\n</style>\n<table border=\"1\" class=\"dataframe\">\n  <thead>\n    <tr style=\"text-align: right;\">\n      <th></th>\n      <th>count(s)</th>\n    </tr>\n  </thead>\n  <tbody>\n    <tr>\n      <th>0</th>\n      <td>2138</td>\n    </tr>\n  </tbody>\n</table>\n</div>"
     },
     "execution_count": 77,
     "metadata": {},
     "output_type": "execute_result"
    }
   ],
   "source": [
    "# Aggregate Paths to get summary cost metrics for routes\n",
    "# possible agg cost metrics: min, p25, median, mean, p75, p95, p99, max\n",
    "gds.run_cypher('''\n",
    "    MATCH(n0) WHERE NOT n0:Airport\n",
    "    MATCH(n1) WHERE NOT n1:Airport\n",
    "    MATCH(n0)-[r]->(n1)\n",
    "    WITH n0, n1,\n",
    "        r.effectiveMinutes AS effectiveMinutes,\n",
    "        r.plannedMinutes AS plannedMinutes,\n",
    "        r.effectiveMinutes - r.plannedMinutes AS diffMinutes\n",
    "    WITH n0, n1,\n",
    "    avg(effectiveMinutes) AS eMinutesMean, percentileCont(effectiveMinutes, 0.99) AS eMinutesP99,\n",
    "    avg(plannedMinutes) AS pMinutesMean, percentileCont(plannedMinutes, 0.99) AS pMinutesP99,\n",
    "    avg(diffMinutes) AS dMinutesMean, percentileCont(diffMinutes, 0.99) AS dMinutesP99\n",
    "    MERGE(n0)-[s:SUPPLIES]-(n1)\n",
    "    ON CREATE SET s.eMinutesMean = eMinutesMean,  s.eMinutesP99 = eMinutesP99,\n",
    "        s.pMinutesMean = pMinutesMean,  s.pMinutesP99 = pMinutesP99,\n",
    "        s.dMinutesMean = dMinutesMean,  s.dMinutesP99 = dMinutesP99\n",
    "    RETURN count(s)\n",
    "''')"
   ],
   "metadata": {
    "collapsed": false,
    "pycharm": {
     "name": "#%%\n"
    }
   }
  },
  {
   "cell_type": "code",
   "execution_count": 78,
   "outputs": [],
   "source": [
    "g, _ = gds.graph.project('proj', ['Entry', 'DepartureCheckpoint', 'Departure', 'Arrival', 'ArrivalCheckpoint', 'Destination'],\n",
    "    {'SUPPLIES':{'properties':['eMinutesMean', 'eMinutesP99', 'pMinutesMean', 'pMinutesP99', 'dMinutesMean', 'dMinutesP99']}})"
   ],
   "metadata": {
    "collapsed": false,
    "pycharm": {
     "name": "#%%\n"
    }
   }
  },
  {
   "cell_type": "markdown",
   "source": [],
   "metadata": {
    "collapsed": false
   }
  },
  {
   "cell_type": "code",
   "execution_count": 79,
   "outputs": [],
   "source": [
    "def get_airport_ids(row):\n",
    "    return list( dict.fromkeys([n.get('airportId') for n in row.path.nodes]))\n",
    "\n",
    "def calculate_shortest_paths(entry_id, destination_id, cost_metric, number_of_paths=5):\n",
    "    source_id = gds.find_node_id(['Entry'], {'airportId': entry_id})\n",
    "    target_id = gds.find_node_id(['Destination'], {'airportId': destination_id})\n",
    "    paths_df = gds.shortestPath.yens.stream(g, sourceNode=source_id, targetNode=target_id, k=number_of_paths,\n",
    "                                                   relationshipWeightProperty=cost_metric)\n",
    "    paths_df['airportPath'] = paths_df.apply(get_airport_ids, axis=1)\n",
    "    return paths_df[['totalCost', 'airportPath']]"
   ],
   "metadata": {
    "collapsed": false,
    "pycharm": {
     "name": "#%%\n"
    }
   }
  },
  {
   "cell_type": "code",
   "execution_count": 80,
   "outputs": [
    {
     "data": {
      "text/plain": "     totalCost           airportPath\n0  2849.608752       [614, 815, 485]\n1  3635.915528  [614, 783, 815, 485]\n2  3725.751888       [614, 128, 485]\n3  4075.976400  [614, 815, 281, 485]\n4  4115.476511  [614, 815, 809, 485]\n5  4133.521208  [614, 815, 128, 485]\n6  4356.054115  [614, 349, 815, 485]",
      "text/html": "<div>\n<style scoped>\n    .dataframe tbody tr th:only-of-type {\n        vertical-align: middle;\n    }\n\n    .dataframe tbody tr th {\n        vertical-align: top;\n    }\n\n    .dataframe thead th {\n        text-align: right;\n    }\n</style>\n<table border=\"1\" class=\"dataframe\">\n  <thead>\n    <tr style=\"text-align: right;\">\n      <th></th>\n      <th>totalCost</th>\n      <th>airportPath</th>\n    </tr>\n  </thead>\n  <tbody>\n    <tr>\n      <th>0</th>\n      <td>2849.608752</td>\n      <td>[614, 815, 485]</td>\n    </tr>\n    <tr>\n      <th>1</th>\n      <td>3635.915528</td>\n      <td>[614, 783, 815, 485]</td>\n    </tr>\n    <tr>\n      <th>2</th>\n      <td>3725.751888</td>\n      <td>[614, 128, 485]</td>\n    </tr>\n    <tr>\n      <th>3</th>\n      <td>4075.976400</td>\n      <td>[614, 815, 281, 485]</td>\n    </tr>\n    <tr>\n      <th>4</th>\n      <td>4115.476511</td>\n      <td>[614, 815, 809, 485]</td>\n    </tr>\n    <tr>\n      <th>5</th>\n      <td>4133.521208</td>\n      <td>[614, 815, 128, 485]</td>\n    </tr>\n    <tr>\n      <th>6</th>\n      <td>4356.054115</td>\n      <td>[614, 349, 815, 485]</td>\n    </tr>\n  </tbody>\n</table>\n</div>"
     },
     "execution_count": 80,
     "metadata": {},
     "output_type": "execute_result"
    }
   ],
   "source": [
    "# Shortest Path - find the shortest path between two airports based on average effective times\n",
    "airport_id_1 = 614\n",
    "airport_id_2 = 485\n",
    "calculate_shortest_paths(airport_id_1, airport_id_2, 'eMinutesMean', 7)"
   ],
   "metadata": {
    "collapsed": false,
    "pycharm": {
     "name": "#%%\n"
    }
   }
  },
  {
   "cell_type": "code",
   "execution_count": 81,
   "outputs": [
    {
     "data": {
      "text/plain": "   totalCost           airportPath\n0   15785.91       [614, 815, 485]\n1   16289.62       [614, 128, 485]\n2   16737.48       [614, 349, 485]\n3   16830.10  [614, 815, 809, 485]\n4   17356.06  [614, 815, 216, 485]\n5   17878.39  [614, 815, 431, 485]\n6   17990.02  [614, 128, 694, 485]",
      "text/html": "<div>\n<style scoped>\n    .dataframe tbody tr th:only-of-type {\n        vertical-align: middle;\n    }\n\n    .dataframe tbody tr th {\n        vertical-align: top;\n    }\n\n    .dataframe thead th {\n        text-align: right;\n    }\n</style>\n<table border=\"1\" class=\"dataframe\">\n  <thead>\n    <tr style=\"text-align: right;\">\n      <th></th>\n      <th>totalCost</th>\n      <th>airportPath</th>\n    </tr>\n  </thead>\n  <tbody>\n    <tr>\n      <th>0</th>\n      <td>15785.91</td>\n      <td>[614, 815, 485]</td>\n    </tr>\n    <tr>\n      <th>1</th>\n      <td>16289.62</td>\n      <td>[614, 128, 485]</td>\n    </tr>\n    <tr>\n      <th>2</th>\n      <td>16737.48</td>\n      <td>[614, 349, 485]</td>\n    </tr>\n    <tr>\n      <th>3</th>\n      <td>16830.10</td>\n      <td>[614, 815, 809, 485]</td>\n    </tr>\n    <tr>\n      <th>4</th>\n      <td>17356.06</td>\n      <td>[614, 815, 216, 485]</td>\n    </tr>\n    <tr>\n      <th>5</th>\n      <td>17878.39</td>\n      <td>[614, 815, 431, 485]</td>\n    </tr>\n    <tr>\n      <th>6</th>\n      <td>17990.02</td>\n      <td>[614, 128, 694, 485]</td>\n    </tr>\n  </tbody>\n</table>\n</div>"
     },
     "execution_count": 81,
     "metadata": {},
     "output_type": "execute_result"
    }
   ],
   "source": [
    "# Shortest Path - find the shortest path between two airports based on 99 percentile times...i.e. near worst case scenarios\n",
    "calculate_shortest_paths(airport_id_1, airport_id_2, 'eMinutesP99', 7)"
   ],
   "metadata": {
    "collapsed": false,
    "pycharm": {
     "name": "#%%\n"
    }
   }
  },
  {
   "cell_type": "code",
   "execution_count": 82,
   "outputs": [],
   "source": [
    "g.drop()"
   ],
   "metadata": {
    "collapsed": false,
    "pycharm": {
     "name": "#%%\n"
    }
   }
  },
  {
   "cell_type": "markdown",
   "source": [
    "Note for future. Consider:\n",
    "\n",
    "1. Using other aggregate metrics for comparison in the SUPPLIES relationships for path finding costs.  This includes other percentiles but alo using predicted time or the differences between effective and predicted times\n",
    "2. Finding paths with the SUPPLIES relationships but evaluating risk of paths via the distribution of historical performance along those paths. i.e. avoiding flaw pof average issues.\n",
    "\n",
    "Also for path finding we need to be thoughtful about whether we are restricting to paths over single shipments and inbound vs outbound traffic as this effects the interpretation and formality of results....all stuff to look into if we want to pursue this dataset further."
   ],
   "metadata": {
    "collapsed": false,
    "pycharm": {
     "name": "#%% md\n"
    }
   }
  },
  {
   "cell_type": "code",
   "execution_count": 82,
   "outputs": [],
   "source": [],
   "metadata": {
    "collapsed": false,
    "pycharm": {
     "name": "#%%\n"
    }
   }
  }
 ],
 "metadata": {
  "kernelspec": {
   "display_name": "Python 3",
   "language": "python",
   "name": "python3"
  },
  "language_info": {
   "codemirror_mode": {
    "name": "ipython",
    "version": 2
   },
   "file_extension": ".py",
   "mimetype": "text/x-python",
   "name": "python",
   "nbconvert_exporter": "python",
   "pygments_lexer": "ipython2",
   "version": "2.7.6"
  }
 },
 "nbformat": 4,
 "nbformat_minor": 0
}