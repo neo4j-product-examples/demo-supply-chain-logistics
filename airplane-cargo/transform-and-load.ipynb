{
 "cells": [
  {
   "cell_type": "markdown",
   "source": [
    "# Freight Forwarding  Graph Import\n",
    "\n",
    "<img src=\"img/logistics-diagram.png\" alt=\"summary\" width=\"1000\"/>"
   ],
   "metadata": {
    "collapsed": false,
    "pycharm": {
     "name": "#%% md\n"
    }
   }
  },
  {
   "cell_type": "code",
   "execution_count": 65,
   "outputs": [],
   "source": [
    "import pandas as pd"
   ],
   "metadata": {
    "collapsed": false,
    "pycharm": {
     "name": "#%%\n"
    }
   }
  },
  {
   "cell_type": "markdown",
   "source": [
    "## Connect ot Graph Data Science"
   ],
   "metadata": {
    "collapsed": false,
    "pycharm": {
     "name": "#%% md\n"
    }
   }
  },
  {
   "cell_type": "code",
   "execution_count": 67,
   "outputs": [],
   "source": [
    "from graphdatascience import GraphDataScience\n",
    "\n",
    "# Use Neo4j URI and credentials according to your setup\n",
    "gds = GraphDataScience('neo4j://localhost', auth=('neo4j', 'neo'))"
   ],
   "metadata": {
    "collapsed": false,
    "pycharm": {
     "name": "#%%\n"
    }
   }
  },
  {
   "cell_type": "markdown",
   "source": [
    "## Staging for ETL\n",
    "1. Clear the graph of any existing data and indexes\n",
    "2. read the source data\n",
    "3. create helper functions\n",
    "4. Set Neo4j Indexes\n"
   ],
   "metadata": {
    "collapsed": false,
    "pycharm": {
     "name": "#%% md\n"
    }
   }
  },
  {
   "cell_type": "code",
   "execution_count": 68,
   "outputs": [
    {
     "data": {
      "text/plain": "Empty DataFrame\nColumns: [label, key, keys, unique, action]\nIndex: []",
      "text/html": "<div>\n<style scoped>\n    .dataframe tbody tr th:only-of-type {\n        vertical-align: middle;\n    }\n\n    .dataframe tbody tr th {\n        vertical-align: top;\n    }\n\n    .dataframe thead th {\n        text-align: right;\n    }\n</style>\n<table border=\"1\" class=\"dataframe\">\n  <thead>\n    <tr style=\"text-align: right;\">\n      <th></th>\n      <th>label</th>\n      <th>key</th>\n      <th>keys</th>\n      <th>unique</th>\n      <th>action</th>\n    </tr>\n  </thead>\n  <tbody>\n  </tbody>\n</table>\n</div>"
     },
     "execution_count": 68,
     "metadata": {},
     "output_type": "execute_result"
    }
   ],
   "source": [
    "# Clear last graph - All data and schema attributes\n",
    "gds.run_cypher('MATCH(n) DETACH DELETE n')\n",
    "gds.run_cypher('CALL apoc.schema.assert({},{})')"
   ],
   "metadata": {
    "collapsed": false,
    "pycharm": {
     "name": "#%%\n"
    }
   }
  },
  {
   "cell_type": "code",
   "execution_count": 69,
   "outputs": [],
   "source": [
    "df = pd.read_csv('https://s-cube-network.eu/c2k-files/c2k_data_comma.csv', dtype=str)"
   ],
   "metadata": {
    "collapsed": false,
    "pycharm": {
     "name": "#%%\n"
    }
   }
  },
  {
   "cell_type": "code",
   "execution_count": 70,
   "outputs": [],
   "source": [
    "LEGS = [1,2,3]\n",
    "SEGMENTS = [1,2,3]\n",
    "GOINGS = ['i','o']\n",
    "SERVICES = ['rcs', 'dlv']"
   ],
   "metadata": {
    "collapsed": false,
    "pycharm": {
     "name": "#%%\n"
    }
   }
  },
  {
   "cell_type": "code",
   "execution_count": 71,
   "outputs": [],
   "source": [
    "# Helper Functions\n",
    "def get_last_i1_rcf_place(row):\n",
    "    for s in [3,2,1]:\n",
    "        if row[f'i1_rcf_{s}_place'] != '?':\n",
    "            return row[f'i1_rcf_{s}_place']\n",
    "    raise Exception(\"cannot find last rcf place\")\n",
    "\n",
    "def get_last_outbound_rcf_place(row):\n",
    "    for s in [3,2,1]:\n",
    "        if row[f'o_rcf_{s}_place'] != '?':\n",
    "            return row[f'o_rcf_{s}_place']\n",
    "    raise Exception(\"cannot find last rcf place\")\n",
    "\n",
    "def get_path_indexes(row):\n",
    "    res = {'o': []}\n",
    "    end = str(get_last_outbound_rcf_place(row))\n",
    "    for i in LEGS:\n",
    "        start = str(row[f'i{i}_dep_1_place'])\n",
    "        if start != '?':\n",
    "            ind = start + '-' + end\n",
    "            res[f'i{i}'] = ind\n",
    "            res['o'].append(ind)\n",
    "    return res"
   ],
   "metadata": {
    "collapsed": false,
    "pycharm": {
     "name": "#%%\n"
    }
   }
  },
  {
   "cell_type": "code",
   "execution_count": 72,
   "outputs": [
    {
     "data": {
      "text/plain": "        nr i1_legid i1_rcs_p i1_rcs_e i1_dep_1_p i1_dep_1_e i1_dep_1_place  \\\n0        0     5182      199      218        210        215            609   \n1        1     6523      844      584         90        297            700   \n2        2     5878     4380     4119         90        280            456   \n3        3     1275      759      169        240        777            173   \n4        4     8117     1597     1485        150        241            411   \n...    ...      ...      ...      ...        ...        ...            ...   \n3938  3939     4225      122       19        240        278            815   \n3939  3940    14017     2028      413        270       1825            605   \n3940  3941     4660     1356      178        240       1359            815   \n3941  3942     6472     2692     1856         90        867            700   \n3942   NaN      NaN      NaN      NaN        NaN        NaN            NaN   \n\n     i1_rcf_1_p i1_rcf_1_e i1_rcf_1_place  ... o_rcf_3_p o_rcf_3_e  \\\n0           935        736            256  ...         ?         ?   \n1          1935       1415            431  ...         ?         ?   \n2           905        547            700  ...         ?         ?   \n3           340        577            349  ...         ?         ?   \n4           585        612            128  ...         ?         ?   \n...         ...        ...            ...  ...       ...       ...   \n3938        830        761            174  ...         ?         ?   \n3939       2610       2535            349  ...         ?         ?   \n3940        760        716            609  ...         ?         ?   \n3941       1060       1049            113  ...         ?         ?   \n3942        NaN        NaN            NaN  ...       NaN       NaN   \n\n     o_rcf_3_place o_dlv_p o_dlv_e o_hops legs last_o_rcf_place  \\\n0                ?     780     434      1    2              411   \n1                ?    3870     445      1    2              256   \n2                ?     550    1520      1    1              349   \n3                ?    3780     159      1    1              700   \n4                ?    4140    4797      2    1              411   \n...            ...     ...     ...    ...  ...              ...   \n3938             ?    1665    1300      2    3              293   \n3939             ?    3780     807      2    1              113   \n3940             ?    5100    4381      2    1              737   \n3941             ?    3780     945      2    2              635   \n3942           NaN     NaN     NaN    NaN  NaN              NaN   \n\n     last_i_rcf_place                                       path_indexes  \n0                 256  {'o': ['609-411', '431-411'], 'i1': '609-411',...  \n1                 431  {'o': ['700-256', '257-256'], 'i1': '700-256',...  \n2                 700                {'o': ['456-349'], 'i1': '456-349'}  \n3                 671                {'o': ['173-700'], 'i1': '173-700'}  \n4                 166                {'o': ['411-411'], 'i1': '411-411'}  \n...               ...                                                ...  \n3938              174  {'o': ['815-293', '671-293', '671-293'], 'i1':...  \n3939              597                {'o': ['605-113'], 'i1': '605-113'}  \n3940              609                {'o': ['815-737'], 'i1': '815-737'}  \n3941              113  {'o': ['700-635', '456-635'], 'i1': '700-635',...  \n3942              NaN  {'o': ['nan-nan', 'nan-nan', 'nan-nan'], 'i1':...  \n\n[3943 rows x 101 columns]",
      "text/html": "<div>\n<style scoped>\n    .dataframe tbody tr th:only-of-type {\n        vertical-align: middle;\n    }\n\n    .dataframe tbody tr th {\n        vertical-align: top;\n    }\n\n    .dataframe thead th {\n        text-align: right;\n    }\n</style>\n<table border=\"1\" class=\"dataframe\">\n  <thead>\n    <tr style=\"text-align: right;\">\n      <th></th>\n      <th>nr</th>\n      <th>i1_legid</th>\n      <th>i1_rcs_p</th>\n      <th>i1_rcs_e</th>\n      <th>i1_dep_1_p</th>\n      <th>i1_dep_1_e</th>\n      <th>i1_dep_1_place</th>\n      <th>i1_rcf_1_p</th>\n      <th>i1_rcf_1_e</th>\n      <th>i1_rcf_1_place</th>\n      <th>...</th>\n      <th>o_rcf_3_p</th>\n      <th>o_rcf_3_e</th>\n      <th>o_rcf_3_place</th>\n      <th>o_dlv_p</th>\n      <th>o_dlv_e</th>\n      <th>o_hops</th>\n      <th>legs</th>\n      <th>last_o_rcf_place</th>\n      <th>last_i_rcf_place</th>\n      <th>path_indexes</th>\n    </tr>\n  </thead>\n  <tbody>\n    <tr>\n      <th>0</th>\n      <td>0</td>\n      <td>5182</td>\n      <td>199</td>\n      <td>218</td>\n      <td>210</td>\n      <td>215</td>\n      <td>609</td>\n      <td>935</td>\n      <td>736</td>\n      <td>256</td>\n      <td>...</td>\n      <td>?</td>\n      <td>?</td>\n      <td>?</td>\n      <td>780</td>\n      <td>434</td>\n      <td>1</td>\n      <td>2</td>\n      <td>411</td>\n      <td>256</td>\n      <td>{'o': ['609-411', '431-411'], 'i1': '609-411',...</td>\n    </tr>\n    <tr>\n      <th>1</th>\n      <td>1</td>\n      <td>6523</td>\n      <td>844</td>\n      <td>584</td>\n      <td>90</td>\n      <td>297</td>\n      <td>700</td>\n      <td>1935</td>\n      <td>1415</td>\n      <td>431</td>\n      <td>...</td>\n      <td>?</td>\n      <td>?</td>\n      <td>?</td>\n      <td>3870</td>\n      <td>445</td>\n      <td>1</td>\n      <td>2</td>\n      <td>256</td>\n      <td>431</td>\n      <td>{'o': ['700-256', '257-256'], 'i1': '700-256',...</td>\n    </tr>\n    <tr>\n      <th>2</th>\n      <td>2</td>\n      <td>5878</td>\n      <td>4380</td>\n      <td>4119</td>\n      <td>90</td>\n      <td>280</td>\n      <td>456</td>\n      <td>905</td>\n      <td>547</td>\n      <td>700</td>\n      <td>...</td>\n      <td>?</td>\n      <td>?</td>\n      <td>?</td>\n      <td>550</td>\n      <td>1520</td>\n      <td>1</td>\n      <td>1</td>\n      <td>349</td>\n      <td>700</td>\n      <td>{'o': ['456-349'], 'i1': '456-349'}</td>\n    </tr>\n    <tr>\n      <th>3</th>\n      <td>3</td>\n      <td>1275</td>\n      <td>759</td>\n      <td>169</td>\n      <td>240</td>\n      <td>777</td>\n      <td>173</td>\n      <td>340</td>\n      <td>577</td>\n      <td>349</td>\n      <td>...</td>\n      <td>?</td>\n      <td>?</td>\n      <td>?</td>\n      <td>3780</td>\n      <td>159</td>\n      <td>1</td>\n      <td>1</td>\n      <td>700</td>\n      <td>671</td>\n      <td>{'o': ['173-700'], 'i1': '173-700'}</td>\n    </tr>\n    <tr>\n      <th>4</th>\n      <td>4</td>\n      <td>8117</td>\n      <td>1597</td>\n      <td>1485</td>\n      <td>150</td>\n      <td>241</td>\n      <td>411</td>\n      <td>585</td>\n      <td>612</td>\n      <td>128</td>\n      <td>...</td>\n      <td>?</td>\n      <td>?</td>\n      <td>?</td>\n      <td>4140</td>\n      <td>4797</td>\n      <td>2</td>\n      <td>1</td>\n      <td>411</td>\n      <td>166</td>\n      <td>{'o': ['411-411'], 'i1': '411-411'}</td>\n    </tr>\n    <tr>\n      <th>...</th>\n      <td>...</td>\n      <td>...</td>\n      <td>...</td>\n      <td>...</td>\n      <td>...</td>\n      <td>...</td>\n      <td>...</td>\n      <td>...</td>\n      <td>...</td>\n      <td>...</td>\n      <td>...</td>\n      <td>...</td>\n      <td>...</td>\n      <td>...</td>\n      <td>...</td>\n      <td>...</td>\n      <td>...</td>\n      <td>...</td>\n      <td>...</td>\n      <td>...</td>\n      <td>...</td>\n    </tr>\n    <tr>\n      <th>3938</th>\n      <td>3939</td>\n      <td>4225</td>\n      <td>122</td>\n      <td>19</td>\n      <td>240</td>\n      <td>278</td>\n      <td>815</td>\n      <td>830</td>\n      <td>761</td>\n      <td>174</td>\n      <td>...</td>\n      <td>?</td>\n      <td>?</td>\n      <td>?</td>\n      <td>1665</td>\n      <td>1300</td>\n      <td>2</td>\n      <td>3</td>\n      <td>293</td>\n      <td>174</td>\n      <td>{'o': ['815-293', '671-293', '671-293'], 'i1':...</td>\n    </tr>\n    <tr>\n      <th>3939</th>\n      <td>3940</td>\n      <td>14017</td>\n      <td>2028</td>\n      <td>413</td>\n      <td>270</td>\n      <td>1825</td>\n      <td>605</td>\n      <td>2610</td>\n      <td>2535</td>\n      <td>349</td>\n      <td>...</td>\n      <td>?</td>\n      <td>?</td>\n      <td>?</td>\n      <td>3780</td>\n      <td>807</td>\n      <td>2</td>\n      <td>1</td>\n      <td>113</td>\n      <td>597</td>\n      <td>{'o': ['605-113'], 'i1': '605-113'}</td>\n    </tr>\n    <tr>\n      <th>3940</th>\n      <td>3941</td>\n      <td>4660</td>\n      <td>1356</td>\n      <td>178</td>\n      <td>240</td>\n      <td>1359</td>\n      <td>815</td>\n      <td>760</td>\n      <td>716</td>\n      <td>609</td>\n      <td>...</td>\n      <td>?</td>\n      <td>?</td>\n      <td>?</td>\n      <td>5100</td>\n      <td>4381</td>\n      <td>2</td>\n      <td>1</td>\n      <td>737</td>\n      <td>609</td>\n      <td>{'o': ['815-737'], 'i1': '815-737'}</td>\n    </tr>\n    <tr>\n      <th>3941</th>\n      <td>3942</td>\n      <td>6472</td>\n      <td>2692</td>\n      <td>1856</td>\n      <td>90</td>\n      <td>867</td>\n      <td>700</td>\n      <td>1060</td>\n      <td>1049</td>\n      <td>113</td>\n      <td>...</td>\n      <td>?</td>\n      <td>?</td>\n      <td>?</td>\n      <td>3780</td>\n      <td>945</td>\n      <td>2</td>\n      <td>2</td>\n      <td>635</td>\n      <td>113</td>\n      <td>{'o': ['700-635', '456-635'], 'i1': '700-635',...</td>\n    </tr>\n    <tr>\n      <th>3942</th>\n      <td>NaN</td>\n      <td>NaN</td>\n      <td>NaN</td>\n      <td>NaN</td>\n      <td>NaN</td>\n      <td>NaN</td>\n      <td>NaN</td>\n      <td>NaN</td>\n      <td>NaN</td>\n      <td>NaN</td>\n      <td>...</td>\n      <td>NaN</td>\n      <td>NaN</td>\n      <td>NaN</td>\n      <td>NaN</td>\n      <td>NaN</td>\n      <td>NaN</td>\n      <td>NaN</td>\n      <td>NaN</td>\n      <td>NaN</td>\n      <td>{'o': ['nan-nan', 'nan-nan', 'nan-nan'], 'i1':...</td>\n    </tr>\n  </tbody>\n</table>\n<p>3943 rows × 101 columns</p>\n</div>"
     },
     "execution_count": 72,
     "metadata": {},
     "output_type": "execute_result"
    }
   ],
   "source": [
    "# assign last inbound & outbound rcf place\n",
    "df['last_o_rcf_place'] = df.apply(get_last_outbound_rcf_place, axis =1)\n",
    "df['last_i_rcf_place'] = df.apply(get_last_i1_rcf_place, axis =1)\n",
    "# assign path index\n",
    "df['path_indexes'] = df.apply(get_path_indexes, axis=1)\n",
    "df"
   ],
   "metadata": {
    "collapsed": false,
    "pycharm": {
     "name": "#%%\n"
    }
   }
  },
  {
   "cell_type": "code",
   "execution_count": 73,
   "outputs": [
    {
     "data": {
      "text/plain": "Empty DataFrame\nColumns: []\nIndex: []",
      "text/html": "<div>\n<style scoped>\n    .dataframe tbody tr th:only-of-type {\n        vertical-align: middle;\n    }\n\n    .dataframe tbody tr th {\n        vertical-align: top;\n    }\n\n    .dataframe thead th {\n        text-align: right;\n    }\n</style>\n<table border=\"1\" class=\"dataframe\">\n  <thead>\n    <tr style=\"text-align: right;\">\n      <th></th>\n    </tr>\n  </thead>\n  <tbody>\n  </tbody>\n</table>\n</div>"
     },
     "execution_count": 73,
     "metadata": {},
     "output_type": "execute_result"
    }
   ],
   "source": [
    "gds.run_cypher('CREATE CONSTRAINT airport_unique IF NOT EXISTS ON (n:Airport) ASSERT n.airportId  IS UNIQUE')\n",
    "\n",
    "gds.run_cypher('CREATE CONSTRAINT airport_entry_unique IF NOT EXISTS ON (n:EntryPoint) ASSERT n.airportId  IS UNIQUE')\n",
    "\n",
    "gds.run_cypher('CREATE INDEX check_in_shipment_id IF NOT EXISTS FOR ()-[r:FREIGHT_RECEPTION]-() ON (r.shipmentId)')\n",
    "gds.run_cypher('CREATE INDEX check_in_path IF NOT EXISTS FOR ()-[r:FREIGHT_RECEPTION]-() ON (r.pathIndex)')\n",
    "gds.run_cypher('CREATE CONSTRAINT airport_departure_checkpoint_unique IF NOT EXISTS ON (n:DepartureWarehouse) ASSERT n.airportId  IS UNIQUE')\n",
    "\n",
    "gds.run_cypher('CREATE INDEX confirm_shipment_id IF NOT EXISTS FOR ()-[r:FREIGHT_DEPARTURE]-() ON (r.shipmentId)')\n",
    "gds.run_cypher('CREATE INDEX confirm_path IF NOT EXISTS FOR ()-[r:FREIGHT_DEPARTURE]-() ON (r.pathIndex)')\n",
    "gds.run_cypher('CREATE CONSTRAINT airport_departure_unique IF NOT EXISTS ON (n:DeparturePoint) ASSERT n.airportId  IS UNIQUE')\n",
    "\n",
    "gds.run_cypher('CREATE INDEX depart_shipment_id IF NOT EXISTS FOR ()-[r:FREIGHT_TRANSPORT]-() ON (r.shipmentId)')\n",
    "gds.run_cypher('CREATE INDEX depart_path IF NOT EXISTS FOR ()-[r:FREIGHT_TRANSPORT]-() ON (r.pathIndex)')\n",
    "gds.run_cypher('CREATE CONSTRAINT airport_arrival_unique IF NOT EXISTS ON (n:ArrivalWarehouse) ASSERT n.airportId  IS UNIQUE')\n",
    "\n",
    "gds.run_cypher('CREATE INDEX connect_shipment_id IF NOT EXISTS FOR ()-[r:CONNECT]-() ON (r.shipmentId)')\n",
    "gds.run_cypher('CREATE INDEX connect_path IF NOT EXISTS FOR ()-[r:CONNECT]-() ON (r.pathIndex)')\n",
    "\n",
    "gds.run_cypher('CREATE INDEX deliver_shipment_id IF NOT EXISTS FOR ()-[r:FREIGHT_DELIVERY]-() ON (r.shipmentId)')\n",
    "gds.run_cypher('CREATE INDEX deliver_path IF NOT EXISTS FOR ()-[r:FREIGHT_DELIVERY]-() ON (r.pathIndex)')\n",
    "gds.run_cypher('CREATE CONSTRAINT airport_destination_unique  IF NOT EXISTS ON (n:Destination) ASSERT n.airportId  IS UNIQUE')\n",
    "\n",
    "gds.run_cypher('CREATE INDEX transfer_shipment_id IF NOT EXISTS FOR ()-[r:TRANSFER]-() ON (r.shipmentId)')\n",
    "gds.run_cypher('CREATE INDEX transfer_path IF NOT EXISTS FOR ()-[r:TRANSFER]-() ON (r.pathIndex)')"
   ],
   "metadata": {
    "collapsed": false,
    "pycharm": {
     "name": "#%%\n"
    }
   }
  },
  {
   "cell_type": "markdown",
   "source": [
    "## Ingest Nodes\n",
    "Nodes will consist of Airports and freight forwarding checkpoints"
   ],
   "metadata": {
    "collapsed": false,
    "pycharm": {
     "name": "#%% md\n"
    }
   }
  },
  {
   "cell_type": "code",
   "execution_count": 74,
   "outputs": [
    {
     "data": {
      "text/plain": "   count(n0)  count(n1)  count(n2)  count(n3)  count(n4)  count(n5)\n0        237        237        237        237        237        237",
      "text/html": "<div>\n<style scoped>\n    .dataframe tbody tr th:only-of-type {\n        vertical-align: middle;\n    }\n\n    .dataframe tbody tr th {\n        vertical-align: top;\n    }\n\n    .dataframe thead th {\n        text-align: right;\n    }\n</style>\n<table border=\"1\" class=\"dataframe\">\n  <thead>\n    <tr style=\"text-align: right;\">\n      <th></th>\n      <th>count(n0)</th>\n      <th>count(n1)</th>\n      <th>count(n2)</th>\n      <th>count(n3)</th>\n      <th>count(n4)</th>\n      <th>count(n5)</th>\n    </tr>\n  </thead>\n  <tbody>\n    <tr>\n      <th>0</th>\n      <td>237</td>\n      <td>237</td>\n      <td>237</td>\n      <td>237</td>\n      <td>237</td>\n      <td>237</td>\n    </tr>\n  </tbody>\n</table>\n</div>"
     },
     "execution_count": 74,
     "metadata": {},
     "output_type": "execute_result"
    }
   ],
   "source": [
    "# Load nodes and draw location at relationships\n",
    "cols = df.columns.tolist()\n",
    "\n",
    "airport_ids = set()\n",
    "for col in cols:\n",
    "    if 'place' in col:\n",
    "        #print([i for i in df.loc[(df[col] != '?') & (df[col].notna()), col].tolist()])\n",
    "        airport_ids.update([int(i) for i in df.loc[(df[col] != '?') & (df[col].notna()), col].unique().tolist()])\n",
    "\n",
    "gds.run_cypher('''\n",
    "    UNWIND $airportIds AS airportId\n",
    "    MERGE(n0:Airport {airportId: airportId})\n",
    "    MERGE(n1:EntryPoint {airportId: airportId})\n",
    "    MERGE(n2:DepartureWarehouse{airportId: airportId})\n",
    "    MERGE(n3:DeparturePoint {airportId: airportId})\n",
    "    MERGE(n4:ArrivalWarehouse {airportId: airportId})\n",
    "    MERGE(n5:Destination {airportId: airportId})\n",
    "\n",
    "    MERGE(n0)<-[r1:LOCATED_AT]-(n1)\n",
    "    MERGE(n0)<-[r2:LOCATED_AT]-(n2)\n",
    "    MERGE(n0)<-[r3:LOCATED_AT]-(n3)\n",
    "    MERGE(n0)<-[r4:LOCATED_AT]-(n4)\n",
    "    MERGE(n0)<-[r5:LOCATED_AT]-(n5)\n",
    "    RETURN count(n0), count(n1), count(n2), count(n3), count(n4), count(n5)\n",
    "    ''', params={'airportIds':list(airport_ids)})"
   ],
   "metadata": {
    "collapsed": false,
    "pycharm": {
     "name": "#%%\n"
    }
   }
  },
  {
   "cell_type": "markdown",
   "source": [
    "## Ingest Relationships\n",
    "Relationships will consist of the freight forwarding steps as well as links representing connection between transportation segments and transfer between the inbound and output stage of the shipment"
   ],
   "metadata": {
    "collapsed": false,
    "pycharm": {
     "name": "#%% md\n"
    }
   }
  },
  {
   "cell_type": "code",
   "execution_count": 75,
   "outputs": [
    {
     "name": "stdout",
     "output_type": "stream",
     "text": [
      "   count(r)\n",
      "0      3942\n",
      "   count(r)\n",
      "0      2624\n",
      "   count(r)\n",
      "0      1366\n"
     ]
    }
   ],
   "source": [
    "# (n:EntryPoint)-[r:FREIGHT_RECEPTION]-(m:DepartureWarehouse) RCS inbound\n",
    "for l in LEGS:\n",
    "    sub_dict = df.loc[(df[f'i{l}_legid'] != '?') & (df[f'i{l}_legid'].notna()),\n",
    "                      ['nr', f'i{l}_legid', f'i{l}_rcs_p', f'i{l}_rcs_e', f'i{l}_dep_1_place', 'path_indexes']].to_dict('records')\n",
    "    res = gds.run_cypher(f'''\n",
    "        UNWIND $relMaps AS relMap\n",
    "        WITH toInteger(relMap.nr) AS shipmentId,\n",
    "            toInteger(relMap.i{l}_dep_1_place) AS airportId,\n",
    "            toInteger(relMap.i{l}_legid) AS legId,\n",
    "            toInteger(relMap.i{l}_rcs_e) AS effectiveMinutes,\n",
    "            toInteger(relMap.i{l}_rcs_p) AS plannedMinutes,\n",
    "            relMap.path_indexes.i{l} AS pathIndex\n",
    "        MATCH(n1:EntryPoint {{airportId: airportId}})\n",
    "        MATCH(n2:DepartureWarehouse {{airportId: airportId}})\n",
    "        MERGE(n1)-[r:FREIGHT_RECEPTION {{shipmentId: shipmentId, legId: legId, legNumber: $legNumber}}]->(n2)\n",
    "        ON CREATE SET r.plannedMinutes=plannedMinutes,\n",
    "        r.effectiveMinutes=effectiveMinutes,\n",
    "        r.pathIndex = pathIndex\n",
    "        RETURN count(r)\n",
    "    ''', params={'relMaps':sub_dict, 'legNumber':l})\n",
    "    print(res)"
   ],
   "metadata": {
    "collapsed": false,
    "pycharm": {
     "name": "#%%\n"
    }
   }
  },
  {
   "cell_type": "code",
   "execution_count": 76,
   "outputs": [
    {
     "data": {
      "text/plain": "   count(r)\n0      3942",
      "text/html": "<div>\n<style scoped>\n    .dataframe tbody tr th:only-of-type {\n        vertical-align: middle;\n    }\n\n    .dataframe tbody tr th {\n        vertical-align: top;\n    }\n\n    .dataframe thead th {\n        text-align: right;\n    }\n</style>\n<table border=\"1\" class=\"dataframe\">\n  <thead>\n    <tr style=\"text-align: right;\">\n      <th></th>\n      <th>count(r)</th>\n    </tr>\n  </thead>\n  <tbody>\n    <tr>\n      <th>0</th>\n      <td>3942</td>\n    </tr>\n  </tbody>\n</table>\n</div>"
     },
     "execution_count": 76,
     "metadata": {},
     "output_type": "execute_result"
    }
   ],
   "source": [
    "# (n:EntryPoint)-[r:FREIGHT_RECEPTION]-(m:DepartureWarehouse) RCS outbound\n",
    "\n",
    "sub_dict = df.loc[(df[f'o_legid'] != '?') & (df[f'o_legid'].notna()),\n",
    "                  ['nr', 'o_legid', 'o_rcs_p', 'o_rcs_e', 'o_dep_1_place', 'path_indexes']].to_dict('records')\n",
    "gds.run_cypher('''\n",
    "    UNWIND $relMaps AS relMap\n",
    "    WITH toInteger(relMap.nr) AS shipmentId,\n",
    "        toInteger(relMap.o_dep_1_place) AS airportId,\n",
    "        toInteger(relMap.o_legid) AS legId,\n",
    "        toInteger(relMap.o_rcs_e) AS effectiveMinutes,\n",
    "        toInteger(relMap.o_rcs_p) AS plannedMinutes,\n",
    "        relMap.path_indexes.o AS pathIndex\n",
    "    MATCH(n1:EntryPoint {airportId: airportId})\n",
    "    MATCH(n2:DepartureWarehouse {airportId: airportId})\n",
    "    MERGE(n1)-[r:FREIGHT_RECEPTION {shipmentId: shipmentId, legId: legId, legNumber: -1}]->(n2)\n",
    "    ON CREATE SET r.plannedMinutes=plannedMinutes,\n",
    "        r.effectiveMinutes=effectiveMinutes,\n",
    "        r.pathIndex = pathIndex\n",
    "    RETURN count(r)\n",
    "''', params={'relMaps':sub_dict})"
   ],
   "metadata": {
    "collapsed": false,
    "pycharm": {
     "name": "#%%\n"
    }
   }
  },
  {
   "cell_type": "code",
   "execution_count": 77,
   "outputs": [
    {
     "name": "stdout",
     "output_type": "stream",
     "text": [
      "== LEG 1 ======================\n",
      "-- SEGMENT 1 ----------------------\n",
      "   count(r)\n",
      "0      3942\n",
      "-- SEGMENT 2 ----------------------\n",
      "   count(r)\n",
      "0      1195\n",
      "-- SEGMENT 3 ----------------------\n",
      "   count(r)\n",
      "0        23\n",
      "== LEG 2 ======================\n",
      "-- SEGMENT 1 ----------------------\n",
      "   count(r)\n",
      "0      2624\n",
      "-- SEGMENT 2 ----------------------\n",
      "   count(r)\n",
      "0       791\n",
      "-- SEGMENT 3 ----------------------\n",
      "   count(r)\n",
      "0        14\n",
      "== LEG 3 ======================\n",
      "-- SEGMENT 1 ----------------------\n",
      "   count(r)\n",
      "0      1366\n",
      "-- SEGMENT 2 ----------------------\n",
      "   count(r)\n",
      "0       391\n",
      "-- SEGMENT 3 ----------------------\n",
      "   count(r)\n",
      "0         8\n"
     ]
    }
   ],
   "source": [
    "# (:DepartureWarehouse)-[r:FREIGHT_DEPARTURE]-(:DeparturePoint) DEP1 inbound\n",
    "for l in LEGS:\n",
    "    print(f'== LEG {l} ======================')\n",
    "    for s in SEGMENTS:\n",
    "        print(f'-- SEGMENT {s} ----------------------')\n",
    "        sub_dict = df.loc[(df[f'i{l}_dep_{s}_place'] != '?') & (df[f'i{l}_legid'].notna()),\n",
    "            ['nr', f'i{l}_legid', f'i{l}_dep_{s}_p', f'i{l}_dep_{s}_e', f'i{l}_dep_{s}_place', 'path_indexes']]\\\n",
    "            .to_dict('records')\n",
    "        res = gds.run_cypher(f'''\n",
    "            UNWIND $relMaps AS relMap\n",
    "            WITH toInteger(relMap.nr) AS shipmentId,\n",
    "                toInteger(relMap.i{l}_dep_{s}_place) AS airportId,\n",
    "                toInteger(relMap.i{l}_legid) AS legId,\n",
    "                toInteger(relMap.i{l}_dep_{s}_e) AS effectiveMinutes,\n",
    "                toInteger(relMap.i{l}_dep_{s}_p) AS plannedMinutes,\n",
    "                relMap.path_indexes.i{l} AS pathIndex\n",
    "            MATCH(n1:DepartureWarehouse {{airportId: airportId}})\n",
    "            MATCH(n2:DeparturePoint {{airportId: airportId}})\n",
    "            MERGE(n1)-[r:FREIGHT_DEPARTURE {{shipmentId: shipmentId, legId: legId, legNumber: $legNumber, segmentNumber: $segmentNumber}}]->(n2)\n",
    "            ON CREATE SET r.plannedMinutes=plannedMinutes,\n",
    "                r.effectiveMinutes=effectiveMinutes,\n",
    "                r.pathIndex = pathIndex\n",
    "            RETURN count(r)\n",
    "        ''', params={'relMaps':sub_dict, 'legNumber':l, 'segmentNumber':s})\n",
    "        print(res)"
   ],
   "metadata": {
    "collapsed": false,
    "pycharm": {
     "name": "#%%\n"
    }
   }
  },
  {
   "cell_type": "code",
   "execution_count": 78,
   "outputs": [
    {
     "name": "stdout",
     "output_type": "stream",
     "text": [
      "-- SEGMENT 1 ----------------------\n",
      "   count(r)\n",
      "0      3942\n",
      "-- SEGMENT 2 ----------------------\n",
      "   count(r)\n",
      "0      1845\n",
      "-- SEGMENT 3 ----------------------\n",
      "   count(r)\n",
      "0        26\n"
     ]
    }
   ],
   "source": [
    "# (:DepartureWarehouse)-[r:FREIGHT_DEPARTURE]-(:DeparturePoint) DEP1 outbound\n",
    "for s in SEGMENTS:\n",
    "    print(f'-- SEGMENT {s} ----------------------')\n",
    "    sub_dict = df.loc[(df[f'o_dep_{s}_place'] != '?') & (df[f'o_legid'].notna()),\n",
    "                      ['nr', f'o_legid', f'o_dep_{s}_p', f'o_dep_{s}_e', f'o_dep_{s}_place', 'path_indexes']]\\\n",
    "        .to_dict('records')\n",
    "    res = gds.run_cypher(f'''\n",
    "        UNWIND $relMaps AS relMap\n",
    "        WITH toInteger(relMap.nr) AS shipmentId,\n",
    "            toInteger(relMap.o_dep_{s}_place) AS airportId,\n",
    "            toInteger(relMap.o_legid) AS legId,\n",
    "            toInteger(relMap.o_dep_{s}_e) AS effectiveMinutes,\n",
    "            toInteger(relMap.o_dep_{s}_p) AS plannedMinutes,\n",
    "            relMap.path_indexes.o AS pathIndex\n",
    "        MATCH(n1:DepartureWarehouse {{airportId: airportId}})\n",
    "        MATCH(n2:DeparturePoint {{airportId: airportId}})\n",
    "        MERGE(n1)-[r:FREIGHT_DEPARTURE {{shipmentId: shipmentId, legId: legId, legNumber: $legNumber, segmentNumber: $segmentNumber}}]->(n2)\n",
    "        ON CREATE SET r.plannedMinutes=plannedMinutes,\n",
    "            r.effectiveMinutes=effectiveMinutes,\n",
    "            r.pathIndex = pathIndex\n",
    "        RETURN count(r)\n",
    "    ''', params={'relMaps':sub_dict, 'legNumber':-1, 'segmentNumber':s})\n",
    "    print(res)"
   ],
   "metadata": {
    "collapsed": false,
    "pycharm": {
     "name": "#%%\n"
    }
   }
  },
  {
   "cell_type": "code",
   "execution_count": 79,
   "outputs": [
    {
     "name": "stdout",
     "output_type": "stream",
     "text": [
      "== LEG 1 ======================\n",
      "-- SEGMENT 1 ----------------------\n",
      "   count(r)\n",
      "0      3942\n",
      "-- SEGMENT 2 ----------------------\n",
      "   count(r)\n",
      "0      1195\n",
      "-- SEGMENT 3 ----------------------\n",
      "   count(r)\n",
      "0        23\n",
      "== LEG 2 ======================\n",
      "-- SEGMENT 1 ----------------------\n",
      "   count(r)\n",
      "0      2624\n",
      "-- SEGMENT 2 ----------------------\n",
      "   count(r)\n",
      "0       791\n",
      "-- SEGMENT 3 ----------------------\n",
      "   count(r)\n",
      "0        14\n",
      "== LEG 3 ======================\n",
      "-- SEGMENT 1 ----------------------\n",
      "   count(r)\n",
      "0      1366\n",
      "-- SEGMENT 2 ----------------------\n",
      "   count(r)\n",
      "0       391\n",
      "-- SEGMENT 3 ----------------------\n",
      "   count(r)\n",
      "0         8\n"
     ]
    }
   ],
   "source": [
    "# (:DeparturePoint)-[r:FREIGHT_TRANSPORT]-(:ArrivalWarehouse) inbound\n",
    "for l in LEGS:\n",
    "    print(f'== LEG {l} ======================')\n",
    "    for s in SEGMENTS:\n",
    "        print(f'-- SEGMENT {s} ----------------------')\n",
    "        sub_dict = df.loc[(df[f'i{l}_rcf_{s}_place'] != '?') & (df[f'i{l}_legid'].notna()),\n",
    "                          ['nr', f'i{l}_legid', f'i{l}_rcf_{s}_p', f'i{l}_rcf_{s}_e', f'i{l}_dep_{s}_place', f'i{l}_rcf_{s}_place', 'path_indexes']]\\\n",
    "            .to_dict('records')\n",
    "        res = gds.run_cypher(f'''\n",
    "            UNWIND $relMaps AS relMap\n",
    "            WITH toInteger(relMap.nr) AS shipmentId,\n",
    "                toInteger(relMap.i{l}_dep_{s}_place) AS fromAirportId,\n",
    "                toInteger(relMap.i{l}_rcf_{s}_place) AS toAirportId,\n",
    "                toInteger(relMap.i{l}_legid) AS legId,\n",
    "                toInteger(relMap.i{l}_rcf_{s}_e) AS effectiveMinutes,\n",
    "                toInteger(relMap.i{l}_rcf_{s}_p) AS plannedMinutes,\n",
    "                relMap.path_indexes.i{l} AS pathIndex\n",
    "            MATCH(n1:DeparturePoint {{airportId: fromAirportId}})\n",
    "            MATCH(n2:ArrivalWarehouse {{airportId: toAirportId}})\n",
    "            MERGE(n1)-[r:FREIGHT_TRANSPORT {{shipmentId: shipmentId, legId: legId, legNumber: $legNumber, segmentNumber: $segmentNumber}}]->(n2)\n",
    "            ON CREATE SET r.plannedMinutes=plannedMinutes,\n",
    "                r.effectiveMinutes=effectiveMinutes,\n",
    "                r.pathIndex = pathIndex\n",
    "            RETURN count(r)\n",
    "        ''', params={'relMaps':sub_dict, 'legNumber':l, 'segmentNumber':s})\n",
    "        print(res)"
   ],
   "metadata": {
    "collapsed": false,
    "pycharm": {
     "name": "#%%\n"
    }
   }
  },
  {
   "cell_type": "code",
   "execution_count": 80,
   "outputs": [
    {
     "name": "stdout",
     "output_type": "stream",
     "text": [
      "-- SEGMENT 1 ----------------------\n",
      "   count(r)\n",
      "0      3942\n",
      "-- SEGMENT 2 ----------------------\n",
      "   count(r)\n",
      "0      1845\n",
      "-- SEGMENT 3 ----------------------\n",
      "   count(r)\n",
      "0        26\n"
     ]
    }
   ],
   "source": [
    "# (:DeparturePoint)-[r:FREIGHT_TRANSPORT]-(:ArrivalWarehouse) RCF outbound\n",
    "for s in SEGMENTS:\n",
    "    print(f'-- SEGMENT {s} ----------------------')\n",
    "    sub_dict = df.loc[(df[f'o_rcf_{s}_place'] != '?') & (df[f'o_legid'].notna()),\n",
    "                      ['nr', f'o_legid', f'o_rcf_{s}_p', f'o_rcf_{s}_e',  f'o_dep_{s}_place', f'o_rcf_{s}_place', 'path_indexes']]\\\n",
    "        .to_dict('records')\n",
    "    res = gds.run_cypher(f'''\n",
    "        UNWIND $relMaps AS relMap\n",
    "        WITH toInteger(relMap.nr) AS shipmentId,\n",
    "            toInteger(relMap.o_dep_{s}_place) AS fromAirportId,\n",
    "            toInteger(relMap.o_rcf_{s}_place) AS toAirportId,\n",
    "            toInteger(relMap.o_legid) AS legId,\n",
    "            toInteger(relMap.o_rcf_{s}_e) AS effectiveMinutes,\n",
    "            toInteger(relMap.o_rcf_{s}_p) AS plannedMinutes,\n",
    "            relMap.path_indexes.o AS pathIndex\n",
    "        MATCH(n1:DeparturePoint {{airportId: fromAirportId}})\n",
    "        MATCH(n2:ArrivalWarehouse {{airportId: toAirportId}})\n",
    "        MERGE(n1)-[r:FREIGHT_TRANSPORT {{shipmentId: shipmentId, legId: legId, legNumber: $legNumber, segmentNumber: $segmentNumber}}]->(n2)\n",
    "        ON CREATE SET r.plannedMinutes=plannedMinutes,\n",
    "            r.effectiveMinutes=effectiveMinutes,\n",
    "            r.pathIndex = pathIndex\n",
    "        RETURN count(r)\n",
    "    ''', params={'relMaps':sub_dict, 'legNumber':-1, 'segmentNumber':s})\n",
    "    print(res)"
   ],
   "metadata": {
    "collapsed": false,
    "pycharm": {
     "name": "#%%\n"
    }
   }
  },
  {
   "cell_type": "code",
   "execution_count": 81,
   "outputs": [
    {
     "name": "stdout",
     "output_type": "stream",
     "text": [
      "   count(r)\n",
      "0      3942\n",
      "   count(r)\n",
      "0      2624\n",
      "   count(r)\n",
      "0      1366\n"
     ]
    }
   ],
   "source": [
    "# (:ArrivalWarehouse)-[r:FREIGHT_DELIVERY]-(:Destination) DLV inbound\n",
    "for l in LEGS:\n",
    "    sub_dict = df.loc[(df[f'i{l}_legid'] != '?') & (df[f'i{l}_legid'].notna()),\n",
    "                      ['nr', f'i{l}_legid', f'i{l}_dlv_p', f'i{l}_dlv_e', 'last_i_rcf_place', 'path_indexes']].to_dict('records')\n",
    "    res = gds.run_cypher(f'''\n",
    "        UNWIND $relMaps AS relMap\n",
    "        WITH toInteger(relMap.nr) AS shipmentId,\n",
    "            toInteger(relMap.last_i_rcf_place) AS airportId,\n",
    "            toInteger(relMap.i{l}_legid) AS legId,\n",
    "            toInteger(relMap.i{l}_dlv_e) AS effectiveMinutes,\n",
    "            toInteger(relMap.i{l}_dlv_p) AS plannedMinutes,\n",
    "            relMap.path_indexes.i{l} AS pathIndex\n",
    "        MATCH(n1:ArrivalWarehouse {{airportId: airportId}})\n",
    "        MATCH(n2:Destination {{airportId: airportId}})\n",
    "        MERGE(n1)-[r:FREIGHT_DELIVERY {{shipmentId: shipmentId, legId: legId, legNumber: $legNumber}}]->(n2)\n",
    "        ON CREATE SET r.plannedMinutes=plannedMinutes,\n",
    "            r.effectiveMinutes=effectiveMinutes,\n",
    "            r.pathIndex = pathIndex\n",
    "        RETURN count(r)\n",
    "    ''', params={'relMaps':sub_dict, 'legNumber':l})\n",
    "    print(res)"
   ],
   "metadata": {
    "collapsed": false,
    "pycharm": {
     "name": "#%%\n"
    }
   }
  },
  {
   "cell_type": "code",
   "execution_count": 82,
   "outputs": [
    {
     "name": "stdout",
     "output_type": "stream",
     "text": [
      "   count(r)\n",
      "0      3942\n"
     ]
    }
   ],
   "source": [
    "# (:ArrivalWarehouse)-[r:FREIGHT_DELIVERY]-(:Destination) DLV outbound\n",
    "sub_dict = df.loc[(df[f'o_legid'] != '?') & (df[f'o_legid'].notna()),\n",
    "                  ['nr', 'o_legid', f'o_dlv_p', f'o_dlv_e', 'last_o_rcf_place', 'path_indexes']].to_dict('records')\n",
    "res = gds.run_cypher('''\n",
    "    UNWIND $relMaps AS relMap\n",
    "    WITH toInteger(relMap.nr) AS shipmentId,\n",
    "        toInteger(relMap.last_o_rcf_place) AS airportId,\n",
    "        toInteger(relMap.o_legid) AS legId,\n",
    "        toInteger(relMap.o_dlv_e) AS effectiveMinutes,\n",
    "        toInteger(relMap.o_dlv_p) AS plannedMinutes,\n",
    "        relMap.path_indexes.o AS pathIndex\n",
    "    MATCH(n1:ArrivalWarehouse {airportId: airportId})\n",
    "    MATCH(n2:Destination {airportId: airportId})\n",
    "    MERGE(n1)-[r:FREIGHT_DELIVERY {shipmentId: shipmentId, legId: legId, legNumber: $legNumber}]->(n2)\n",
    "    ON CREATE SET r.plannedMinutes=plannedMinutes,\n",
    "        r.effectiveMinutes=effectiveMinutes,\n",
    "        r.pathIndex = pathIndex\n",
    "    RETURN count(r)\n",
    "''', params={'relMaps':sub_dict, 'legNumber':-1})\n",
    "print(res)"
   ],
   "metadata": {
    "collapsed": false,
    "pycharm": {
     "name": "#%%\n"
    }
   }
  },
  {
   "cell_type": "code",
   "execution_count": 83,
   "outputs": [
    {
     "data": {
      "text/plain": "        nr i3_legid last_i_rcf_place  \\\n6        6      571              391   \n12      12     9401              815   \n14      14    11408              349   \n22      22     8092              815   \n24      24    14188              391   \n...    ...      ...              ...   \n3926  3927    13056              286   \n3932  3933     1291              339   \n3934  3935     4129              609   \n3937  3938     3991              243   \n3938  3939     3812              174   \n\n                                           path_indexes  \n6     {'o': ['815-281', '815-281', '610-281'], 'i1':...  \n12    {'o': ['281-485', '281-485', '614-485'], 'i1':...  \n14    {'o': ['456-149', '671-149', '468-149'], 'i1':...  \n22    {'o': ['332-403', '614-403', '349-403'], 'i1':...  \n24    {'o': ['815-783', '628-783', '233-783'], 'i1':...  \n...                                                 ...  \n3926  {'o': ['166-261', '815-261', '671-261'], 'i1':...  \n3932  {'o': ['556-108', '556-108', '556-108'], 'i1':...  \n3934  {'o': ['815-243', '366-243', '815-243'], 'i1':...  \n3937  {'o': ['233-127', '233-127', '815-127'], 'i1':...  \n3938  {'o': ['815-293', '671-293', '671-293'], 'i1':...  \n\n[1366 rows x 4 columns]",
      "text/html": "<div>\n<style scoped>\n    .dataframe tbody tr th:only-of-type {\n        vertical-align: middle;\n    }\n\n    .dataframe tbody tr th {\n        vertical-align: top;\n    }\n\n    .dataframe thead th {\n        text-align: right;\n    }\n</style>\n<table border=\"1\" class=\"dataframe\">\n  <thead>\n    <tr style=\"text-align: right;\">\n      <th></th>\n      <th>nr</th>\n      <th>i3_legid</th>\n      <th>last_i_rcf_place</th>\n      <th>path_indexes</th>\n    </tr>\n  </thead>\n  <tbody>\n    <tr>\n      <th>6</th>\n      <td>6</td>\n      <td>571</td>\n      <td>391</td>\n      <td>{'o': ['815-281', '815-281', '610-281'], 'i1':...</td>\n    </tr>\n    <tr>\n      <th>12</th>\n      <td>12</td>\n      <td>9401</td>\n      <td>815</td>\n      <td>{'o': ['281-485', '281-485', '614-485'], 'i1':...</td>\n    </tr>\n    <tr>\n      <th>14</th>\n      <td>14</td>\n      <td>11408</td>\n      <td>349</td>\n      <td>{'o': ['456-149', '671-149', '468-149'], 'i1':...</td>\n    </tr>\n    <tr>\n      <th>22</th>\n      <td>22</td>\n      <td>8092</td>\n      <td>815</td>\n      <td>{'o': ['332-403', '614-403', '349-403'], 'i1':...</td>\n    </tr>\n    <tr>\n      <th>24</th>\n      <td>24</td>\n      <td>14188</td>\n      <td>391</td>\n      <td>{'o': ['815-783', '628-783', '233-783'], 'i1':...</td>\n    </tr>\n    <tr>\n      <th>...</th>\n      <td>...</td>\n      <td>...</td>\n      <td>...</td>\n      <td>...</td>\n    </tr>\n    <tr>\n      <th>3926</th>\n      <td>3927</td>\n      <td>13056</td>\n      <td>286</td>\n      <td>{'o': ['166-261', '815-261', '671-261'], 'i1':...</td>\n    </tr>\n    <tr>\n      <th>3932</th>\n      <td>3933</td>\n      <td>1291</td>\n      <td>339</td>\n      <td>{'o': ['556-108', '556-108', '556-108'], 'i1':...</td>\n    </tr>\n    <tr>\n      <th>3934</th>\n      <td>3935</td>\n      <td>4129</td>\n      <td>609</td>\n      <td>{'o': ['815-243', '366-243', '815-243'], 'i1':...</td>\n    </tr>\n    <tr>\n      <th>3937</th>\n      <td>3938</td>\n      <td>3991</td>\n      <td>243</td>\n      <td>{'o': ['233-127', '233-127', '815-127'], 'i1':...</td>\n    </tr>\n    <tr>\n      <th>3938</th>\n      <td>3939</td>\n      <td>3812</td>\n      <td>174</td>\n      <td>{'o': ['815-293', '671-293', '671-293'], 'i1':...</td>\n    </tr>\n  </tbody>\n</table>\n<p>1366 rows × 4 columns</p>\n</div>"
     },
     "execution_count": 83,
     "metadata": {},
     "output_type": "execute_result"
    }
   ],
   "source": [
    "df.loc[(df[f'i{l}_legid'] != '?') & (df[f'i{l}_legid'].notna()),\n",
    "       ['nr', f'i{l}_legid', 'last_i_rcf_place', 'path_indexes']]"
   ],
   "metadata": {
    "collapsed": false,
    "pycharm": {
     "name": "#%%\n"
    }
   }
  },
  {
   "cell_type": "code",
   "execution_count": 84,
   "outputs": [
    {
     "name": "stdout",
     "output_type": "stream",
     "text": [
      "   count(r)\n",
      "0      3942\n",
      "   count(r)\n",
      "0      2624\n",
      "   count(r)\n",
      "0      1366\n"
     ]
    }
   ],
   "source": [
    "# (:Destination)-[r:TRANSFER]-(:EntryPoint) inbound->outbound\n",
    "for l in LEGS:\n",
    "    sub_dict = df.loc[(df[f'i{l}_legid'] != '?') & (df[f'i{l}_legid'].notna()),\n",
    "                      ['nr', f'i{l}_legid', 'last_i_rcf_place', 'path_indexes']].to_dict('records')\n",
    "    res = gds.run_cypher(f'''\n",
    "        UNWIND $relMaps AS relMap\n",
    "        WITH toInteger(relMap.nr) AS shipmentId,\n",
    "            toInteger(relMap.last_i_rcf_place) AS airportId,\n",
    "            toInteger(relMap.i{l}_legid) AS legId,\n",
    "            relMap.path_indexes.o AS pathIndex\n",
    "        MATCH(n1:Destination {{airportId: airportId}})\n",
    "        MATCH(n2:EntryPoint {{airportId: airportId}})\n",
    "        MERGE(n1)-[r:TRANSFER {{shipmentId: shipmentId, legId: legId, legNumber: $legNumber}}]->(n2)\n",
    "        ON CREATE SET r.plannedMinutes=0, r.effectiveMinutes=0, r.pathIndex = pathIndex\n",
    "        RETURN count(r)\n",
    "    ''', params={'relMaps':sub_dict, 'legNumber':l})\n",
    "    print(res)"
   ],
   "metadata": {
    "collapsed": false,
    "pycharm": {
     "name": "#%%\n"
    }
   }
  },
  {
   "cell_type": "code",
   "execution_count": 85,
   "outputs": [
    {
     "name": "stdout",
     "output_type": "stream",
     "text": [
      "== LEG 1 ======================\n",
      "-- SEGMENT 2 ----------------------\n",
      "   count(r)\n",
      "0      1195\n",
      "-- SEGMENT 3 ----------------------\n",
      "   count(r)\n",
      "0        23\n",
      "== LEG 2 ======================\n",
      "-- SEGMENT 2 ----------------------\n",
      "   count(r)\n",
      "0       791\n",
      "-- SEGMENT 3 ----------------------\n",
      "   count(r)\n",
      "0        14\n",
      "== LEG 3 ======================\n",
      "-- SEGMENT 2 ----------------------\n",
      "   count(r)\n",
      "0       391\n",
      "-- SEGMENT 3 ----------------------\n",
      "   count(r)\n",
      "0         8\n"
     ]
    }
   ],
   "source": [
    "# (:ArrivalWarehouse)-[r:CONNECT]-(:DepartureWarehouse) inbound\n",
    "for l in LEGS:\n",
    "    print(f'== LEG {l} ======================')\n",
    "    for s in [2,3]:\n",
    "        print(f'-- SEGMENT {s} ----------------------')\n",
    "        sub_dict = df.loc[(df[f'i{l}_rcf_{s}_place'] != '?') & (df[f'i{l}_legid'].notna()),\n",
    "                          ['nr', f'i{l}_legid', f'i{l}_dep_{s}_place', 'path_indexes']].to_dict('records')\n",
    "        res = gds.run_cypher(f'''\n",
    "            UNWIND $relMaps AS relMap\n",
    "            WITH toInteger(relMap.nr) AS shipmentId,\n",
    "                toInteger(relMap.i{l}_dep_{s}_place) AS airportId,\n",
    "                toInteger(relMap.i{l}_legid) AS legId,\n",
    "                relMap.path_indexes.i{l} AS pathIndex\n",
    "            MATCH(n1:ArrivalWarehouse {{airportId: airportId}})\n",
    "            MATCH(n2:DepartureWarehouse {{airportId: airportId}})\n",
    "            MERGE(n1)-[r:CONNECT {{shipmentId: shipmentId, legId: legId, legNumber: $legNumber}}]->(n2)\n",
    "            ON CREATE SET r.plannedMinutes=0, r.effectiveMinutes=0, r.pathIndex = pathIndex\n",
    "            RETURN count(r)\n",
    "        ''', params={'relMaps':sub_dict, 'legNumber':l})\n",
    "        print(res)"
   ],
   "metadata": {
    "collapsed": false,
    "pycharm": {
     "name": "#%%\n"
    }
   }
  },
  {
   "cell_type": "code",
   "execution_count": 86,
   "outputs": [
    {
     "name": "stdout",
     "output_type": "stream",
     "text": [
      "-- SEGMENT 2 ----------------------\n",
      "   count(r)\n",
      "0      1845\n",
      "-- SEGMENT 3 ----------------------\n",
      "   count(r)\n",
      "0        26\n"
     ]
    }
   ],
   "source": [
    "# (:ArrivalWarehouse)-[r:CONNECT]-(:DepartureWarehouse) outbound\n",
    "\n",
    "for s in [2,3]:\n",
    "    print(f'-- SEGMENT {s} ----------------------')\n",
    "    sub_dict = df.loc[(df[f'o_rcf_{s}_place'] != '?') & (df[f'o_legid'].notna()),\n",
    "                      ['nr', f'o_legid', f'o_dep_{s}_place', 'path_indexes']].to_dict('records')\n",
    "    res = gds.run_cypher(f'''\n",
    "            UNWIND $relMaps AS relMap\n",
    "            WITH toInteger(relMap.nr) AS shipmentId,\n",
    "                toInteger(relMap.o_dep_{s}_place) AS airportId,\n",
    "                toInteger(relMap.o_legid) AS legId,\n",
    "                relMap.path_indexes.o AS pathIndex\n",
    "            MATCH(n1:ArrivalWarehouse {{airportId: airportId}})\n",
    "            MATCH(n2:DepartureWarehouse {{airportId: airportId}})\n",
    "            MERGE(n1)-[r:CONNECT {{shipmentId: shipmentId, legId: legId, legNumber: $legNumber}}]->(n2)\n",
    "            ON CREATE SET r.plannedMinutes=0, r.effectiveMinutes=0, r.pathIndex=pathIndex\n",
    "            RETURN count(r)\n",
    "    ''', params={'relMaps':sub_dict, 'legNumber':-1})\n",
    "    print(res)"
   ],
   "metadata": {
    "collapsed": false,
    "pycharm": {
     "name": "#%%\n"
    }
   }
  },
  {
   "cell_type": "markdown",
   "source": [],
   "metadata": {
    "collapsed": false,
    "pycharm": {
     "name": "#%% md\n"
    }
   }
  }
 ],
 "metadata": {
  "kernelspec": {
   "display_name": "Python 3",
   "language": "python",
   "name": "python3"
  },
  "language_info": {
   "codemirror_mode": {
    "name": "ipython",
    "version": 2
   },
   "file_extension": ".py",
   "mimetype": "text/x-python",
   "name": "python",
   "nbconvert_exporter": "python",
   "pygments_lexer": "ipython2",
   "version": "2.7.6"
  }
 },
 "nbformat": 4,
 "nbformat_minor": 0
}