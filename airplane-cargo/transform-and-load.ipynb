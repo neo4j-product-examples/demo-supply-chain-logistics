{
 "cells": [
  {
   "cell_type": "code",
   "execution_count": 22,
   "metadata": {
    "collapsed": true
   },
   "outputs": [],
   "source": [
    "import pandas as pd\n",
    "import configparser\n"
   ]
  },
  {
   "cell_type": "code",
   "execution_count": 23,
   "outputs": [],
   "source": [
    "config = configparser.RawConfigParser()\n",
    "config.read('/Users/zachblumenfeld/devtools/aura-freight-demo.ini')\n",
    "HOST = config['NEO4J']['HOST']\n",
    "USERNAME = config['NEO4J']['USERNAME']\n",
    "PASSWORD = config['NEO4J']['PASSWORD']"
   ],
   "metadata": {
    "collapsed": false,
    "pycharm": {
     "name": "#%%\n"
    }
   }
  },
  {
   "cell_type": "code",
   "execution_count": 24,
   "outputs": [],
   "source": [
    "from graphdatascience import GraphDataScience\n",
    "\n",
    "# Use Neo4j URI and credentials according to your setup\n",
    "gds = GraphDataScience(HOST, auth=(USERNAME, PASSWORD), aura_ds=True)"
   ],
   "metadata": {
    "collapsed": false,
    "pycharm": {
     "name": "#%%\n"
    }
   }
  },
  {
   "cell_type": "code",
   "execution_count": 25,
   "outputs": [],
   "source": [
    "df = pd.read_csv('data/c2k_data_comma.csv', dtype=str)"
   ],
   "metadata": {
    "collapsed": false,
    "pycharm": {
     "name": "#%%\n"
    }
   }
  },
  {
   "cell_type": "code",
   "execution_count": 26,
   "outputs": [
    {
     "data": {
      "text/plain": "['i1_dlv_p',\n 'i1_dlv_e',\n 'i2_dlv_p',\n 'i2_dlv_e',\n 'i3_dlv_p',\n 'i3_dlv_e',\n 'o_dlv_p',\n 'o_dlv_e']"
     },
     "execution_count": 26,
     "metadata": {},
     "output_type": "execute_result"
    }
   ],
   "source": [
    "[i for i in df.columns.tolist() if 'dlv' in i]"
   ],
   "metadata": {
    "collapsed": false,
    "pycharm": {
     "name": "#%%\n"
    }
   }
  },
  {
   "cell_type": "code",
   "execution_count": 27,
   "outputs": [
    {
     "data": {
      "text/plain": "Empty DataFrame\nColumns: []\nIndex: []",
      "text/html": "<div>\n<style scoped>\n    .dataframe tbody tr th:only-of-type {\n        vertical-align: middle;\n    }\n\n    .dataframe tbody tr th {\n        vertical-align: top;\n    }\n\n    .dataframe thead th {\n        text-align: right;\n    }\n</style>\n<table border=\"1\" class=\"dataframe\">\n  <thead>\n    <tr style=\"text-align: right;\">\n      <th></th>\n    </tr>\n  </thead>\n  <tbody>\n  </tbody>\n</table>\n</div>"
     },
     "execution_count": 27,
     "metadata": {},
     "output_type": "execute_result"
    }
   ],
   "source": [
    "#gds.run_cypher('CREATE CONSTRAINT airport_unique IF NOT EXISTS ON (n:Airport) ASSERT n.airportId  IS UNIQUE')\n",
    "gds.run_cypher('CREATE CONSTRAINT airport_entry_unique IF NOT EXISTS ON (n:Entry) ASSERT n.airportId  IS UNIQUE')\n",
    "#gds.run_cypher('CREATE INDEX check_in_shipment_id FOR (n:Entry)-[r:CHECK_IN]-(m:Checkpoint) IF NOT EXISTS ON (r.shipmentId)')\n",
    "gds.run_cypher('CREATE INDEX check_in_shipment_id IF NOT EXISTS FOR ()-[r:CHECK_IN]-() ON (r.shipmentId)')\n",
    "gds.run_cypher('CREATE CONSTRAINT airport_departure_checkpoint_unique IF NOT EXISTS ON (n:DepartureCheckpoint) ASSERT n.airportId  IS UNIQUE')\n",
    "#gds.run_cypher('CREATE INDEX confirm_shipment_id FOR (:Checkpoint)-[r:CONFIRM]-(:Departure) IF NOT EXISTS ON (r.shipmentId)')\n",
    "gds.run_cypher('CREATE INDEX confirm_shipment_id IF NOT EXISTS FOR ()-[r:CONFIRM]-() ON (r.shipmentId)')\n",
    "gds.run_cypher('CREATE CONSTRAINT airport_departure_unique IF NOT EXISTS ON (n:Departure) ASSERT n.airportId  IS UNIQUE')\n",
    "#gds.run_cypher('CREATE INDEX depart_shipment_id FOR (:Departure)-[r:DEPART]-(:Arrival) IF NOT EXISTS ON (r.shipmentId)')\n",
    "gds.run_cypher('CREATE INDEX depart_shipment_id IF NOT EXISTS FOR ()-[r:DEPART]-() ON (r.shipmentId)')\n",
    "gds.run_cypher('CREATE CONSTRAINT airport_arrival_unique IF NOT EXISTS ON (n:Arrival) ASSERT n.airportId  IS UNIQUE')\n",
    "#gds.run_cypher('CREATE INDEX accept_shipment_id FOR (:Arrival)-[r:ACCEPT]-(:Checkpoint) IF NOT EXISTS ON (r.shipmentId)')\n",
    "#gds.run_cypher('CREATE INDEX deliver_shipment_id FOR (:Checkpoint)-[r:DELIVER]-(:Destination) IF NOT EXISTS ON (r.shipmentId)')\n",
    "gds.run_cypher('CREATE INDEX accept_shipment_id IF NOT EXISTS FOR ()-[r:ACCEPT]-() ON (r.shipmentId)')\n",
    "gds.run_cypher('CREATE CONSTRAINT airport_arrival_checkpoint_unique IF NOT EXISTS ON (n:ArrivalCheckpoint) ASSERT n.airportId  IS UNIQUE')\n",
    "gds.run_cypher('CREATE INDEX deliver_shipment_id IF NOT EXISTS FOR ()-[r:DELIVER]-() ON (r.shipmentId)')\n",
    "gds.run_cypher('CREATE CONSTRAINT airport_destination_unique  IF NOT EXISTS ON (n:Destination) ASSERT n.airportId  IS UNIQUE')\n",
    "#gds.run_cypher('CREATE INDEX transfer_shipment_id FOR (:Destination)-[r:TRANSFER]-(:Entry) IF NOT EXISTS ON (r.shipmentId)')\n",
    "gds.run_cypher('CREATE INDEX transfer_shipment_id IF NOT EXISTS FOR ()-[r:TRANSFER]-() ON (r.shipmentId)')\n",
    "#gds.run_cypher('CREATE INDEX connect_shipment_id IF NOT EXISTS FOR (ArrivalCheckpoint)-[r:CONNECT-(DepartureCheckpoint) ON (r.shipmentId')\n",
    "gds.run_cypher('CREATE INDEX connect_shipment_id IF NOT EXISTS FOR ()-[r:CONNECT]-() ON (r.shipmentId)')"
   ],
   "metadata": {
    "collapsed": false,
    "pycharm": {
     "name": "#%%\n"
    }
   }
  },
  {
   "cell_type": "code",
   "execution_count": 28,
   "outputs": [
    {
     "data": {
      "text/plain": "   count(n0)  count(n1)  count(n2)  count(n3)  count(n4)  count(n5)\n0        237        237        237        237        237        237",
      "text/html": "<div>\n<style scoped>\n    .dataframe tbody tr th:only-of-type {\n        vertical-align: middle;\n    }\n\n    .dataframe tbody tr th {\n        vertical-align: top;\n    }\n\n    .dataframe thead th {\n        text-align: right;\n    }\n</style>\n<table border=\"1\" class=\"dataframe\">\n  <thead>\n    <tr style=\"text-align: right;\">\n      <th></th>\n      <th>count(n0)</th>\n      <th>count(n1)</th>\n      <th>count(n2)</th>\n      <th>count(n3)</th>\n      <th>count(n4)</th>\n      <th>count(n5)</th>\n    </tr>\n  </thead>\n  <tbody>\n    <tr>\n      <th>0</th>\n      <td>237</td>\n      <td>237</td>\n      <td>237</td>\n      <td>237</td>\n      <td>237</td>\n      <td>237</td>\n    </tr>\n  </tbody>\n</table>\n</div>"
     },
     "execution_count": 28,
     "metadata": {},
     "output_type": "execute_result"
    }
   ],
   "source": [
    "# Load Nodes\n",
    "cols = df.columns.tolist()\n",
    "\n",
    "airport_ids = set()\n",
    "for col in cols:\n",
    "    if 'place' in col:\n",
    "        #print([i for i in df.loc[(df[col] != '?') & (df[col].notna()), col].tolist()])\n",
    "        airport_ids.update([int(i) for i in df.loc[(df[col] != '?') & (df[col].notna()), col].unique().tolist()])\n",
    "\n",
    "gds.run_cypher('''\n",
    "    WITH $airportIds AS airportIds\n",
    "    UNWIND airportIds AS airportId\n",
    "    MERGE(n0:Entry {airportId: airportId})\n",
    "    MERGE(n1:DepartureCheckpoint {airportId: airportId})\n",
    "    MERGE(n2:Departure {airportId: airportId})\n",
    "    MERGE(n3:Arrival {airportId: airportId})\n",
    "    MERGE(n4:ArrivalCheckpoint {airportId: airportId})\n",
    "    MERGE(n5:Destination {airportId: airportId})\n",
    "    RETURN count(n0), count(n1), count(n2), count(n3), count(n4), count(n5)\n",
    "    ''', params={'airportIds':list(airport_ids)})"
   ],
   "metadata": {
    "collapsed": false,
    "pycharm": {
     "name": "#%%\n"
    }
   }
  },
  {
   "cell_type": "code",
   "execution_count": 29,
   "outputs": [],
   "source": [
    "LEGS = [1,2,3]\n",
    "SEGMENTS = [1,2,3]\n",
    "GOINGS = ['i','o']\n",
    "SERVICES = ['rcs', 'dlv']"
   ],
   "metadata": {
    "collapsed": false,
    "pycharm": {
     "name": "#%%\n"
    }
   }
  },
  {
   "cell_type": "code",
   "execution_count": 30,
   "outputs": [
    {
     "name": "stdout",
     "output_type": "stream",
     "text": [
      "   count(r)\n",
      "0      3942\n",
      "   count(r)\n",
      "0      2624\n",
      "   count(r)\n",
      "0      1366\n"
     ]
    }
   ],
   "source": [
    "# (n:Entry)-[r:CHECK_IN]-(m:Checkpoint) RCS inbound\n",
    "for l in LEGS:\n",
    "    sub_dict = df.loc[(df[f'i{l}_legid'] != '?') & (df[f'i{l}_legid'].notna()),\n",
    "                      ['nr', f'i{l}_legid', f'i{l}_rcs_p', f'i{l}_rcs_e', f'i{l}_dep_1_place']].astype(int).to_dict('records')\n",
    "    res = gds.run_cypher(f'''\n",
    "        WITH $relMaps AS relMaps\n",
    "        UNWIND relMaps AS relMap\n",
    "        MATCH(n1:Entry {{airportId: relMap[\"i{l}_dep_1_place\"]}})\n",
    "        MATCH(n2:DepartureCheckpoint {{airportId: relMap[\"i{l}_dep_1_place\"]}})\n",
    "        MERGE(n1)-[r:CHECK_IN {{shipmentId: relMap[\"nr\"], legId: relMap[\"i{l}_legid\"], legNumber: $legNumber}}]->(n2)\n",
    "        SET r.plannedMinutes=relMap[\"i{l}_rcs_p\"]\n",
    "        SET r.effectiveMinutes=relMap[\"i{l}_rcs_e\"]\n",
    "        RETURN count(r)\n",
    "    ''', params={'relMaps':sub_dict, 'legNumber':l})\n",
    "    print(res)"
   ],
   "metadata": {
    "collapsed": false,
    "pycharm": {
     "name": "#%%\n"
    }
   }
  },
  {
   "cell_type": "code",
   "execution_count": 31,
   "outputs": [
    {
     "data": {
      "text/plain": "   count(r)\n0      3942",
      "text/html": "<div>\n<style scoped>\n    .dataframe tbody tr th:only-of-type {\n        vertical-align: middle;\n    }\n\n    .dataframe tbody tr th {\n        vertical-align: top;\n    }\n\n    .dataframe thead th {\n        text-align: right;\n    }\n</style>\n<table border=\"1\" class=\"dataframe\">\n  <thead>\n    <tr style=\"text-align: right;\">\n      <th></th>\n      <th>count(r)</th>\n    </tr>\n  </thead>\n  <tbody>\n    <tr>\n      <th>0</th>\n      <td>3942</td>\n    </tr>\n  </tbody>\n</table>\n</div>"
     },
     "execution_count": 31,
     "metadata": {},
     "output_type": "execute_result"
    }
   ],
   "source": [
    "# (n:Entry)-[r:CHECK_IN]-(m:Checkpoint) RCS outbound\n",
    "\n",
    "sub_dict = df.loc[(df[f'o_legid'] != '?') & (df[f'o_legid'].notna()),\n",
    "                  ['nr', f'o_legid', f'o_rcs_p', f'o_rcs_e', f'o_dep_1_place']].astype(int).to_dict('records')\n",
    "gds.run_cypher('''\n",
    "    WITH $relMaps AS relMaps\n",
    "    UNWIND relMaps AS relMap\n",
    "    MATCH(n1:Entry {airportId: relMap[\"o_dep_1_place\"]})\n",
    "    MATCH(n2:DepartureCheckpoint {airportId: relMap[\"o_dep_1_place\"]})\n",
    "    MERGE(n1)-[r:CHECK_IN {shipmentId: relMap[\"nr\"], legId: relMap[\"o_legid\"], legNumber: -1}]->(n2)\n",
    "    SET r.plannedMinutes=relMap[\"0_rcs_p\"]\n",
    "    SET r.effectiveMinutes=relMap[\"0_rcs_e\"]\n",
    "    RETURN count(r)\n",
    "''', params={'relMaps':sub_dict})"
   ],
   "metadata": {
    "collapsed": false,
    "pycharm": {
     "name": "#%%\n"
    }
   }
  },
  {
   "cell_type": "code",
   "execution_count": 32,
   "outputs": [
    {
     "name": "stdout",
     "output_type": "stream",
     "text": [
      "== LEG 1 ======================\n",
      "-- SEGMENT 1 ----------------------\n",
      "   count(r)\n",
      "0      3942\n",
      "   count(r)\n",
      "0      3942\n",
      "-- SEGMENT 2 ----------------------\n",
      "   count(r)\n",
      "0      1195\n",
      "   count(r)\n",
      "0      1195\n",
      "-- SEGMENT 3 ----------------------\n",
      "   count(r)\n",
      "0        23\n",
      "   count(r)\n",
      "0        23\n",
      "== LEG 2 ======================\n",
      "-- SEGMENT 1 ----------------------\n",
      "   count(r)\n",
      "0      2624\n",
      "   count(r)\n",
      "0      2624\n",
      "-- SEGMENT 2 ----------------------\n",
      "   count(r)\n",
      "0       791\n",
      "   count(r)\n",
      "0       791\n",
      "-- SEGMENT 3 ----------------------\n",
      "   count(r)\n",
      "0        14\n",
      "   count(r)\n",
      "0        14\n",
      "== LEG 3 ======================\n",
      "-- SEGMENT 1 ----------------------\n",
      "   count(r)\n",
      "0      1366\n",
      "   count(r)\n",
      "0      1366\n",
      "-- SEGMENT 2 ----------------------\n",
      "   count(r)\n",
      "0       391\n",
      "   count(r)\n",
      "0       391\n",
      "-- SEGMENT 3 ----------------------\n",
      "   count(r)\n",
      "0         8\n",
      "   count(r)\n",
      "0         8\n"
     ]
    }
   ],
   "source": [
    "# (:Checkpoint)-[r:CONFIRM]-(:Departure) DEP1 inbound\n",
    "# (:Departure)-[r:DEPART]-(:Arrival) DEP2 inbound\n",
    "for l in LEGS:\n",
    "    print(f'== LEG {l} ======================')\n",
    "    for s in SEGMENTS:\n",
    "        print(f'-- SEGMENT {s} ----------------------')\n",
    "        sub_dict = df.loc[(df[f'i{l}_dep_{s}_place'] != '?') & (df[f'i{l}_legid'].notna()),\n",
    "            ['nr', f'i{l}_legid', f'i{l}_dep_{s}_p', f'i{l}_dep_{s}_e', f'i{l}_dep_{s}_place', f'i{l}_rcf_{s}_place']]\\\n",
    "            .astype(int).to_dict('records')\n",
    "        res1 = gds.run_cypher(f'''\n",
    "            WITH $relMaps AS relMaps\n",
    "            UNWIND relMaps AS relMap\n",
    "            MATCH(n1:DepartureCheckpoint {{airportId: relMap[\"i{l}_dep_{s}_place\"]}})\n",
    "            MATCH(n2:Departure {{airportId: relMap[\"i{l}_dep_{s}_place\"]}})\n",
    "            MERGE(n1)-[r:CONFIRM {{shipmentId: relMap[\"nr\"], legId: relMap[\"i{l}_legid\"], legNumber: $legNumber, segmentNumber: $segmentNumber}}]->(n2)\n",
    "            SET r.plannedMinutes=0\n",
    "            SET r.effectiveMinutes=0\n",
    "            RETURN count(r)\n",
    "        ''', params={'relMaps':sub_dict, 'legNumber':l, 'segmentNumber':s})\n",
    "        print(res1)\n",
    "        res2 = gds.run_cypher(f'''\n",
    "            WITH $relMaps AS relMaps\n",
    "            UNWIND relMaps AS relMap\n",
    "            MATCH(n1:Departure {{airportId: relMap[\"i{l}_dep_{s}_place\"]}})\n",
    "            MATCH(n2:Arrival {{airportId: relMap[\"i{l}_rcf_{s}_place\"]}})\n",
    "            MERGE(n1)-[r:DEPART {{shipmentId: relMap[\"nr\"], legId: relMap[\"i{l}_legid\"], legNumber: $legNumber, segmentNumber: $segmentNumber}}]->(n2)\n",
    "            SET r.plannedMinutes=relMap[\"i{l}_dep_{s}_p\"]\n",
    "            SET r.effectiveMinutes=relMap[\"i{l}_dep_{s}_e\"]\n",
    "            RETURN count(r)\n",
    "        ''', params={'relMaps':sub_dict, 'legNumber':l, 'segmentNumber':s})\n",
    "        print(res2)"
   ],
   "metadata": {
    "collapsed": false,
    "pycharm": {
     "name": "#%%\n"
    }
   }
  },
  {
   "cell_type": "code",
   "execution_count": 33,
   "outputs": [
    {
     "name": "stdout",
     "output_type": "stream",
     "text": [
      "-- SEGMENT 1 ----------------------\n",
      "   count(r)\n",
      "0      3942\n",
      "   count(r)\n",
      "0      3942\n",
      "-- SEGMENT 2 ----------------------\n",
      "   count(r)\n",
      "0      1845\n",
      "   count(r)\n",
      "0      1845\n",
      "-- SEGMENT 3 ----------------------\n",
      "   count(r)\n",
      "0        26\n",
      "   count(r)\n",
      "0        26\n"
     ]
    }
   ],
   "source": [
    "# (:Checkpoint)-[r:CONFIRM]-(:Departure) DEP1 outbound\n",
    "# (:Departure)-[r:DEPART]-(:Arrival) DEP2 outbound\n",
    "for s in SEGMENTS:\n",
    "    print(f'-- SEGMENT {s} ----------------------')\n",
    "    sub_dict = df.loc[(df[f'o_dep_{s}_place'] != '?') & (df[f'o_legid'].notna()),\n",
    "                      ['nr', f'o_legid', f'o_dep_{s}_p', f'o_dep_{s}_e', f'o_dep_{s}_place', f'o_rcf_{s}_place']]\\\n",
    "        .astype(int).to_dict('records')\n",
    "    res1 = gds.run_cypher(f'''\n",
    "        WITH $relMaps AS relMaps\n",
    "        UNWIND relMaps AS relMap\n",
    "        MATCH(n1:DepartureCheckpoint {{airportId: relMap[\"o_dep_{s}_place\"]}})\n",
    "        MATCH(n2:Departure {{airportId: relMap[\"o_dep_{s}_place\"]}})\n",
    "        MERGE(n1)-[r:CONFIRM {{shipmentId: relMap[\"nr\"], legId: relMap[\"o_legid\"], legNumber: $legNumber, segmentNumber: $segmentNumber}}]->(n2)\n",
    "        SET r.plannedMinutes=0\n",
    "        SET r.effectiveMinutes=0\n",
    "        RETURN count(r)\n",
    "    ''', params={'relMaps':sub_dict, 'legNumber':-1, 'segmentNumber':s})\n",
    "    print(res1)\n",
    "    res2 = gds.run_cypher(f'''\n",
    "        WITH $relMaps AS relMaps\n",
    "        UNWIND relMaps AS relMap\n",
    "        MATCH(n1:Departure {{airportId: relMap[\"o_dep_{s}_place\"]}})\n",
    "        MATCH(n2:Arrival {{airportId: relMap[\"o_rcf_{s}_place\"]}})\n",
    "        MERGE(n1)-[r:DEPART {{shipmentId: relMap[\"nr\"], legId: relMap[\"o_legid\"], legNumber: $legNumber, segmentNumber: $segmentNumber}}]->(n2)\n",
    "        SET r.plannedMinutes=relMap[\"o_dep_{s}_p\"]\n",
    "        SET r.effectiveMinutes=relMap[\"o_dep_{s}_e\"]\n",
    "        RETURN count(r)\n",
    "    ''', params={'relMaps':sub_dict, 'legNumber':-1, 'segmentNumber':s})\n",
    "    print(res2)"
   ],
   "metadata": {
    "collapsed": false,
    "pycharm": {
     "name": "#%%\n"
    }
   }
  },
  {
   "cell_type": "code",
   "execution_count": 34,
   "outputs": [
    {
     "name": "stdout",
     "output_type": "stream",
     "text": [
      "== LEG 1 ======================\n",
      "-- SEGMENT 1 ----------------------\n",
      "   count(r)\n",
      "0      3942\n",
      "-- SEGMENT 2 ----------------------\n",
      "   count(r)\n",
      "0      1195\n",
      "-- SEGMENT 3 ----------------------\n",
      "   count(r)\n",
      "0        23\n",
      "== LEG 2 ======================\n",
      "-- SEGMENT 1 ----------------------\n",
      "   count(r)\n",
      "0      2624\n",
      "-- SEGMENT 2 ----------------------\n",
      "   count(r)\n",
      "0       791\n",
      "-- SEGMENT 3 ----------------------\n",
      "   count(r)\n",
      "0        14\n",
      "== LEG 3 ======================\n",
      "-- SEGMENT 1 ----------------------\n",
      "   count(r)\n",
      "0      1366\n",
      "-- SEGMENT 2 ----------------------\n",
      "   count(r)\n",
      "0       391\n",
      "-- SEGMENT 3 ----------------------\n",
      "   count(r)\n",
      "0         8\n"
     ]
    }
   ],
   "source": [
    "# (:Arrival)-[r:ACCEPT]-(:Checkpoint) inbound\n",
    "for l in LEGS:\n",
    "    print(f'== LEG {l} ======================')\n",
    "    for s in SEGMENTS:\n",
    "        print(f'-- SEGMENT {s} ----------------------')\n",
    "        sub_dict = df.loc[(df[f'i{l}_rcf_{s}_place'] != '?') & (df[f'i{l}_legid'].notna()),\n",
    "                          ['nr', f'i{l}_legid', f'i{l}_rcf_{s}_p', f'i{l}_rcf_{s}_e', f'i{l}_rcf_{s}_place']].astype(int).to_dict('records')\n",
    "        res = gds.run_cypher(f'''\n",
    "            WITH $relMaps AS relMaps\n",
    "            UNWIND relMaps AS relMap\n",
    "            MATCH(n1:Arrival {{airportId: relMap[\"i{l}_rcf_{s}_place\"]}})\n",
    "            MATCH(n2:ArrivalCheckpoint {{airportId: relMap[\"i{l}_rcf_{s}_place\"]}})\n",
    "            MERGE(n1)-[r:ACCEPT {{shipmentId: relMap[\"nr\"], legId: relMap[\"i{l}_legid\"], legNumber: $legNumber, segmentNumber: $segmentNumber}}]->(n2)\n",
    "            SET r.plannedMinutes=relMap[\"i{l}_rcf_{s}_p\"]\n",
    "            SET r.effectiveMinutes=relMap[\"i{l}_rcf_{s}_e\"]\n",
    "            RETURN count(r)\n",
    "        ''', params={'relMaps':sub_dict, 'legNumber':l, 'segmentNumber':s})\n",
    "        print(res)"
   ],
   "metadata": {
    "collapsed": false,
    "pycharm": {
     "name": "#%%\n"
    }
   }
  },
  {
   "cell_type": "code",
   "execution_count": 35,
   "outputs": [
    {
     "name": "stdout",
     "output_type": "stream",
     "text": [
      "-- SEGMENT 1 ----------------------\n",
      "   count(r)\n",
      "0      3942\n",
      "-- SEGMENT 2 ----------------------\n",
      "   count(r)\n",
      "0      1845\n",
      "-- SEGMENT 3 ----------------------\n",
      "   count(r)\n",
      "0        26\n"
     ]
    }
   ],
   "source": [
    "# (:Arrival)-[r:ACCEPT]-(:Checkpoint) RCF outbound\n",
    "for s in SEGMENTS:\n",
    "    print(f'-- SEGMENT {s} ----------------------')\n",
    "    sub_dict = df.loc[(df[f'o_rcf_{s}_place'] != '?') & (df[f'o_legid'].notna()),\n",
    "                      ['nr', f'o_legid', f'o_rcf_{s}_p', f'o_rcf_{s}_e', f'o_rcf_{s}_place']].astype(int).to_dict('records')\n",
    "    res = gds.run_cypher(f'''\n",
    "        WITH $relMaps AS relMaps\n",
    "        UNWIND relMaps AS relMap\n",
    "        MATCH(n1:Arrival {{airportId: relMap[\"o_rcf_{s}_place\"]}})\n",
    "        MATCH(n2:ArrivalCheckpoint {{airportId: relMap[\"o_rcf_{s}_place\"]}})\n",
    "        MERGE(n1)-[r:ACCEPT {{shipmentId: relMap[\"nr\"], legId: relMap[\"o_legid\"], legNumber: $legNumber, segmentNumber: $segmentNumber}}]->(n2)\n",
    "        SET r.plannedMinutes=relMap[\"o_rcf_{s}_p\"]\n",
    "        SET r.effectiveMinutes=relMap[\"o_rcf_{s}_e\"]\n",
    "        RETURN count(r)\n",
    "    ''', params={'relMaps':sub_dict, 'legNumber':-1, 'segmentNumber':s})\n",
    "    print(res)"
   ],
   "metadata": {
    "collapsed": false,
    "pycharm": {
     "name": "#%%\n"
    }
   }
  },
  {
   "cell_type": "code",
   "execution_count": 36,
   "outputs": [
    {
     "data": {
      "text/plain": "        nr i1_legid i1_rcs_p i1_rcs_e i1_dep_1_p i1_dep_1_e i1_dep_1_place  \\\n0        0     5182      199      218        210        215            609   \n1        1     6523      844      584         90        297            700   \n2        2     5878     4380     4119         90        280            456   \n3        3     1275      759      169        240        777            173   \n4        4     8117     1597     1485        150        241            411   \n...    ...      ...      ...      ...        ...        ...            ...   \n3938  3939     4225      122       19        240        278            815   \n3939  3940    14017     2028      413        270       1825            605   \n3940  3941     4660     1356      178        240       1359            815   \n3941  3942     6472     2692     1856         90        867            700   \n3942   NaN      NaN      NaN      NaN        NaN        NaN            NaN   \n\n     i1_rcf_1_p i1_rcf_1_e i1_rcf_1_place  ... o_rcf_3_e o_rcf_3_place  \\\n0           935        736            256  ...         ?             ?   \n1          1935       1415            431  ...         ?             ?   \n2           905        547            700  ...         ?             ?   \n3           340        577            349  ...         ?             ?   \n4           585        612            128  ...         ?             ?   \n...         ...        ...            ...  ...       ...           ...   \n3938        830        761            174  ...         ?             ?   \n3939       2610       2535            349  ...         ?             ?   \n3940        760        716            609  ...         ?             ?   \n3941       1060       1049            113  ...         ?             ?   \n3942        NaN        NaN            NaN  ...       NaN           NaN   \n\n     o_dlv_p o_dlv_e o_hops legs last_i1_rcf_place last_i2_rcf_place  \\\n0        780     434      1    2               256               256   \n1       3870     445      1    2               431               431   \n2        550    1520      1    1               700                 ?   \n3       3780     159      1    1               671                 ?   \n4       4140    4797      2    1               166                 ?   \n...      ...     ...    ...  ...               ...               ...   \n3938    1665    1300      2    3               174               174   \n3939    3780     807      2    1               597                 ?   \n3940    5100    4381      2    1               609                 ?   \n3941    3780     945      2    2               113               113   \n3942     NaN     NaN    NaN  NaN               NaN               NaN   \n\n     last_i3_rcf_place last_o_rcf_place  \n0                    ?              411  \n1                    ?              256  \n2                    ?              349  \n3                    ?              700  \n4                    ?              411  \n...                ...              ...  \n3938               174              293  \n3939                 ?              113  \n3940                 ?              737  \n3941                 ?              635  \n3942               NaN              NaN  \n\n[3943 rows x 102 columns]",
      "text/html": "<div>\n<style scoped>\n    .dataframe tbody tr th:only-of-type {\n        vertical-align: middle;\n    }\n\n    .dataframe tbody tr th {\n        vertical-align: top;\n    }\n\n    .dataframe thead th {\n        text-align: right;\n    }\n</style>\n<table border=\"1\" class=\"dataframe\">\n  <thead>\n    <tr style=\"text-align: right;\">\n      <th></th>\n      <th>nr</th>\n      <th>i1_legid</th>\n      <th>i1_rcs_p</th>\n      <th>i1_rcs_e</th>\n      <th>i1_dep_1_p</th>\n      <th>i1_dep_1_e</th>\n      <th>i1_dep_1_place</th>\n      <th>i1_rcf_1_p</th>\n      <th>i1_rcf_1_e</th>\n      <th>i1_rcf_1_place</th>\n      <th>...</th>\n      <th>o_rcf_3_e</th>\n      <th>o_rcf_3_place</th>\n      <th>o_dlv_p</th>\n      <th>o_dlv_e</th>\n      <th>o_hops</th>\n      <th>legs</th>\n      <th>last_i1_rcf_place</th>\n      <th>last_i2_rcf_place</th>\n      <th>last_i3_rcf_place</th>\n      <th>last_o_rcf_place</th>\n    </tr>\n  </thead>\n  <tbody>\n    <tr>\n      <th>0</th>\n      <td>0</td>\n      <td>5182</td>\n      <td>199</td>\n      <td>218</td>\n      <td>210</td>\n      <td>215</td>\n      <td>609</td>\n      <td>935</td>\n      <td>736</td>\n      <td>256</td>\n      <td>...</td>\n      <td>?</td>\n      <td>?</td>\n      <td>780</td>\n      <td>434</td>\n      <td>1</td>\n      <td>2</td>\n      <td>256</td>\n      <td>256</td>\n      <td>?</td>\n      <td>411</td>\n    </tr>\n    <tr>\n      <th>1</th>\n      <td>1</td>\n      <td>6523</td>\n      <td>844</td>\n      <td>584</td>\n      <td>90</td>\n      <td>297</td>\n      <td>700</td>\n      <td>1935</td>\n      <td>1415</td>\n      <td>431</td>\n      <td>...</td>\n      <td>?</td>\n      <td>?</td>\n      <td>3870</td>\n      <td>445</td>\n      <td>1</td>\n      <td>2</td>\n      <td>431</td>\n      <td>431</td>\n      <td>?</td>\n      <td>256</td>\n    </tr>\n    <tr>\n      <th>2</th>\n      <td>2</td>\n      <td>5878</td>\n      <td>4380</td>\n      <td>4119</td>\n      <td>90</td>\n      <td>280</td>\n      <td>456</td>\n      <td>905</td>\n      <td>547</td>\n      <td>700</td>\n      <td>...</td>\n      <td>?</td>\n      <td>?</td>\n      <td>550</td>\n      <td>1520</td>\n      <td>1</td>\n      <td>1</td>\n      <td>700</td>\n      <td>?</td>\n      <td>?</td>\n      <td>349</td>\n    </tr>\n    <tr>\n      <th>3</th>\n      <td>3</td>\n      <td>1275</td>\n      <td>759</td>\n      <td>169</td>\n      <td>240</td>\n      <td>777</td>\n      <td>173</td>\n      <td>340</td>\n      <td>577</td>\n      <td>349</td>\n      <td>...</td>\n      <td>?</td>\n      <td>?</td>\n      <td>3780</td>\n      <td>159</td>\n      <td>1</td>\n      <td>1</td>\n      <td>671</td>\n      <td>?</td>\n      <td>?</td>\n      <td>700</td>\n    </tr>\n    <tr>\n      <th>4</th>\n      <td>4</td>\n      <td>8117</td>\n      <td>1597</td>\n      <td>1485</td>\n      <td>150</td>\n      <td>241</td>\n      <td>411</td>\n      <td>585</td>\n      <td>612</td>\n      <td>128</td>\n      <td>...</td>\n      <td>?</td>\n      <td>?</td>\n      <td>4140</td>\n      <td>4797</td>\n      <td>2</td>\n      <td>1</td>\n      <td>166</td>\n      <td>?</td>\n      <td>?</td>\n      <td>411</td>\n    </tr>\n    <tr>\n      <th>...</th>\n      <td>...</td>\n      <td>...</td>\n      <td>...</td>\n      <td>...</td>\n      <td>...</td>\n      <td>...</td>\n      <td>...</td>\n      <td>...</td>\n      <td>...</td>\n      <td>...</td>\n      <td>...</td>\n      <td>...</td>\n      <td>...</td>\n      <td>...</td>\n      <td>...</td>\n      <td>...</td>\n      <td>...</td>\n      <td>...</td>\n      <td>...</td>\n      <td>...</td>\n      <td>...</td>\n    </tr>\n    <tr>\n      <th>3938</th>\n      <td>3939</td>\n      <td>4225</td>\n      <td>122</td>\n      <td>19</td>\n      <td>240</td>\n      <td>278</td>\n      <td>815</td>\n      <td>830</td>\n      <td>761</td>\n      <td>174</td>\n      <td>...</td>\n      <td>?</td>\n      <td>?</td>\n      <td>1665</td>\n      <td>1300</td>\n      <td>2</td>\n      <td>3</td>\n      <td>174</td>\n      <td>174</td>\n      <td>174</td>\n      <td>293</td>\n    </tr>\n    <tr>\n      <th>3939</th>\n      <td>3940</td>\n      <td>14017</td>\n      <td>2028</td>\n      <td>413</td>\n      <td>270</td>\n      <td>1825</td>\n      <td>605</td>\n      <td>2610</td>\n      <td>2535</td>\n      <td>349</td>\n      <td>...</td>\n      <td>?</td>\n      <td>?</td>\n      <td>3780</td>\n      <td>807</td>\n      <td>2</td>\n      <td>1</td>\n      <td>597</td>\n      <td>?</td>\n      <td>?</td>\n      <td>113</td>\n    </tr>\n    <tr>\n      <th>3940</th>\n      <td>3941</td>\n      <td>4660</td>\n      <td>1356</td>\n      <td>178</td>\n      <td>240</td>\n      <td>1359</td>\n      <td>815</td>\n      <td>760</td>\n      <td>716</td>\n      <td>609</td>\n      <td>...</td>\n      <td>?</td>\n      <td>?</td>\n      <td>5100</td>\n      <td>4381</td>\n      <td>2</td>\n      <td>1</td>\n      <td>609</td>\n      <td>?</td>\n      <td>?</td>\n      <td>737</td>\n    </tr>\n    <tr>\n      <th>3941</th>\n      <td>3942</td>\n      <td>6472</td>\n      <td>2692</td>\n      <td>1856</td>\n      <td>90</td>\n      <td>867</td>\n      <td>700</td>\n      <td>1060</td>\n      <td>1049</td>\n      <td>113</td>\n      <td>...</td>\n      <td>?</td>\n      <td>?</td>\n      <td>3780</td>\n      <td>945</td>\n      <td>2</td>\n      <td>2</td>\n      <td>113</td>\n      <td>113</td>\n      <td>?</td>\n      <td>635</td>\n    </tr>\n    <tr>\n      <th>3942</th>\n      <td>NaN</td>\n      <td>NaN</td>\n      <td>NaN</td>\n      <td>NaN</td>\n      <td>NaN</td>\n      <td>NaN</td>\n      <td>NaN</td>\n      <td>NaN</td>\n      <td>NaN</td>\n      <td>NaN</td>\n      <td>...</td>\n      <td>NaN</td>\n      <td>NaN</td>\n      <td>NaN</td>\n      <td>NaN</td>\n      <td>NaN</td>\n      <td>NaN</td>\n      <td>NaN</td>\n      <td>NaN</td>\n      <td>NaN</td>\n      <td>NaN</td>\n    </tr>\n  </tbody>\n</table>\n<p>3943 rows × 102 columns</p>\n</div>"
     },
     "execution_count": 36,
     "metadata": {},
     "output_type": "execute_result"
    }
   ],
   "source": [
    "# assign last inbound & outbound rcf place\n",
    "def get_last_i1_rcf_place(row):\n",
    "    res = row[f'i1_rcf_1_place']\n",
    "    for s in [3,2]:\n",
    "        if row[f'i1_rcf_{s}_place'] != '?':\n",
    "            res = row[f'i1_rcf_{s}_place']\n",
    "    return res\n",
    "df['last_i1_rcf_place'] = df.apply(get_last_i1_rcf_place, axis =1)\n",
    "\n",
    "def get_last_i2_rcf_place(row):\n",
    "    res = row[f'i2_rcf_1_place']\n",
    "    for s in [3,2]:\n",
    "        if row[f'i2_rcf_{s}_place'] != '?':\n",
    "            res = row[f'i2_rcf_{s}_place']\n",
    "    return res\n",
    "df['last_i2_rcf_place'] = df.apply(get_last_i2_rcf_place, axis =1)\n",
    "\n",
    "def get_last_i3_rcf_place(row):\n",
    "    res = row[f'i3_rcf_1_place']\n",
    "    for s in [3,2]:\n",
    "        if row[f'i3_rcf_{s}_place'] != '?':\n",
    "            res = row[f'i3_rcf_{s}_place']\n",
    "    return res\n",
    "df['last_i3_rcf_place'] = df.apply(get_last_i3_rcf_place, axis =1)\n",
    "\n",
    "def get_last_outbound_rcf_place(row):\n",
    "    for s in [3,2,1]:\n",
    "        if row[f'o_rcf_{s}_place'] != '?':\n",
    "            return row[f'o_rcf_{s}_place']\n",
    "    raise Exception(\"cannot find last rcf place\")\n",
    "df['last_o_rcf_place'] = df.apply(get_last_outbound_rcf_place, axis =1)\n",
    "\n",
    "df"
   ],
   "metadata": {
    "collapsed": false,
    "pycharm": {
     "name": "#%%\n"
    }
   }
  },
  {
   "cell_type": "code",
   "execution_count": 37,
   "outputs": [
    {
     "name": "stdout",
     "output_type": "stream",
     "text": [
      "   count(r)\n",
      "0      3942\n",
      "   count(r)\n",
      "0      2624\n",
      "   count(r)\n",
      "0      1366\n"
     ]
    }
   ],
   "source": [
    "# (:Checkpoint)-[r:DELIVER]-(:Destination) DLV inbound\n",
    "for l in LEGS:\n",
    "    sub_dict = df.loc[(df[f'i{l}_legid'] != '?') & (df[f'i{l}_legid'].notna()),\n",
    "                      ['nr', f'i{l}_legid', f'i{l}_dlv_p', f'i{l}_dlv_e', 'last_i1_rcf_place']].astype(int).to_dict('records')\n",
    "    res = gds.run_cypher(f'''\n",
    "        WITH $relMaps AS relMaps\n",
    "        UNWIND relMaps AS relMap\n",
    "        MATCH(n1:ArrivalCheckpoint {{airportId: relMap[\"last_i1_rcf_place\"]}})\n",
    "        MATCH(n2:Destination {{airportId: relMap[\"last_i1_rcf_place\"]}})\n",
    "        MERGE(n1)-[r:DELIVER {{shipmentId: relMap[\"nr\"], legId: relMap[\"i{l}_legid\"], legNumber: $legNumber}}]->(n2)\n",
    "        SET r.plannedMinutes=relMap[\"i{l}_dlv_p\"]\n",
    "        SET r.effectiveMinutes=relMap[\"i{l}_dlv_e\"]\n",
    "        RETURN count(r)\n",
    "    ''', params={'relMaps':sub_dict, 'legNumber':l})\n",
    "    print(res)"
   ],
   "metadata": {
    "collapsed": false,
    "pycharm": {
     "name": "#%%\n"
    }
   }
  },
  {
   "cell_type": "code",
   "execution_count": 38,
   "outputs": [
    {
     "name": "stdout",
     "output_type": "stream",
     "text": [
      "   count(r)\n",
      "0      3942\n"
     ]
    }
   ],
   "source": [
    "# (:Checkpoint)-[r:DELIVER]-(:Destination) DLV outbound\n",
    "sub_dict = df.loc[(df[f'o_legid'] != '?') & (df[f'o_legid'].notna()),\n",
    "                  ['nr', 'o_legid', f'o_dlv_p', f'o_dlv_e', 'last_o_rcf_place']].astype(int).to_dict('records')\n",
    "res = gds.run_cypher('''\n",
    "    WITH $relMaps AS relMaps\n",
    "    UNWIND relMaps AS relMap\n",
    "    MATCH(n1:ArrivalCheckpoint {airportId: relMap[\"last_o_rcf_place\"]})\n",
    "    MATCH(n2:Destination {airportId: relMap[\"last_o_rcf_place\"]})\n",
    "    MERGE(n1)-[r:DELIVER {shipmentId: relMap[\"nr\"], legId: relMap[\"o_legid\"], legNumber: $legNumber}]->(n2)\n",
    "    SET r.plannedMinutes=relMap[\"o_dlv_p\"]\n",
    "    SET r.effectiveMinutes=relMap[\"o_dlv_e\"]\n",
    "    RETURN count(r)\n",
    "''', params={'relMaps':sub_dict, 'legNumber':-1})\n",
    "print(res)"
   ],
   "metadata": {
    "collapsed": false,
    "pycharm": {
     "name": "#%%\n"
    }
   }
  },
  {
   "cell_type": "code",
   "execution_count": 39,
   "outputs": [
    {
     "name": "stdout",
     "output_type": "stream",
     "text": [
      "   count(r)\n",
      "0      3942\n",
      "   count(r)\n",
      "0      2624\n",
      "   count(r)\n",
      "0      1366\n"
     ]
    }
   ],
   "source": [
    "# (:Destination)-[r:TRANSFER]-(:Entry) inbound->outbound\n",
    "for l in LEGS:\n",
    "    sub_dict = df.loc[(df[f'i{l}_legid'] != '?') & (df[f'i{l}_legid'].notna()),\n",
    "                      ['nr', f'i{l}_legid', 'o_legid', 'last_i1_rcf_place']].astype(int).to_dict('records')\n",
    "    res = gds.run_cypher(f'''\n",
    "        WITH $relMaps AS relMaps\n",
    "        UNWIND relMaps AS relMap\n",
    "        MATCH(n1:Destination {{airportId: relMap[\"last_i1_rcf_place\"]}})\n",
    "        MATCH(n2:Entry {{airportId: relMap[\"last_i1_rcf_place\"]}})\n",
    "        MERGE(n1)-[r:TRANSFER {{shipmentId: relMap[\"nr\"], legId: relMap[\"i{l}_legid\"], legNumber: $legNumber}}]->(n2)\n",
    "        SET r.plannedMinutes=0\n",
    "        SET r.effectiveMinutes=0\n",
    "        RETURN count(r)\n",
    "    ''', params={'relMaps':sub_dict, 'legNumber':l})\n",
    "    print(res)"
   ],
   "metadata": {
    "collapsed": false,
    "pycharm": {
     "name": "#%%\n"
    }
   }
  },
  {
   "cell_type": "code",
   "execution_count": 40,
   "outputs": [
    {
     "name": "stdout",
     "output_type": "stream",
     "text": [
      "== LEG 1 ======================\n",
      "-- SEGMENT 2 ----------------------\n",
      "   count(r)\n",
      "0      1195\n",
      "-- SEGMENT 3 ----------------------\n",
      "   count(r)\n",
      "0        23\n",
      "== LEG 2 ======================\n",
      "-- SEGMENT 2 ----------------------\n",
      "   count(r)\n",
      "0       791\n",
      "-- SEGMENT 3 ----------------------\n",
      "   count(r)\n",
      "0        14\n",
      "== LEG 3 ======================\n",
      "-- SEGMENT 2 ----------------------\n",
      "   count(r)\n",
      "0       391\n",
      "-- SEGMENT 3 ----------------------\n",
      "   count(r)\n",
      "0         8\n"
     ]
    }
   ],
   "source": [
    "# (:ArrivalCheckpoint)-[r:CONNECT]-(:DepartureCheckpoint) inbound\n",
    "for l in LEGS:\n",
    "    print(f'== LEG {l} ======================')\n",
    "    for s in [2,3]:\n",
    "        print(f'-- SEGMENT {s} ----------------------')\n",
    "        sub_dict = df.loc[(df[f'i{l}_rcf_{s}_place'] != '?') & (df[f'i{l}_legid'].notna()),\n",
    "                          ['nr', f'i{l}_legid', f'i{l}_dep_{s}_place']].astype(int).to_dict('records')\n",
    "        res = gds.run_cypher(f'''\n",
    "            WITH $relMaps AS relMaps\n",
    "            UNWIND relMaps AS relMap\n",
    "            MATCH(n1:ArrivalCheckpoint {{airportId: relMap[\"i{l}_dep_{s}_place\"]}})\n",
    "            MATCH(n2:DepartureCheckpoint {{airportId: relMap[\"i{l}_dep_{s}_place\"]}})\n",
    "            MERGE(n1)-[r:CONNECT {{shipmentId: relMap[\"nr\"], legId: relMap[\"i{l}_legid\"], legNumber: $legNumber}}]->(n2)\n",
    "            SET r.plannedMinutes=0\n",
    "            SET r.effectiveMinutes=0\n",
    "            RETURN count(r)\n",
    "        ''', params={'relMaps':sub_dict, 'legNumber':l})\n",
    "        print(res)"
   ],
   "metadata": {
    "collapsed": false,
    "pycharm": {
     "name": "#%%\n"
    }
   }
  },
  {
   "cell_type": "code",
   "execution_count": 41,
   "outputs": [
    {
     "name": "stdout",
     "output_type": "stream",
     "text": [
      "-- SEGMENT 2 ----------------------\n",
      "   count(r)\n",
      "0      1845\n",
      "-- SEGMENT 3 ----------------------\n",
      "   count(r)\n",
      "0        26\n"
     ]
    }
   ],
   "source": [
    "# (:ArrivalCheckpoint)-[r:CONNECT]-(:DepartureCheckpoint) outbound\n",
    "\n",
    "for s in [2,3]:\n",
    "    print(f'-- SEGMENT {s} ----------------------')\n",
    "    sub_dict = df.loc[(df[f'o_rcf_{s}_place'] != '?') & (df[f'o_legid'].notna()),\n",
    "                      ['nr', f'o_legid', f'o_dep_{s}_place']].astype(int).to_dict('records')\n",
    "    res = gds.run_cypher(f'''\n",
    "        WITH $relMaps AS relMaps\n",
    "        UNWIND relMaps AS relMap\n",
    "        MATCH(n1:ArrivalCheckpoint {{airportId: relMap[\"o_dep_{s}_place\"]}})\n",
    "        MATCH(n2:DepartureCheckpoint {{airportId: relMap[\"o_dep_{s}_place\"]}})\n",
    "        MERGE(n1)-[r:CONNECT {{shipmentId: relMap[\"nr\"], legId: relMap[\"o_legid\"], legNumber: $legNumber}}]->(n2)\n",
    "        SET r.plannedMinutes=0\n",
    "        SET r.effectiveMinutes=0\n",
    "        RETURN count(r)\n",
    "    ''', params={'relMaps':sub_dict, 'legNumber':-1})\n",
    "    print(res)"
   ],
   "metadata": {
    "collapsed": false,
    "pycharm": {
     "name": "#%%\n"
    }
   }
  },
  {
   "cell_type": "markdown",
   "source": [],
   "metadata": {
    "collapsed": false
   }
  },
  {
   "cell_type": "code",
   "execution_count": 21,
   "outputs": [
    {
     "data": {
      "text/plain": "                  label         key          keys  unique   action\n0              CHECK_IN  shipmentId  [shipmentId]   False  DROPPED\n1               CONFIRM  shipmentId  [shipmentId]   False  DROPPED\n2                DEPART  shipmentId  [shipmentId]   False  DROPPED\n3                ACCEPT  shipmentId  [shipmentId]   False  DROPPED\n4               DELIVER  shipmentId  [shipmentId]   False  DROPPED\n5              TRANSFER  shipmentId  [shipmentId]   False  DROPPED\n6               CONNECT  shipmentId  [shipmentId]   False  DROPPED\n7                 Entry   airportId   [airportId]    True  DROPPED\n8   DepartureCheckpoint   airportId   [airportId]    True  DROPPED\n9             Departure   airportId   [airportId]    True  DROPPED\n10              Arrival   airportId   [airportId]    True  DROPPED\n11    ArrivalCheckpoint   airportId   [airportId]    True  DROPPED\n12          Destination   airportId   [airportId]    True  DROPPED",
      "text/html": "<div>\n<style scoped>\n    .dataframe tbody tr th:only-of-type {\n        vertical-align: middle;\n    }\n\n    .dataframe tbody tr th {\n        vertical-align: top;\n    }\n\n    .dataframe thead th {\n        text-align: right;\n    }\n</style>\n<table border=\"1\" class=\"dataframe\">\n  <thead>\n    <tr style=\"text-align: right;\">\n      <th></th>\n      <th>label</th>\n      <th>key</th>\n      <th>keys</th>\n      <th>unique</th>\n      <th>action</th>\n    </tr>\n  </thead>\n  <tbody>\n    <tr>\n      <th>0</th>\n      <td>CHECK_IN</td>\n      <td>shipmentId</td>\n      <td>[shipmentId]</td>\n      <td>False</td>\n      <td>DROPPED</td>\n    </tr>\n    <tr>\n      <th>1</th>\n      <td>CONFIRM</td>\n      <td>shipmentId</td>\n      <td>[shipmentId]</td>\n      <td>False</td>\n      <td>DROPPED</td>\n    </tr>\n    <tr>\n      <th>2</th>\n      <td>DEPART</td>\n      <td>shipmentId</td>\n      <td>[shipmentId]</td>\n      <td>False</td>\n      <td>DROPPED</td>\n    </tr>\n    <tr>\n      <th>3</th>\n      <td>ACCEPT</td>\n      <td>shipmentId</td>\n      <td>[shipmentId]</td>\n      <td>False</td>\n      <td>DROPPED</td>\n    </tr>\n    <tr>\n      <th>4</th>\n      <td>DELIVER</td>\n      <td>shipmentId</td>\n      <td>[shipmentId]</td>\n      <td>False</td>\n      <td>DROPPED</td>\n    </tr>\n    <tr>\n      <th>5</th>\n      <td>TRANSFER</td>\n      <td>shipmentId</td>\n      <td>[shipmentId]</td>\n      <td>False</td>\n      <td>DROPPED</td>\n    </tr>\n    <tr>\n      <th>6</th>\n      <td>CONNECT</td>\n      <td>shipmentId</td>\n      <td>[shipmentId]</td>\n      <td>False</td>\n      <td>DROPPED</td>\n    </tr>\n    <tr>\n      <th>7</th>\n      <td>Entry</td>\n      <td>airportId</td>\n      <td>[airportId]</td>\n      <td>True</td>\n      <td>DROPPED</td>\n    </tr>\n    <tr>\n      <th>8</th>\n      <td>DepartureCheckpoint</td>\n      <td>airportId</td>\n      <td>[airportId]</td>\n      <td>True</td>\n      <td>DROPPED</td>\n    </tr>\n    <tr>\n      <th>9</th>\n      <td>Departure</td>\n      <td>airportId</td>\n      <td>[airportId]</td>\n      <td>True</td>\n      <td>DROPPED</td>\n    </tr>\n    <tr>\n      <th>10</th>\n      <td>Arrival</td>\n      <td>airportId</td>\n      <td>[airportId]</td>\n      <td>True</td>\n      <td>DROPPED</td>\n    </tr>\n    <tr>\n      <th>11</th>\n      <td>ArrivalCheckpoint</td>\n      <td>airportId</td>\n      <td>[airportId]</td>\n      <td>True</td>\n      <td>DROPPED</td>\n    </tr>\n    <tr>\n      <th>12</th>\n      <td>Destination</td>\n      <td>airportId</td>\n      <td>[airportId]</td>\n      <td>True</td>\n      <td>DROPPED</td>\n    </tr>\n  </tbody>\n</table>\n</div>"
     },
     "execution_count": 21,
     "metadata": {},
     "output_type": "execute_result"
    }
   ],
   "source": [
    "gds.run_cypher('MATCH(n) DETACH DELETE n')\n",
    "gds.run_cypher('CALL apoc.schema.assert({},{})')"
   ],
   "metadata": {
    "collapsed": false,
    "pycharm": {
     "name": "#%%\n"
    }
   }
  },
  {
   "cell_type": "code",
   "execution_count": null,
   "outputs": [],
   "source": [],
   "metadata": {
    "collapsed": false,
    "pycharm": {
     "name": "#%%\n"
    }
   }
  }
 ],
 "metadata": {
  "kernelspec": {
   "display_name": "Python 3",
   "language": "python",
   "name": "python3"
  },
  "language_info": {
   "codemirror_mode": {
    "name": "ipython",
    "version": 2
   },
   "file_extension": ".py",
   "mimetype": "text/x-python",
   "name": "python",
   "nbconvert_exporter": "python",
   "pygments_lexer": "ipython2",
   "version": "2.7.6"
  }
 },
 "nbformat": 4,
 "nbformat_minor": 0
}