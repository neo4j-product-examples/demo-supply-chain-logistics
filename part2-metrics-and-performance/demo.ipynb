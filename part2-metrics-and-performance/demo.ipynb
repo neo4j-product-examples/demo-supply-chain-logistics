{
 "cells": [
  {
   "cell_type": "markdown",
   "metadata": {
    "pycharm": {
     "name": "#%% md\n"
    }
   },
   "source": []
  },
  {
   "cell_type": "markdown",
   "metadata": {
    "pycharm": {
     "name": "#%% md\n"
    }
   },
   "source": [
    "# Graph Data Science for Supply Chain: Part II\n",
    "\n",
    "This notebook compliments part II of the Graph Data Science for Supply Chains Blog Series (link TBD). In this notebook we explore the application of graph data science to creating informative supply chain metrics and analyzing the performance of a logistics network. Specifically we will\n",
    "\n",
    "1. Provide meaningful interpretations for Centrality metrics and Louvain communities within the context of supply chain and their relationship to performance and risks.\n",
    "2. Show how to calculate Centrality metrics and Louvain communities using Neo4j Graph Data Science.\n",
    "3. Demonstrate how these metrics can be used for downstream inference to understand if/how they relate to delays at different airports, providing insights into how the logistics network structure may affect freight delivery performance.\n",
    "\n",
    "\n",
    "For a sample dataset we will use the “Cargo 2000” transport and logistics case study [[1]](#1). Cargo 2000 (re-branded as Cargo iQ in 2016) is an initiative of the International Air Transport Association (IATA) that aims to deliver a new quality management system for the air cargo industry.logistics-diagram.png\n",
    "\n",
    "The below figure shows a model of the business processes covered in the IATA case study. It represents the business processes of a freight forwarding company, in which up to three smaller shipments from suppliers are consolidated and then shipped together to customers. The business process is structured into incoming and outgoing transport legs, with the overall objective that freight is delivered to customers in a timely manner.  You can find out more about the business model in the [first blog of this series](https://neo4j.com/developer-blog/supply-chain-neo4j-gds-bloom/) where we explored the dataset in Neo4j Bloom or from the [original data source]( https://s-cube-network.eu/c2k/).\n",
    "\n",
    "<img src=\"img/logistics-diagram.png\" alt=\"summary\" width=\"1000\"/>\n",
    "\n",
    "\n",
    "## Prerequisites\n",
    "- Neo4j >= 4.3\n",
    "- GDS >= 2.0\n",
    "- The Cargo 2000 case study dataset loaded into a Neo4j database. There is a notebook to generate the Neo4j database [here](https://github.com/neo4j-product-examples/demo-supply-chain-logistics/blob/main/airplane-cargo/part1/transform-and-load.ipynb).\n",
    "\n",
    "## References\n",
    "<a id=\"1\">[1]</a> A. Metzger, P. Leitner, D. Ivanovic, E. Schmieders, R. Franklin, M. Carro, S. Dustdar, and K. Pohl, “ Comparing and combining predictive business process monitoring techniques,” IEEE Trans. on Systems Man Cybernetics: Systems, 2015.\n"
   ]
  },
  {
   "cell_type": "code",
   "execution_count": 1,
   "metadata": {
    "pycharm": {
     "name": "#%%\n"
    }
   },
   "outputs": [],
   "source": [
    "import pandas as pd\n",
    "import numpy as np\n",
    "import statsmodels.api as sm"
   ]
  },
  {
   "cell_type": "markdown",
   "source": [
    "## Connect to Neo4j Graph Data Science"
   ],
   "metadata": {
    "collapsed": false,
    "pycharm": {
     "name": "#%% md\n"
    }
   }
  },
  {
   "cell_type": "code",
   "execution_count": 2,
   "metadata": {
    "pycharm": {
     "name": "#%%\n"
    }
   },
   "outputs": [],
   "source": [
    "from graphdatascience import GraphDataScience\n",
    "\n",
    "# Use Neo4j URI and credentials according to your setup\n",
    "gds = GraphDataScience('neo4j://localhost', auth=('neo4j', 'neo'))"
   ]
  },
  {
   "cell_type": "markdown",
   "source": [
    "## Collapse Graph Data Model with `SENDS_TO` Relationships\n",
    "Relationships going directly to/from airport nodes will allow for more direct calculation of centrality and community metrics according to transport routes."
   ],
   "metadata": {
    "collapsed": false,
    "pycharm": {
     "name": "#%% md\n"
    }
   }
  },
  {
   "cell_type": "code",
   "execution_count": 3,
   "outputs": [
    {
     "data": {
      "text/plain": "   count(s)\n0      1205",
      "text/html": "<div>\n<style scoped>\n    .dataframe tbody tr th:only-of-type {\n        vertical-align: middle;\n    }\n\n    .dataframe tbody tr th {\n        vertical-align: top;\n    }\n\n    .dataframe thead th {\n        text-align: right;\n    }\n</style>\n<table border=\"1\" class=\"dataframe\">\n  <thead>\n    <tr style=\"text-align: right;\">\n      <th></th>\n      <th>count(s)</th>\n    </tr>\n  </thead>\n  <tbody>\n    <tr>\n      <th>0</th>\n      <td>1205</td>\n    </tr>\n  </tbody>\n</table>\n</div>"
     },
     "execution_count": 3,
     "metadata": {},
     "output_type": "execute_result"
    }
   ],
   "source": [
    "gds.run_cypher('''\n",
    "    MATCH(a1:Airport)<-[:LOCATED_AT]-(d1:DeparturePoint)-[r:TRANSPORT]->(d2:ArrivalWarehouse)-[:LOCATED_AT]->(a2:Airport)\n",
    "    WITH a1, a2, count(r) AS flightCount\n",
    "    MERGE (a1)-[s:SENDS_TO]->(a2)\n",
    "    SET s.flightCount = flightCount\n",
    "    RETURN count(s)\n",
    "''')"
   ],
   "metadata": {
    "collapsed": false,
    "pycharm": {
     "name": "#%%\n"
    }
   }
  },
  {
   "cell_type": "markdown",
   "source": [
    "## Identifying and Interpreting Graph Based Metrics for Supply Chains\n",
    "\n",
    "In [part I](https://neo4j.com/developer-blog/supply-chain-neo4j-gds-bloom/), we learned about graph algorithms relevant to supply chain analytics.  Below is a summary for how to interpret the results of these algorithms.  I will also add an additional centrality algorithm that we didn’t cover in part I called Eigenvector centrality.\n",
    "\n",
    "\n",
    "- [Degree Centrality](https://neo4j.com/docs/graph-data-science/current/algorithms/degree-centrality) measures the __*operational load*__ for stages in your supply chain.  Stages with high operational load have to manage larger inflows and outflows and may be forced to reconcile conflicting schedules and priorities more often[[2]](#2). All else held constant, stages with higher operational load tend to __*require more resources*__ to run effectively.\n",
    "\n",
    "- [Betweenness Centrality](https://neo4j.com/docs/graph-data-science/current/algorithms/betweenness-centrality/) measures the __*flow control*__ for stages in distribution and logistics networks. Stages with high Betweenness Centrality have more control over the flow of material and/or product because they connect many other stages together that may otherwise be disconnected or connected through much longer less efficient paths[[2]](#2). All else held constant, stages with higher flow control present __*higher risk for causing bottlenecks*__ in supply chains if they encounter delays or other issues.\n",
    "\n",
    "- [Eigenvector Centrality](https://neo4j.com/docs/graph-data-science/current/algorithms/eigenvector-centrality/) measures the __*transitive influence*__ of stages in a supply chain[[2]](#2).  Stages with high Eigenvector Centrality are depended upon by other critical stages. These stages have high transitive influence because delays or other performance issues for these stages have a __*higher risk of carrying over or propagating to other critical stages*__ in the supply chain.\n",
    "\n",
    "- [Louvain Community Detection](https://neo4j.com/docs/graph-data-science/current/algorithms/louvain/) finds __*regional interdependence*__  within the supply chain network by identifying groups of stages which have highly interconnected flows between them.  All else held constant, Stages within the same group have a stronger interdependence on each other relative to stages outside the group.\n",
    "\n",
    "<a id=\"1\">[2]</a> Christian Wallmann, Markus Gerschberger, The association between network centrality measures and supply chain performance: The case of distribution networks, Procedia Computer Science, Volume 180, 2021, Pages 172-179, ISSN 1877-0509, https://doi.org/10.1016/j.procs.2021.01.153."
   ],
   "metadata": {
    "collapsed": false,
    "pycharm": {
     "name": "#%% md\n"
    }
   }
  },
  {
   "cell_type": "markdown",
   "source": [
    "## Calculating Centrality Metrics Using Neo4j Graph Data Science"
   ],
   "metadata": {
    "collapsed": false
   }
  },
  {
   "cell_type": "code",
   "execution_count": 4,
   "outputs": [],
   "source": [
    "# Create the in-memory graph projection\n",
    "g, _ = gds.graph.project('proj', 'Airport', {'SENDS_TO':{'properties':['flightCount']}})"
   ],
   "metadata": {
    "collapsed": false,
    "pycharm": {
     "name": "#%%\n"
    }
   }
  },
  {
   "cell_type": "code",
   "execution_count": 5,
   "outputs": [],
   "source": [
    "# calculate and write out-degree centrality\n",
    "gds.degree.write(g,relationshipWeightProperty='flightCount', writeProperty='outDegreeCentrality')\n",
    "# calculate and write betweenness centrality\n",
    "gds.betweenness.write(g, writeProperty='betweennessCentrality')\n",
    "#calculate and write eigenvector centrality\n",
    "gds.eigenvector.write(g,relationshipWeightProperty='flightCount', writeProperty='eigenvectorCentrality')\n",
    "# drop the projected in-memory graph\n",
    "g.drop()"
   ],
   "metadata": {
    "collapsed": false,
    "pycharm": {
     "name": "#%%\n"
    }
   }
  },
  {
   "cell_type": "markdown",
   "source": [
    "## Calculate In-Degree Centrality on REVERSED Orientation"
   ],
   "metadata": {
    "collapsed": false
   }
  },
  {
   "cell_type": "code",
   "execution_count": 6,
   "outputs": [],
   "source": [
    "g, _ = gds.graph.project('proj', 'Airport', {'SENDS_TO':{'orientation':'REVERSE', 'properties':['flightCount']}})\n",
    "gds.degree.write(g,relationshipWeightProperty='flightCount', writeProperty='inDegreeCentrality')\n",
    "g.drop()"
   ],
   "metadata": {
    "collapsed": false,
    "pycharm": {
     "name": "#%%\n"
    }
   }
  },
  {
   "cell_type": "markdown",
   "source": [
    "## Top 5 Airports for Each Centrality Metric"
   ],
   "metadata": {
    "collapsed": false
   }
  },
  {
   "cell_type": "code",
   "execution_count": 7,
   "outputs": [
    {
     "name": "stdout",
     "output_type": "stream",
     "text": [
      "\n",
      "=======================================\n",
      "Top 5 Airports for betweennessCentrality\n",
      "   airportId         name  betweennessCentrality\n",
      "0        349  Richardberg           11579.601583\n",
      "1        128    Shanefort           10715.139355\n",
      "2        700    Davisfort            5178.707487\n",
      "3        815    Moodytown            4471.174851\n",
      "4        555  Masseyhaven            3722.941825\n",
      "\n",
      "=======================================\n",
      "Top 5 Airports for outDegreeCentrality\n",
      "   airportId         name  outDegreeCentrality\n",
      "0        815    Moodytown               2240.0\n",
      "1        128    Shanefort               2195.0\n",
      "2        700    Davisfort               2003.0\n",
      "3        349  Richardberg               1104.0\n",
      "4        485  Michaelstad                711.0\n",
      "\n",
      "=======================================\n",
      "Top 5 Airports for inDegreeCentrality\n",
      "   airportId         name  inDegreeCentrality\n",
      "0        700    Davisfort              2205.0\n",
      "1        128    Shanefort              1839.0\n",
      "2        349  Richardberg              1312.0\n",
      "3        815    Moodytown              1091.0\n",
      "4        485  Michaelstad               758.0\n",
      "\n",
      "=======================================\n",
      "Top 5 Airports for eigenvectorCentrality\n",
      "   airportId         name  eigenvectorCentrality\n",
      "0        700    Davisfort               0.643818\n",
      "1        349  Richardberg               0.455872\n",
      "2        128    Shanefort               0.439031\n",
      "3        815    Moodytown               0.255747\n",
      "4        671    Scotttown               0.132667\n"
     ]
    }
   ],
   "source": [
    "metrics = ['betweennessCentrality', 'outDegreeCentrality', 'inDegreeCentrality', 'eigenvectorCentrality']\n",
    "top_n = 5\n",
    "for metric in metrics:\n",
    "    print('\\n=======================================')\n",
    "    print(f'Top {top_n} Airports for {metric}')\n",
    "    print(gds.run_cypher(f'''\n",
    "        MATCH(a:Airport)\n",
    "        RETURN a.airportId AS airportId, a.name AS name, a.{metric} AS {metric}\n",
    "        ORDER BY {metric} DESC LIMIT {top_n}\n",
    "    '''))"
   ],
   "metadata": {
    "collapsed": false,
    "pycharm": {
     "name": "#%%\n"
    }
   }
  },
  {
   "cell_type": "code",
   "execution_count": 8,
   "outputs": [
    {
     "data": {
      "text/plain": "   airportId         name  betweennessCentrality  outDegreeCentrality  \\\n0        349  Richardberg           11579.601583               1104.0   \n1        128    Shanefort           10715.139355               2195.0   \n2        700    Davisfort            5178.707487               2003.0   \n3        815    Moodytown            4471.174851               2240.0   \n4        555  Masseyhaven            3722.941825                275.0   \n\n   inDegreeCentrality  eigenvectorCentrality  \n0              1312.0               0.455872  \n1              1839.0               0.439031  \n2              2205.0               0.643818  \n3              1091.0               0.255747  \n4               204.0               0.046118  ",
      "text/html": "<div>\n<style scoped>\n    .dataframe tbody tr th:only-of-type {\n        vertical-align: middle;\n    }\n\n    .dataframe tbody tr th {\n        vertical-align: top;\n    }\n\n    .dataframe thead th {\n        text-align: right;\n    }\n</style>\n<table border=\"1\" class=\"dataframe\">\n  <thead>\n    <tr style=\"text-align: right;\">\n      <th></th>\n      <th>airportId</th>\n      <th>name</th>\n      <th>betweennessCentrality</th>\n      <th>outDegreeCentrality</th>\n      <th>inDegreeCentrality</th>\n      <th>eigenvectorCentrality</th>\n    </tr>\n  </thead>\n  <tbody>\n    <tr>\n      <th>0</th>\n      <td>349</td>\n      <td>Richardberg</td>\n      <td>11579.601583</td>\n      <td>1104.0</td>\n      <td>1312.0</td>\n      <td>0.455872</td>\n    </tr>\n    <tr>\n      <th>1</th>\n      <td>128</td>\n      <td>Shanefort</td>\n      <td>10715.139355</td>\n      <td>2195.0</td>\n      <td>1839.0</td>\n      <td>0.439031</td>\n    </tr>\n    <tr>\n      <th>2</th>\n      <td>700</td>\n      <td>Davisfort</td>\n      <td>5178.707487</td>\n      <td>2003.0</td>\n      <td>2205.0</td>\n      <td>0.643818</td>\n    </tr>\n    <tr>\n      <th>3</th>\n      <td>815</td>\n      <td>Moodytown</td>\n      <td>4471.174851</td>\n      <td>2240.0</td>\n      <td>1091.0</td>\n      <td>0.255747</td>\n    </tr>\n    <tr>\n      <th>4</th>\n      <td>555</td>\n      <td>Masseyhaven</td>\n      <td>3722.941825</td>\n      <td>275.0</td>\n      <td>204.0</td>\n      <td>0.046118</td>\n    </tr>\n  </tbody>\n</table>\n</div>"
     },
     "execution_count": 8,
     "metadata": {},
     "output_type": "execute_result"
    }
   ],
   "source": [
    "#combined into a single table for top 5 betweenness centrality\n",
    "gds.run_cypher(f'''\n",
    "        MATCH(a:Airport)\n",
    "        RETURN a.airportId AS airportId, a.name AS name,\n",
    "            a.betweennessCentrality AS betweennessCentrality,\n",
    "            a.outDegreeCentrality AS outDegreeCentrality,\n",
    "            a.inDegreeCentrality AS inDegreeCentrality,\n",
    "            a.eigenvectorCentrality AS eigenvectorCentrality\n",
    "        ORDER BY betweennessCentrality DESC LIMIT {top_n}\n",
    "''')"
   ],
   "metadata": {
    "collapsed": false,
    "pycharm": {
     "name": "#%%\n"
    }
   }
  },
  {
   "cell_type": "markdown",
   "source": [
    "## Louvain Communities (\"Regions\") on UNDIRECTED Orientation"
   ],
   "metadata": {
    "collapsed": false
   }
  },
  {
   "cell_type": "code",
   "execution_count": 9,
   "outputs": [],
   "source": [
    "g, _ = gds.graph.project('proj', 'Airport', {'SENDS_TO':{'orientation':'UNDIRECTED', 'properties':['flightCount']}})\n",
    "gds.louvain.write(g, relationshipWeightProperty='flightCount', writeProperty='louvainId')\n",
    "g.drop()"
   ],
   "metadata": {
    "collapsed": false,
    "pycharm": {
     "name": "#%%\n"
    }
   }
  },
  {
   "cell_type": "code",
   "execution_count": 10,
   "outputs": [
    {
     "data": {
      "text/plain": "   count(a)\n0       237",
      "text/html": "<div>\n<style scoped>\n    .dataframe tbody tr th:only-of-type {\n        vertical-align: middle;\n    }\n\n    .dataframe tbody tr th {\n        vertical-align: top;\n    }\n\n    .dataframe thead th {\n        text-align: right;\n    }\n</style>\n<table border=\"1\" class=\"dataframe\">\n  <thead>\n    <tr style=\"text-align: right;\">\n      <th></th>\n      <th>count(a)</th>\n    </tr>\n  </thead>\n  <tbody>\n    <tr>\n      <th>0</th>\n      <td>237</td>\n    </tr>\n  </tbody>\n</table>\n</div>"
     },
     "execution_count": 10,
     "metadata": {},
     "output_type": "execute_result"
    }
   ],
   "source": [
    "# Relabel Louvain Communities (a.k.a. Regions) by the highest betweenness centrality airport name\n",
    "gds.run_cypher('''\n",
    "    MATCH (a:Airport)\n",
    "    WITH a.louvainId AS louvainId, max(a.betweennessCentrality) as maxBC\n",
    "    MATCH(a:Airport) WHERE a.betweennessCentrality = maxBC\n",
    "    WITH a.name as regionLabel, louvainId\n",
    "    MATCH(a:Airport) WHERE a.louvainId=louvainId\n",
    "    SET a.regionLabel = regionLabel\n",
    "    RETURN count(a)\n",
    "''')"
   ],
   "metadata": {
    "collapsed": false,
    "pycharm": {
     "name": "#%%\n"
    }
   }
  },
  {
   "cell_type": "code",
   "execution_count": 11,
   "outputs": [
    {
     "data": {
      "text/plain": "        region  numberOfAirports\n0    Davisfort                32\n1  Masseyhaven                50\n2    Moodytown                51\n3  Richardberg                48\n4    Shanefort                56",
      "text/html": "<div>\n<style scoped>\n    .dataframe tbody tr th:only-of-type {\n        vertical-align: middle;\n    }\n\n    .dataframe tbody tr th {\n        vertical-align: top;\n    }\n\n    .dataframe thead th {\n        text-align: right;\n    }\n</style>\n<table border=\"1\" class=\"dataframe\">\n  <thead>\n    <tr style=\"text-align: right;\">\n      <th></th>\n      <th>region</th>\n      <th>numberOfAirports</th>\n    </tr>\n  </thead>\n  <tbody>\n    <tr>\n      <th>0</th>\n      <td>Davisfort</td>\n      <td>32</td>\n    </tr>\n    <tr>\n      <th>1</th>\n      <td>Masseyhaven</td>\n      <td>50</td>\n    </tr>\n    <tr>\n      <th>2</th>\n      <td>Moodytown</td>\n      <td>51</td>\n    </tr>\n    <tr>\n      <th>3</th>\n      <td>Richardberg</td>\n      <td>48</td>\n    </tr>\n    <tr>\n      <th>4</th>\n      <td>Shanefort</td>\n      <td>56</td>\n    </tr>\n  </tbody>\n</table>\n</div>"
     },
     "execution_count": 11,
     "metadata": {},
     "output_type": "execute_result"
    }
   ],
   "source": [
    "# Count the number of airports in each region\n",
    "gds.run_cypher('''\n",
    "    MATCH (a:Airport)\n",
    "    RETURN a.regionLabel as region, count(a) AS numberOfAirports\n",
    "    ORDER BY region\n",
    "''')"
   ],
   "metadata": {
    "collapsed": false,
    "pycharm": {
     "name": "#%%\n"
    }
   }
  },
  {
   "cell_type": "markdown",
   "source": [
    "## Using Graph Algorithms for Downstream Inference"
   ],
   "metadata": {
    "collapsed": false,
    "pycharm": {
     "name": "#%% md\n"
    }
   }
  },
  {
   "cell_type": "code",
   "execution_count": 12,
   "outputs": [],
   "source": [
    "# get the data\n",
    "DELAY_CUTOFF = 30.0\n",
    "df_raw = gds.run_cypher('''\n",
    "    MATCH(a:Airport)<-[:LOCATED_AT]-()<-[r:TRANSPORT]-()-[:LOCATED_AT]->(b)\n",
    "    WITH a, toInteger((r.effectiveMinutes-r.plannedMinutes) > $delayCutoff) AS wasDelayed,\n",
    "        r.effectiveMinutes-r.plannedMinutes as delay,\n",
    "        toInteger(a.regionLabel <> b.regionLabel) AS interRegion,\n",
    "        b.outDegreeCentrality AS sourceOutDegree,\n",
    "        b.name AS sourceName,\n",
    "        b.airportId as sourceAirportId\n",
    "    RETURN a.airportId as airportId,\n",
    "        a.name AS name,\n",
    "        sourceAirportId,\n",
    "        sourceName,\n",
    "        wasDelayed,\n",
    "        delay,\n",
    "        interRegion,\n",
    "        sourceOutDegree,\n",
    "        a.inDegreeCentrality AS inDegreeCentrality,\n",
    "        a.outDegreeCentrality AS outDegreeCentrality,\n",
    "        a.betweennessCentrality AS betweennessCentrality,\n",
    "        a.eigenvectorCentrality AS eigenvectorCentrality,\n",
    "        a.regionLabel AS regionLabel\n",
    "''', params = {'delayCutoff': DELAY_CUTOFF})"
   ],
   "metadata": {
    "collapsed": false,
    "pycharm": {
     "name": "#%%\n"
    }
   }
  },
  {
   "cell_type": "code",
   "execution_count": 13,
   "outputs": [
    {
     "data": {
      "text/plain": "0    13984\n1     2183\nName: wasDelayed, dtype: int64"
     },
     "execution_count": 13,
     "metadata": {},
     "output_type": "execute_result"
    }
   ],
   "source": [
    "df_raw.wasDelayed.value_counts()"
   ],
   "metadata": {
    "collapsed": false,
    "pycharm": {
     "name": "#%%\n"
    }
   }
  },
  {
   "cell_type": "code",
   "execution_count": 14,
   "outputs": [],
   "source": [
    "# subsample to airports with 100 or more arrivals\n",
    "airports = df_raw.airportId.value_counts()\n",
    "df = df_raw[df_raw.airportId.isin(airports[airports >= 100].index.to_list())]"
   ],
   "metadata": {
    "collapsed": false,
    "pycharm": {
     "name": "#%%\n"
    }
   }
  },
  {
   "cell_type": "code",
   "execution_count": 15,
   "outputs": [],
   "source": [
    "# create airport fixed effects and intercept\n",
    "df = pd.concat([df, pd.get_dummies(df.airportId, drop_first=True, prefix='airport')], axis=1)\n",
    "df['intercept'] = 1"
   ],
   "metadata": {
    "collapsed": false,
    "pycharm": {
     "name": "#%%\n"
    }
   }
  },
  {
   "cell_type": "code",
   "execution_count": 16,
   "outputs": [],
   "source": [
    "#log centrality variables\n",
    "df['logBetweenness'] = np.log(df.betweennessCentrality + 1.0)\n",
    "df['logEigenvector'] = np.log(df.eigenvectorCentrality + 1.0)\n",
    "df['logInDegree'] = np.log(df.inDegreeCentrality + 1.0)\n",
    "df['logOutDegree'] = np.log(df.outDegreeCentrality + 1.0)\n",
    "df['logSourceOutDegree'] = np.log(df.sourceOutDegree + 1.0)"
   ],
   "metadata": {
    "collapsed": false,
    "pycharm": {
     "name": "#%%\n"
    }
   }
  },
  {
   "cell_type": "code",
   "execution_count": 17,
   "outputs": [
    {
     "data": {
      "text/plain": "0    11084\n1     1678\nName: wasDelayed, dtype: int64"
     },
     "execution_count": 17,
     "metadata": {},
     "output_type": "execute_result"
    }
   ],
   "source": [
    "# check final class balance\n",
    "df.wasDelayed.value_counts()"
   ],
   "metadata": {
    "collapsed": false,
    "pycharm": {
     "name": "#%%\n"
    }
   }
  },
  {
   "cell_type": "code",
   "execution_count": 18,
   "outputs": [
    {
     "data": {
      "text/plain": "       airportId         name  sourceAirportId   sourceName  wasDelayed  \\\n105          527    Bryanside              609  Paulchester           0   \n106          527    Bryanside              128    Shanefort           1   \n107          527    Bryanside              128    Shanefort           0   \n108          527    Bryanside              700    Davisfort           0   \n109          527    Bryanside              815    Moodytown           0   \n...          ...          ...              ...          ...         ...   \n16099        485  Michaelstad              815    Moodytown           0   \n16100        485  Michaelstad              815    Moodytown           0   \n16101        485  Michaelstad              815    Moodytown           0   \n16102        485  Michaelstad              815    Moodytown           0   \n16103        485  Michaelstad              815    Moodytown           0   \n\n       delay  interRegion  sourceOutDegree  inDegreeCentrality  \\\n105     -120            0            295.0               178.0   \n106      171            1           2195.0               178.0   \n107       10            1           2195.0               178.0   \n108     -402            1           2003.0               178.0   \n109      -94            0           2240.0               178.0   \n...      ...          ...              ...                 ...   \n16099    -64            0           2240.0               758.0   \n16100   -129            0           2240.0               758.0   \n16101    -46            0           2240.0               758.0   \n16102    -77            0           2240.0               758.0   \n16103    -28            0           2240.0               758.0   \n\n       outDegreeCentrality  ...  airport_742  airport_770 airport_809  \\\n105                  101.0  ...            0            0           0   \n106                  101.0  ...            0            0           0   \n107                  101.0  ...            0            0           0   \n108                  101.0  ...            0            0           0   \n109                  101.0  ...            0            0           0   \n...                    ...  ...          ...          ...         ...   \n16099                711.0  ...            0            0           0   \n16100                711.0  ...            0            0           0   \n16101                711.0  ...            0            0           0   \n16102                711.0  ...            0            0           0   \n16103                711.0  ...            0            0           0   \n\n       airport_815  intercept  logBetweenness  logEigenvector  logInDegree  \\\n105              0          1        4.904083        0.030287     5.187386   \n106              0          1        4.904083        0.030287     5.187386   \n107              0          1        4.904083        0.030287     5.187386   \n108              0          1        4.904083        0.030287     5.187386   \n109              0          1        4.904083        0.030287     5.187386   \n...            ...        ...             ...             ...          ...   \n16099            0          1        7.482514        0.124103     6.632002   \n16100            0          1        7.482514        0.124103     6.632002   \n16101            0          1        7.482514        0.124103     6.632002   \n16102            0          1        7.482514        0.124103     6.632002   \n16103            0          1        7.482514        0.124103     6.632002   \n\n       logOutDegree  logSourceOutDegree  \n105        4.624973            5.690359  \n106        4.624973            7.694393  \n107        4.624973            7.694393  \n108        4.624973            7.602900  \n109        4.624973            7.714677  \n...             ...                 ...  \n16099      6.568078            7.714677  \n16100      6.568078            7.714677  \n16101      6.568078            7.714677  \n16102      6.568078            7.714677  \n16103      6.568078            7.714677  \n\n[12762 rows x 53 columns]",
      "text/html": "<div>\n<style scoped>\n    .dataframe tbody tr th:only-of-type {\n        vertical-align: middle;\n    }\n\n    .dataframe tbody tr th {\n        vertical-align: top;\n    }\n\n    .dataframe thead th {\n        text-align: right;\n    }\n</style>\n<table border=\"1\" class=\"dataframe\">\n  <thead>\n    <tr style=\"text-align: right;\">\n      <th></th>\n      <th>airportId</th>\n      <th>name</th>\n      <th>sourceAirportId</th>\n      <th>sourceName</th>\n      <th>wasDelayed</th>\n      <th>delay</th>\n      <th>interRegion</th>\n      <th>sourceOutDegree</th>\n      <th>inDegreeCentrality</th>\n      <th>outDegreeCentrality</th>\n      <th>...</th>\n      <th>airport_742</th>\n      <th>airport_770</th>\n      <th>airport_809</th>\n      <th>airport_815</th>\n      <th>intercept</th>\n      <th>logBetweenness</th>\n      <th>logEigenvector</th>\n      <th>logInDegree</th>\n      <th>logOutDegree</th>\n      <th>logSourceOutDegree</th>\n    </tr>\n  </thead>\n  <tbody>\n    <tr>\n      <th>105</th>\n      <td>527</td>\n      <td>Bryanside</td>\n      <td>609</td>\n      <td>Paulchester</td>\n      <td>0</td>\n      <td>-120</td>\n      <td>0</td>\n      <td>295.0</td>\n      <td>178.0</td>\n      <td>101.0</td>\n      <td>...</td>\n      <td>0</td>\n      <td>0</td>\n      <td>0</td>\n      <td>0</td>\n      <td>1</td>\n      <td>4.904083</td>\n      <td>0.030287</td>\n      <td>5.187386</td>\n      <td>4.624973</td>\n      <td>5.690359</td>\n    </tr>\n    <tr>\n      <th>106</th>\n      <td>527</td>\n      <td>Bryanside</td>\n      <td>128</td>\n      <td>Shanefort</td>\n      <td>1</td>\n      <td>171</td>\n      <td>1</td>\n      <td>2195.0</td>\n      <td>178.0</td>\n      <td>101.0</td>\n      <td>...</td>\n      <td>0</td>\n      <td>0</td>\n      <td>0</td>\n      <td>0</td>\n      <td>1</td>\n      <td>4.904083</td>\n      <td>0.030287</td>\n      <td>5.187386</td>\n      <td>4.624973</td>\n      <td>7.694393</td>\n    </tr>\n    <tr>\n      <th>107</th>\n      <td>527</td>\n      <td>Bryanside</td>\n      <td>128</td>\n      <td>Shanefort</td>\n      <td>0</td>\n      <td>10</td>\n      <td>1</td>\n      <td>2195.0</td>\n      <td>178.0</td>\n      <td>101.0</td>\n      <td>...</td>\n      <td>0</td>\n      <td>0</td>\n      <td>0</td>\n      <td>0</td>\n      <td>1</td>\n      <td>4.904083</td>\n      <td>0.030287</td>\n      <td>5.187386</td>\n      <td>4.624973</td>\n      <td>7.694393</td>\n    </tr>\n    <tr>\n      <th>108</th>\n      <td>527</td>\n      <td>Bryanside</td>\n      <td>700</td>\n      <td>Davisfort</td>\n      <td>0</td>\n      <td>-402</td>\n      <td>1</td>\n      <td>2003.0</td>\n      <td>178.0</td>\n      <td>101.0</td>\n      <td>...</td>\n      <td>0</td>\n      <td>0</td>\n      <td>0</td>\n      <td>0</td>\n      <td>1</td>\n      <td>4.904083</td>\n      <td>0.030287</td>\n      <td>5.187386</td>\n      <td>4.624973</td>\n      <td>7.602900</td>\n    </tr>\n    <tr>\n      <th>109</th>\n      <td>527</td>\n      <td>Bryanside</td>\n      <td>815</td>\n      <td>Moodytown</td>\n      <td>0</td>\n      <td>-94</td>\n      <td>0</td>\n      <td>2240.0</td>\n      <td>178.0</td>\n      <td>101.0</td>\n      <td>...</td>\n      <td>0</td>\n      <td>0</td>\n      <td>0</td>\n      <td>0</td>\n      <td>1</td>\n      <td>4.904083</td>\n      <td>0.030287</td>\n      <td>5.187386</td>\n      <td>4.624973</td>\n      <td>7.714677</td>\n    </tr>\n    <tr>\n      <th>...</th>\n      <td>...</td>\n      <td>...</td>\n      <td>...</td>\n      <td>...</td>\n      <td>...</td>\n      <td>...</td>\n      <td>...</td>\n      <td>...</td>\n      <td>...</td>\n      <td>...</td>\n      <td>...</td>\n      <td>...</td>\n      <td>...</td>\n      <td>...</td>\n      <td>...</td>\n      <td>...</td>\n      <td>...</td>\n      <td>...</td>\n      <td>...</td>\n      <td>...</td>\n      <td>...</td>\n    </tr>\n    <tr>\n      <th>16099</th>\n      <td>485</td>\n      <td>Michaelstad</td>\n      <td>815</td>\n      <td>Moodytown</td>\n      <td>0</td>\n      <td>-64</td>\n      <td>0</td>\n      <td>2240.0</td>\n      <td>758.0</td>\n      <td>711.0</td>\n      <td>...</td>\n      <td>0</td>\n      <td>0</td>\n      <td>0</td>\n      <td>0</td>\n      <td>1</td>\n      <td>7.482514</td>\n      <td>0.124103</td>\n      <td>6.632002</td>\n      <td>6.568078</td>\n      <td>7.714677</td>\n    </tr>\n    <tr>\n      <th>16100</th>\n      <td>485</td>\n      <td>Michaelstad</td>\n      <td>815</td>\n      <td>Moodytown</td>\n      <td>0</td>\n      <td>-129</td>\n      <td>0</td>\n      <td>2240.0</td>\n      <td>758.0</td>\n      <td>711.0</td>\n      <td>...</td>\n      <td>0</td>\n      <td>0</td>\n      <td>0</td>\n      <td>0</td>\n      <td>1</td>\n      <td>7.482514</td>\n      <td>0.124103</td>\n      <td>6.632002</td>\n      <td>6.568078</td>\n      <td>7.714677</td>\n    </tr>\n    <tr>\n      <th>16101</th>\n      <td>485</td>\n      <td>Michaelstad</td>\n      <td>815</td>\n      <td>Moodytown</td>\n      <td>0</td>\n      <td>-46</td>\n      <td>0</td>\n      <td>2240.0</td>\n      <td>758.0</td>\n      <td>711.0</td>\n      <td>...</td>\n      <td>0</td>\n      <td>0</td>\n      <td>0</td>\n      <td>0</td>\n      <td>1</td>\n      <td>7.482514</td>\n      <td>0.124103</td>\n      <td>6.632002</td>\n      <td>6.568078</td>\n      <td>7.714677</td>\n    </tr>\n    <tr>\n      <th>16102</th>\n      <td>485</td>\n      <td>Michaelstad</td>\n      <td>815</td>\n      <td>Moodytown</td>\n      <td>0</td>\n      <td>-77</td>\n      <td>0</td>\n      <td>2240.0</td>\n      <td>758.0</td>\n      <td>711.0</td>\n      <td>...</td>\n      <td>0</td>\n      <td>0</td>\n      <td>0</td>\n      <td>0</td>\n      <td>1</td>\n      <td>7.482514</td>\n      <td>0.124103</td>\n      <td>6.632002</td>\n      <td>6.568078</td>\n      <td>7.714677</td>\n    </tr>\n    <tr>\n      <th>16103</th>\n      <td>485</td>\n      <td>Michaelstad</td>\n      <td>815</td>\n      <td>Moodytown</td>\n      <td>0</td>\n      <td>-28</td>\n      <td>0</td>\n      <td>2240.0</td>\n      <td>758.0</td>\n      <td>711.0</td>\n      <td>...</td>\n      <td>0</td>\n      <td>0</td>\n      <td>0</td>\n      <td>0</td>\n      <td>1</td>\n      <td>7.482514</td>\n      <td>0.124103</td>\n      <td>6.632002</td>\n      <td>6.568078</td>\n      <td>7.714677</td>\n    </tr>\n  </tbody>\n</table>\n<p>12762 rows × 53 columns</p>\n</div>"
     },
     "execution_count": 18,
     "metadata": {},
     "output_type": "execute_result"
    }
   ],
   "source": [
    "df"
   ],
   "metadata": {
    "collapsed": false,
    "pycharm": {
     "name": "#%%\n"
    }
   }
  },
  {
   "cell_type": "code",
   "execution_count": 19,
   "outputs": [
    {
     "name": "stdout",
     "output_type": "stream",
     "text": [
      "Optimization terminated successfully.\n",
      "         Current function value: 0.339952\n",
      "         Iterations 16\n",
      "                           Logit Regression Results                           \n",
      "==============================================================================\n",
      "Dep. Variable:             wasDelayed   No. Observations:                12762\n",
      "Model:                          Logit   Df Residuals:                    12724\n",
      "Method:                           MLE   Df Model:                           37\n",
      "Date:                Wed, 06 Jul 2022   Pseudo R-squ.:                  0.1265\n",
      "Time:                        09:12:16   Log-Likelihood:                -4338.5\n",
      "converged:                       True   LL-Null:                       -4966.9\n",
      "Covariance Type:              cluster   LLR p-value:                7.299e-240\n",
      "======================================================================================\n",
      "                         coef    std err          z      P>|z|      [0.025      0.975]\n",
      "--------------------------------------------------------------------------------------\n",
      "logBetweenness         0.1269      0.018      7.171      0.000       0.092       0.162\n",
      "logInDegree           -0.7119      0.015    -46.010      0.000      -0.742      -0.682\n",
      "logOutDegree           0.4306      0.020     21.867      0.000       0.392       0.469\n",
      "logEigenvector         0.1975      0.785      0.252      0.801      -1.341       1.736\n",
      "interRegion            0.2067      0.153      1.353      0.176      -0.093       0.506\n",
      "logSourceOutDegree    -0.1396      0.050     -2.791      0.005      -0.238      -0.042\n",
      "intercept             -0.7189      0.304     -2.368      0.018      -1.314      -0.124\n",
      "airport_128            1.0382      0.229      4.540      0.000       0.590       1.486\n",
      "airport_134            1.0763      0.151      7.106      0.000       0.779       1.373\n",
      "airport_144           -0.0207      0.185     -0.111      0.911      -0.384       0.343\n",
      "airport_149            1.1575      0.176      6.587      0.000       0.813       1.502\n",
      "airport_174           -1.1911      0.128     -9.291      0.000      -1.442      -0.940\n",
      "airport_187           -0.7006      0.039    -17.968      0.000      -0.777      -0.624\n",
      "airport_206           -0.0796      0.093     -0.856      0.392      -0.262       0.103\n",
      "airport_233            0.3521      0.190      1.849      0.065      -0.021       0.725\n",
      "airport_256            0.2509      0.214      1.173      0.241      -0.168       0.670\n",
      "airport_257            0.4149      0.050      8.315      0.000       0.317       0.513\n",
      "airport_281            0.8801      0.171      5.156      0.000       0.546       1.215\n",
      "airport_308           -0.9101      0.211     -4.314      0.000      -1.324      -0.497\n",
      "airport_349            1.2685      0.244      5.208      0.000       0.791       1.746\n",
      "airport_371           -1.4616      0.144    -10.123      0.000      -1.745      -1.179\n",
      "airport_403           -1.0207      0.174     -5.863      0.000      -1.362      -0.680\n",
      "airport_411           -0.0623      0.127     -0.490      0.624      -0.312       0.187\n",
      "airport_413           -1.4090      0.139    -10.112      0.000      -1.682      -1.136\n",
      "airport_431            0.2579      0.184      1.400      0.162      -0.103       0.619\n",
      "airport_441           -1.3060      0.156     -8.360      0.000      -1.612      -1.000\n",
      "airport_468           -0.2517      0.126     -1.993      0.046      -0.499      -0.004\n",
      "airport_476           -1.8704      0.170    -11.034      0.000      -2.203      -1.538\n",
      "airport_485           -0.1418      0.134     -1.056      0.291      -0.405       0.121\n",
      "airport_527           -0.0787      0.119     -0.658      0.510      -0.313       0.156\n",
      "airport_555           -0.5036      0.244     -2.061      0.039      -0.983      -0.025\n",
      "airport_597            0.8367      0.155      5.381      0.000       0.532       1.141\n",
      "airport_609            0.4087      0.173      2.362      0.018       0.070       0.748\n",
      "airport_610            1.5302      0.148     10.363      0.000       1.241       1.820\n",
      "airport_628            0.9791      0.091     10.720      0.000       0.800       1.158\n",
      "airport_671            0.4609      0.138      3.334      0.001       0.190       0.732\n",
      "airport_700           -1.2407      0.272     -4.558      0.000      -1.774      -0.707\n",
      "airport_742           -0.7260      0.092     -7.902      0.000      -0.906      -0.546\n",
      "airport_770            1.2860      0.114     11.317      0.000       1.063       1.509\n",
      "airport_809           -0.0203      0.168     -0.121      0.904      -0.350       0.310\n",
      "airport_815           -0.6906      0.205     -3.373      0.001      -1.092      -0.289\n",
      "======================================================================================\n"
     ]
    }
   ],
   "source": [
    "# fit tme model\n",
    "x_cols = ['logBetweenness',  'logInDegree', 'logOutDegree',\n",
    "          'logEigenvector', 'interRegion','logSourceOutDegree', 'intercept']\\\n",
    "         + [i for i in df.columns if 'airport_' in i]\n",
    "mod = sm.Logit(df.wasDelayed, df[x_cols])\n",
    "res = mod.fit(cov_type='cluster', maxiter=10000, cov_kwds={'groups': df.airportId})\n",
    "print(res.summary())"
   ],
   "metadata": {
    "collapsed": false,
    "pycharm": {
     "name": "#%%\n"
    }
   }
  },
  {
   "cell_type": "code",
   "execution_count": 20,
   "outputs": [
    {
     "data": {
      "text/plain": "              name      prob\n5965     Davisfort  0.028762\n12175  Richardberg  0.263881",
      "text/html": "<div>\n<style scoped>\n    .dataframe tbody tr th:only-of-type {\n        vertical-align: middle;\n    }\n\n    .dataframe tbody tr th {\n        vertical-align: top;\n    }\n\n    .dataframe thead th {\n        text-align: right;\n    }\n</style>\n<table border=\"1\" class=\"dataframe\">\n  <thead>\n    <tr style=\"text-align: right;\">\n      <th></th>\n      <th>name</th>\n      <th>prob</th>\n    </tr>\n  </thead>\n  <tbody>\n    <tr>\n      <th>5965</th>\n      <td>Davisfort</td>\n      <td>0.028762</td>\n    </tr>\n    <tr>\n      <th>12175</th>\n      <td>Richardberg</td>\n      <td>0.263881</td>\n    </tr>\n  </tbody>\n</table>\n</div>"
     },
     "execution_count": 20,
     "metadata": {},
     "output_type": "execute_result"
    }
   ],
   "source": [
    "# Calculate predict probabilities and compare an example between Davisfort and Richardberg\n",
    "df['prob'] = res.predict(df[x_cols])\n",
    "df.loc[df.name.isin([\"Davisfort\", \"Richardberg\"]) & (df.sourceName == \"Erictown\"),[\"name\", \"prob\"]].drop_duplicates()"
   ],
   "metadata": {
    "collapsed": false,
    "pycharm": {
     "name": "#%%\n"
    }
   }
  },
  {
   "cell_type": "code",
   "execution_count": 20,
   "outputs": [],
   "source": [],
   "metadata": {
    "collapsed": false,
    "pycharm": {
     "name": "#%%\n"
    }
   }
  }
 ],
 "metadata": {
  "kernelspec": {
   "display_name": "Python 3 (ipykernel)",
   "language": "python",
   "name": "python3"
  },
  "language_info": {
   "codemirror_mode": {
    "name": "ipython",
    "version": 3
   },
   "file_extension": ".py",
   "mimetype": "text/x-python",
   "name": "python",
   "nbconvert_exporter": "python",
   "pygments_lexer": "ipython3",
   "version": "3.8.2"
  }
 },
 "nbformat": 4,
 "nbformat_minor": 1
}